{
 "cells": [
  {
   "cell_type": "code",
   "execution_count": 1,
   "id": "db5eaa35-1ef7-4dbb-9a0e-d627e52c7081",
   "metadata": {},
   "outputs": [],
   "source": [
    "import pandas as pd\n",
    "import numpy as np\n",
    "import seaborn as sns\n",
    "import matplotlib.pyplot as plt\n",
    "import re\n",
    "import pickle as pkl"
   ]
  },
  {
   "cell_type": "code",
   "execution_count": 2,
   "id": "a7e4873c-ed69-40b3-8846-ed1516a18dad",
   "metadata": {},
   "outputs": [],
   "source": [
    "df = pd.read_csv(\"Bengaluru_House_Data.csv\")"
   ]
  },
  {
   "cell_type": "markdown",
   "id": "37451256-262d-4d04-b3b4-c5cb718888c2",
   "metadata": {},
   "source": [
    "### Understanding data"
   ]
  },
  {
   "cell_type": "code",
   "execution_count": 3,
   "id": "6d76d570-1ffc-4463-bcd3-9058e59aa5c5",
   "metadata": {},
   "outputs": [
    {
     "data": {
      "text/html": [
       "<div>\n",
       "<style scoped>\n",
       "    .dataframe tbody tr th:only-of-type {\n",
       "        vertical-align: middle;\n",
       "    }\n",
       "\n",
       "    .dataframe tbody tr th {\n",
       "        vertical-align: top;\n",
       "    }\n",
       "\n",
       "    .dataframe thead th {\n",
       "        text-align: right;\n",
       "    }\n",
       "</style>\n",
       "<table border=\"1\" class=\"dataframe\">\n",
       "  <thead>\n",
       "    <tr style=\"text-align: right;\">\n",
       "      <th></th>\n",
       "      <th>area_type</th>\n",
       "      <th>availability</th>\n",
       "      <th>location</th>\n",
       "      <th>size</th>\n",
       "      <th>society</th>\n",
       "      <th>total_sqft</th>\n",
       "      <th>bath</th>\n",
       "      <th>balcony</th>\n",
       "      <th>price</th>\n",
       "    </tr>\n",
       "  </thead>\n",
       "  <tbody>\n",
       "    <tr>\n",
       "      <th>7588</th>\n",
       "      <td>Plot  Area</td>\n",
       "      <td>Ready To Move</td>\n",
       "      <td>Hormavu</td>\n",
       "      <td>4 Bedroom</td>\n",
       "      <td>Prageta</td>\n",
       "      <td>3500</td>\n",
       "      <td>4.0</td>\n",
       "      <td>1.0</td>\n",
       "      <td>289.0</td>\n",
       "    </tr>\n",
       "    <tr>\n",
       "      <th>9678</th>\n",
       "      <td>Super built-up  Area</td>\n",
       "      <td>Ready To Move</td>\n",
       "      <td>Gubbalala</td>\n",
       "      <td>2 BHK</td>\n",
       "      <td>NaN</td>\n",
       "      <td>1060</td>\n",
       "      <td>2.0</td>\n",
       "      <td>1.0</td>\n",
       "      <td>46.0</td>\n",
       "    </tr>\n",
       "    <tr>\n",
       "      <th>5967</th>\n",
       "      <td>Super built-up  Area</td>\n",
       "      <td>18-Apr</td>\n",
       "      <td>Marenahalli</td>\n",
       "      <td>1 BHK</td>\n",
       "      <td>NaN</td>\n",
       "      <td>840</td>\n",
       "      <td>1.0</td>\n",
       "      <td>0.0</td>\n",
       "      <td>75.0</td>\n",
       "    </tr>\n",
       "  </tbody>\n",
       "</table>\n",
       "</div>"
      ],
      "text/plain": [
       "                 area_type   availability     location       size  society  \\\n",
       "7588            Plot  Area  Ready To Move      Hormavu  4 Bedroom  Prageta   \n",
       "9678  Super built-up  Area  Ready To Move    Gubbalala      2 BHK      NaN   \n",
       "5967  Super built-up  Area         18-Apr  Marenahalli      1 BHK      NaN   \n",
       "\n",
       "     total_sqft  bath  balcony  price  \n",
       "7588       3500   4.0      1.0  289.0  \n",
       "9678       1060   2.0      1.0   46.0  \n",
       "5967        840   1.0      0.0   75.0  "
      ]
     },
     "execution_count": 3,
     "metadata": {},
     "output_type": "execute_result"
    }
   ],
   "source": [
    "df.sample(3)"
   ]
  },
  {
   "cell_type": "code",
   "execution_count": 4,
   "id": "d556751c-89dd-40b2-9b9c-108bf792de75",
   "metadata": {},
   "outputs": [
    {
     "data": {
      "text/plain": [
       "area_type          0\n",
       "availability       0\n",
       "location           1\n",
       "size              16\n",
       "society         5502\n",
       "total_sqft         0\n",
       "bath              73\n",
       "balcony          609\n",
       "price              0\n",
       "dtype: int64"
      ]
     },
     "execution_count": 4,
     "metadata": {},
     "output_type": "execute_result"
    }
   ],
   "source": [
    "df.isnull().sum()"
   ]
  },
  {
   "cell_type": "raw",
   "id": "053030df-6774-4757-8631-9f0fa81318ed",
   "metadata": {},
   "source": [
    "too many missing values in society and balcony\n",
    "availability is not important"
   ]
  },
  {
   "cell_type": "code",
   "execution_count": 5,
   "id": "51f8fa35-20ff-4fec-8eec-d8ee8396dd80",
   "metadata": {},
   "outputs": [
    {
     "data": {
      "text/plain": [
       "529"
      ]
     },
     "execution_count": 5,
     "metadata": {},
     "output_type": "execute_result"
    }
   ],
   "source": [
    "df.duplicated().sum()"
   ]
  },
  {
   "cell_type": "code",
   "execution_count": 6,
   "id": "59500b8d-0000-46fb-a590-19c6580571f0",
   "metadata": {},
   "outputs": [],
   "source": [
    "df.drop_duplicates(inplace=True)"
   ]
  },
  {
   "cell_type": "code",
   "execution_count": 7,
   "id": "8e92b28d-7745-4b3d-8368-b9d6ef666f28",
   "metadata": {},
   "outputs": [
    {
     "data": {
      "text/html": [
       "<div>\n",
       "<style scoped>\n",
       "    .dataframe tbody tr th:only-of-type {\n",
       "        vertical-align: middle;\n",
       "    }\n",
       "\n",
       "    .dataframe tbody tr th {\n",
       "        vertical-align: top;\n",
       "    }\n",
       "\n",
       "    .dataframe thead th {\n",
       "        text-align: right;\n",
       "    }\n",
       "</style>\n",
       "<table border=\"1\" class=\"dataframe\">\n",
       "  <thead>\n",
       "    <tr style=\"text-align: right;\">\n",
       "      <th></th>\n",
       "      <th>bath</th>\n",
       "      <th>balcony</th>\n",
       "      <th>price</th>\n",
       "    </tr>\n",
       "  </thead>\n",
       "  <tbody>\n",
       "    <tr>\n",
       "      <th>count</th>\n",
       "      <td>12718.000000</td>\n",
       "      <td>12186.000000</td>\n",
       "      <td>12791.000000</td>\n",
       "    </tr>\n",
       "    <tr>\n",
       "      <th>mean</th>\n",
       "      <td>2.708602</td>\n",
       "      <td>1.582308</td>\n",
       "      <td>114.317646</td>\n",
       "    </tr>\n",
       "    <tr>\n",
       "      <th>std</th>\n",
       "      <td>1.357764</td>\n",
       "      <td>0.822536</td>\n",
       "      <td>151.480310</td>\n",
       "    </tr>\n",
       "    <tr>\n",
       "      <th>min</th>\n",
       "      <td>1.000000</td>\n",
       "      <td>0.000000</td>\n",
       "      <td>8.000000</td>\n",
       "    </tr>\n",
       "    <tr>\n",
       "      <th>25%</th>\n",
       "      <td>2.000000</td>\n",
       "      <td>1.000000</td>\n",
       "      <td>50.000000</td>\n",
       "    </tr>\n",
       "    <tr>\n",
       "      <th>50%</th>\n",
       "      <td>2.000000</td>\n",
       "      <td>2.000000</td>\n",
       "      <td>73.000000</td>\n",
       "    </tr>\n",
       "    <tr>\n",
       "      <th>75%</th>\n",
       "      <td>3.000000</td>\n",
       "      <td>2.000000</td>\n",
       "      <td>121.000000</td>\n",
       "    </tr>\n",
       "    <tr>\n",
       "      <th>max</th>\n",
       "      <td>40.000000</td>\n",
       "      <td>3.000000</td>\n",
       "      <td>3600.000000</td>\n",
       "    </tr>\n",
       "  </tbody>\n",
       "</table>\n",
       "</div>"
      ],
      "text/plain": [
       "               bath       balcony         price\n",
       "count  12718.000000  12186.000000  12791.000000\n",
       "mean       2.708602      1.582308    114.317646\n",
       "std        1.357764      0.822536    151.480310\n",
       "min        1.000000      0.000000      8.000000\n",
       "25%        2.000000      1.000000     50.000000\n",
       "50%        2.000000      2.000000     73.000000\n",
       "75%        3.000000      2.000000    121.000000\n",
       "max       40.000000      3.000000   3600.000000"
      ]
     },
     "execution_count": 7,
     "metadata": {},
     "output_type": "execute_result"
    }
   ],
   "source": [
    "df.describe()"
   ]
  },
  {
   "cell_type": "code",
   "execution_count": 8,
   "id": "e4260b2e-b908-44c8-9d61-9bd6d103b88d",
   "metadata": {},
   "outputs": [
    {
     "data": {
      "text/plain": [
       "area_type\n",
       "Super built-up  Area    8317\n",
       "Built-up  Area          2398\n",
       "Plot  Area              1989\n",
       "Carpet  Area              87\n",
       "Name: count, dtype: int64"
      ]
     },
     "execution_count": 8,
     "metadata": {},
     "output_type": "execute_result"
    }
   ],
   "source": [
    "df.area_type.value_counts()"
   ]
  },
  {
   "cell_type": "code",
   "execution_count": 9,
   "id": "401c3073-918d-438f-aca5-9278b7809f7c",
   "metadata": {},
   "outputs": [],
   "source": [
    "df.drop(columns=['area_type','society','balcony','availability'],inplace=True)"
   ]
  },
  {
   "cell_type": "code",
   "execution_count": 10,
   "id": "31e7903a-2179-4ed8-b14e-68178e9721e1",
   "metadata": {},
   "outputs": [
    {
     "name": "stdout",
     "output_type": "stream",
     "text": [
      "<class 'pandas.core.frame.DataFrame'>\n",
      "Index: 12791 entries, 0 to 13318\n",
      "Data columns (total 5 columns):\n",
      " #   Column      Non-Null Count  Dtype  \n",
      "---  ------      --------------  -----  \n",
      " 0   location    12790 non-null  object \n",
      " 1   size        12775 non-null  object \n",
      " 2   total_sqft  12791 non-null  object \n",
      " 3   bath        12718 non-null  float64\n",
      " 4   price       12791 non-null  float64\n",
      "dtypes: float64(2), object(3)\n",
      "memory usage: 599.6+ KB\n"
     ]
    }
   ],
   "source": [
    "df.info()"
   ]
  },
  {
   "cell_type": "markdown",
   "id": "d693338a-e331-4c1a-8695-d0a481b3c927",
   "metadata": {},
   "source": [
    "### Feature Engineering"
   ]
  },
  {
   "cell_type": "code",
   "execution_count": 11,
   "id": "7b007d9b-be7e-4cde-82ea-6229eb56a4c0",
   "metadata": {},
   "outputs": [],
   "source": [
    "def clean(x):\n",
    "    if pd.isna(x):\n",
    "        return\n",
    "    return int(x.split()[0])"
   ]
  },
  {
   "cell_type": "raw",
   "id": "e76f31c7-9f84-42c7-a01a-d83beb9c09ad",
   "metadata": {},
   "source": [
    "size contains bed room size\n",
    "it is a string as \"number bhk\" or \"number bedroom\""
   ]
  },
  {
   "cell_type": "code",
   "execution_count": 12,
   "id": "321e7d07-4b33-48cc-82c2-5e91c7d94b4f",
   "metadata": {},
   "outputs": [],
   "source": [
    "df['bed'] = df['size'].apply(clean)"
   ]
  },
  {
   "cell_type": "code",
   "execution_count": 13,
   "id": "ac774594-7a36-42ad-b93b-c2cc71202d0f",
   "metadata": {},
   "outputs": [
    {
     "data": {
      "text/plain": [
       "0        2.0\n",
       "1        4.0\n",
       "2        3.0\n",
       "3        3.0\n",
       "4        2.0\n",
       "        ... \n",
       "13314    3.0\n",
       "13315    5.0\n",
       "13316    4.0\n",
       "13317    2.0\n",
       "13318    4.0\n",
       "Name: bed, Length: 12791, dtype: float64"
      ]
     },
     "execution_count": 13,
     "metadata": {},
     "output_type": "execute_result"
    }
   ],
   "source": [
    "df.bed"
   ]
  },
  {
   "cell_type": "code",
   "execution_count": 14,
   "id": "3f2b45eb-4d43-4d4d-aa9c-92ec961f88b5",
   "metadata": {},
   "outputs": [
    {
     "data": {
      "text/plain": [
       "10546    1100\n",
       "12330    1260\n",
       "5990     2420\n",
       "8574      850\n",
       "4265      750\n",
       "181      1700\n",
       "2448     1160\n",
       "7611      900\n",
       "7652     1200\n",
       "9266     1700\n",
       "Name: total_sqft, dtype: object"
      ]
     },
     "execution_count": 14,
     "metadata": {},
     "output_type": "execute_result"
    }
   ],
   "source": [
    "df.total_sqft.sample(10)"
   ]
  },
  {
   "cell_type": "raw",
   "id": "3f4fe392-6b13-4f1a-9718-3ed30baa923f",
   "metadata": {},
   "source": [
    "total_sqft is area and it is in 3 forms\n",
    "1. \"number\" (as a string)\n",
    "2. \"lowerValue - upperValue\" (as a range)\n",
    "3. \"number sq. Meter or sq. Yard or Perch\""
   ]
  },
  {
   "cell_type": "code",
   "execution_count": 15,
   "id": "9d59f586-82da-4783-8d6f-fba2c4e23a42",
   "metadata": {},
   "outputs": [],
   "source": [
    "def clean2(x):\n",
    "    if \"-\" in x:\n",
    "        a = x.split(\" - \")\n",
    "        return (float(a[0])+float(a[1]))/2\n",
    "    a = re.search(r'\\d+.\\d+|\\d+',x)\n",
    "    return float(a.group())"
   ]
  },
  {
   "cell_type": "code",
   "execution_count": 16,
   "id": "70d86947-8cac-4934-92a0-2e2083e84903",
   "metadata": {},
   "outputs": [],
   "source": [
    "df['area'] = df.total_sqft.apply(clean2)"
   ]
  },
  {
   "cell_type": "code",
   "execution_count": 17,
   "id": "57935e33-5dc4-450d-bdbb-e0ca076b53db",
   "metadata": {},
   "outputs": [],
   "source": [
    "s = df.location.value_counts()[df.location.value_counts() <= 10].index"
   ]
  },
  {
   "cell_type": "code",
   "execution_count": 18,
   "id": "5f3fc664-082d-4bcb-be43-974342dae842",
   "metadata": {},
   "outputs": [],
   "source": [
    "df['location'] = df.location.apply(lambda x : 'other' if x in s else x)"
   ]
  },
  {
   "cell_type": "code",
   "execution_count": 19,
   "id": "cce5f1c1-1ccb-4768-aea2-a2081eb0be9b",
   "metadata": {},
   "outputs": [
    {
     "data": {
      "text/plain": [
       "location\n",
       "other               2948\n",
       "Whitefield           523\n",
       "Sarjapur  Road       379\n",
       "Electronic City      287\n",
       "Kanakpura Road       249\n",
       "                    ... \n",
       "Doddakallasandra      11\n",
       "LB Shastri Nagar      11\n",
       "Thyagaraja Nagar      11\n",
       "HAL 2nd Stage         11\n",
       "Nehru Nagar           11\n",
       "Name: count, Length: 234, dtype: int64"
      ]
     },
     "execution_count": 19,
     "metadata": {},
     "output_type": "execute_result"
    }
   ],
   "source": [
    "df.location.value_counts()"
   ]
  },
  {
   "cell_type": "raw",
   "id": "354e6602-87b0-4388-b4cf-bacba7605951",
   "metadata": {},
   "source": [
    "calculating price per sqft area\n",
    "calculating avg area of the house"
   ]
  },
  {
   "cell_type": "code",
   "execution_count": 20,
   "id": "ac48e8f4-c2dc-45eb-a822-a6b99593937c",
   "metadata": {},
   "outputs": [],
   "source": [
    "df['price_per_sqft'] = df.price*100000/df.area"
   ]
  },
  {
   "cell_type": "code",
   "execution_count": 21,
   "id": "6f9476a6-e709-4b44-8a5c-000d421cac65",
   "metadata": {},
   "outputs": [],
   "source": [
    "df['avg_bed_area'] = df.area/df.bed"
   ]
  },
  {
   "cell_type": "markdown",
   "id": "54a4b999-385c-478c-94a2-f2310224b779",
   "metadata": {},
   "source": [
    "### EDA"
   ]
  },
  {
   "cell_type": "code",
   "execution_count": 22,
   "id": "17d3c888-9153-4622-8d48-39240188d6e7",
   "metadata": {},
   "outputs": [
    {
     "data": {
      "text/plain": [
       "[]"
      ]
     },
     "execution_count": 22,
     "metadata": {},
     "output_type": "execute_result"
    },
    {
     "data": {
      "image/png": "[encoded data removed]",
      "text/plain": [
       "<Figure size 640x480 with 1 Axes>"
      ]
     },
     "metadata": {},
     "output_type": "display_data"
    }
   ],
   "source": [
    "sns.histplot(df.avg_bed_area)\n",
    "plt.plot()"
   ]
  },
  {
   "cell_type": "code",
   "execution_count": 23,
   "id": "4fb073b8-5400-4992-9551-a3285e0bd025",
   "metadata": {},
   "outputs": [
    {
     "data": {
      "image/png": "[encoded data removed]",
      "text/plain": [
       "<Figure size 640x480 with 1 Axes>"
      ]
     },
     "metadata": {},
     "output_type": "display_data"
    }
   ],
   "source": [
    "sns.histplot(df.bed,bins=30)\n",
    "plt.show()"
   ]
  },
  {
   "cell_type": "code",
   "execution_count": 24,
   "id": "925e0329-f816-425a-b4ca-74b05fe3da07",
   "metadata": {},
   "outputs": [
    {
     "data": {
      "image/png": "[encoded data removed]",
      "text/plain": [
       "<Figure size 640x480 with 1 Axes>"
      ]
     },
     "metadata": {},
     "output_type": "display_data"
    }
   ],
   "source": [
    "plt.scatter(df.bed,df.bath)\n",
    "plt.show()"
   ]
  },
  {
   "cell_type": "code",
   "execution_count": 25,
   "id": "483b7d1d-9b37-4fe2-bd3b-41290199550d",
   "metadata": {},
   "outputs": [
    {
     "data": {
      "text/plain": [
       "<Axes: xlabel='area', ylabel='Count'>"
      ]
     },
     "execution_count": 25,
     "metadata": {},
     "output_type": "execute_result"
    },
    {
     "data": {
      "image/png": "[encoded data removed]",
      "text/plain": [
       "<Figure size 640x480 with 1 Axes>"
      ]
     },
     "metadata": {},
     "output_type": "display_data"
    }
   ],
   "source": [
    "sns.histplot(df.area)"
   ]
  },
  {
   "cell_type": "code",
   "execution_count": 26,
   "id": "4a315102-4bf1-42b0-b0e1-b7a75015b543",
   "metadata": {},
   "outputs": [
    {
     "data": {
      "text/plain": [
       "<Axes: xlabel='area', ylabel='Count'>"
      ]
     },
     "execution_count": 26,
     "metadata": {},
     "output_type": "execute_result"
    },
    {
     "data": {
      "image/png": "[encoded data removed]",
      "text/plain": [
       "<Figure size 640x480 with 1 Axes>"
      ]
     },
     "metadata": {},
     "output_type": "display_data"
    }
   ],
   "source": [
    "sns.histplot(df[df.area<500].area)"
   ]
  },
  {
   "cell_type": "code",
   "execution_count": 27,
   "id": "e93902c4-9813-4a00-a26a-2ea45ee2d635",
   "metadata": {},
   "outputs": [
    {
     "data": {
      "text/plain": [
       "<Axes: ylabel='Count'>"
      ]
     },
     "execution_count": 27,
     "metadata": {},
     "output_type": "execute_result"
    },
    {
     "data": {
      "image/png": "[encoded data removed]",
      "text/plain": [
       "<Figure size 640x480 with 1 Axes>"
      ]
     },
     "metadata": {},
     "output_type": "display_data"
    }
   ],
   "source": [
    "sns.histplot(df.bed-df.bath)"
   ]
  },
  {
   "cell_type": "code",
   "execution_count": 28,
   "id": "b37ebf73-f815-4857-84aa-2835dc185832",
   "metadata": {},
   "outputs": [],
   "source": [
    "# sns.histplot(df.price_per_sqft)\n",
    "# plt.show()"
   ]
  },
  {
   "cell_type": "code",
   "execution_count": 29,
   "id": "17625901-74ff-4815-a810-5aefae2c562d",
   "metadata": {},
   "outputs": [],
   "source": [
    "# sns.countplot(data=df,x='location')\n",
    "# plt.show()"
   ]
  },
  {
   "cell_type": "code",
   "execution_count": 30,
   "id": "bf8e6674-cb9e-4cc6-8715-83a35769e56b",
   "metadata": {
    "scrolled": true
   },
   "outputs": [],
   "source": [
    "# for key,subdf in df.groupby('location'):\n",
    "#     sns.histplot(subdf.price_per_sqft)\n",
    "#     plt.show()"
   ]
  },
  {
   "cell_type": "code",
   "execution_count": 31,
   "id": "aee681f1-1834-4f38-a7a9-899eedd7c126",
   "metadata": {},
   "outputs": [],
   "source": [
    "# for loc,locdf in df.groupby('location'):\n",
    "#     plt.scatter(locdf[locdf.bed==2].area,locdf[locdf.bed==2].price,marker='+')\n",
    "#     plt.scatter(locdf[locdf.bed==3].area,locdf[locdf.bed==3].price,marker='+')\n",
    "#     plt.show()"
   ]
  },
  {
   "cell_type": "markdown",
   "id": "f2692743-c2cc-45eb-ac8c-7fabbcaee562",
   "metadata": {},
   "source": [
    "### Data preprocessing"
   ]
  },
  {
   "cell_type": "code",
   "execution_count": 32,
   "id": "b10fb30e-ea12-4b4d-8e55-d854705c8240",
   "metadata": {},
   "outputs": [
    {
     "data": {
      "text/html": [
       "<div>\n",
       "<style scoped>\n",
       "    .dataframe tbody tr th:only-of-type {\n",
       "        vertical-align: middle;\n",
       "    }\n",
       "\n",
       "    .dataframe tbody tr th {\n",
       "        vertical-align: top;\n",
       "    }\n",
       "\n",
       "    .dataframe thead th {\n",
       "        text-align: right;\n",
       "    }\n",
       "</style>\n",
       "<table border=\"1\" class=\"dataframe\">\n",
       "  <thead>\n",
       "    <tr style=\"text-align: right;\">\n",
       "      <th></th>\n",
       "      <th>location</th>\n",
       "      <th>size</th>\n",
       "      <th>total_sqft</th>\n",
       "      <th>bath</th>\n",
       "      <th>price</th>\n",
       "      <th>bed</th>\n",
       "      <th>area</th>\n",
       "      <th>price_per_sqft</th>\n",
       "      <th>avg_bed_area</th>\n",
       "    </tr>\n",
       "  </thead>\n",
       "  <tbody>\n",
       "    <tr>\n",
       "      <th>1718</th>\n",
       "      <td>other</td>\n",
       "      <td>27 BHK</td>\n",
       "      <td>8000</td>\n",
       "      <td>27.0</td>\n",
       "      <td>230.0</td>\n",
       "      <td>27.0</td>\n",
       "      <td>8000.0</td>\n",
       "      <td>2875.000000</td>\n",
       "      <td>296.296296</td>\n",
       "    </tr>\n",
       "    <tr>\n",
       "      <th>3379</th>\n",
       "      <td>other</td>\n",
       "      <td>19 BHK</td>\n",
       "      <td>2000</td>\n",
       "      <td>16.0</td>\n",
       "      <td>490.0</td>\n",
       "      <td>19.0</td>\n",
       "      <td>2000.0</td>\n",
       "      <td>24500.000000</td>\n",
       "      <td>105.263158</td>\n",
       "    </tr>\n",
       "    <tr>\n",
       "      <th>3609</th>\n",
       "      <td>other</td>\n",
       "      <td>16 BHK</td>\n",
       "      <td>10000</td>\n",
       "      <td>16.0</td>\n",
       "      <td>550.0</td>\n",
       "      <td>16.0</td>\n",
       "      <td>10000.0</td>\n",
       "      <td>5500.000000</td>\n",
       "      <td>625.000000</td>\n",
       "    </tr>\n",
       "    <tr>\n",
       "      <th>4684</th>\n",
       "      <td>Munnekollal</td>\n",
       "      <td>43 Bedroom</td>\n",
       "      <td>2400</td>\n",
       "      <td>40.0</td>\n",
       "      <td>660.0</td>\n",
       "      <td>43.0</td>\n",
       "      <td>2400.0</td>\n",
       "      <td>27500.000000</td>\n",
       "      <td>55.813953</td>\n",
       "    </tr>\n",
       "    <tr>\n",
       "      <th>11559</th>\n",
       "      <td>other</td>\n",
       "      <td>18 Bedroom</td>\n",
       "      <td>1200</td>\n",
       "      <td>18.0</td>\n",
       "      <td>200.0</td>\n",
       "      <td>18.0</td>\n",
       "      <td>1200.0</td>\n",
       "      <td>16666.666667</td>\n",
       "      <td>66.666667</td>\n",
       "    </tr>\n",
       "  </tbody>\n",
       "</table>\n",
       "</div>"
      ],
      "text/plain": [
       "          location        size total_sqft  bath  price   bed     area  \\\n",
       "1718         other      27 BHK       8000  27.0  230.0  27.0   8000.0   \n",
       "3379         other      19 BHK       2000  16.0  490.0  19.0   2000.0   \n",
       "3609         other      16 BHK      10000  16.0  550.0  16.0  10000.0   \n",
       "4684   Munnekollal  43 Bedroom       2400  40.0  660.0  43.0   2400.0   \n",
       "11559        other  18 Bedroom       1200  18.0  200.0  18.0   1200.0   \n",
       "\n",
       "       price_per_sqft  avg_bed_area  \n",
       "1718      2875.000000    296.296296  \n",
       "3379     24500.000000    105.263158  \n",
       "3609      5500.000000    625.000000  \n",
       "4684     27500.000000     55.813953  \n",
       "11559    16666.666667     66.666667  "
      ]
     },
     "execution_count": 32,
     "metadata": {},
     "output_type": "execute_result"
    }
   ],
   "source": [
    "df[df.bed>15]"
   ]
  },
  {
   "cell_type": "raw",
   "id": "c1449518-0fd9-4f9a-b095-0f497d8af024",
   "metadata": {},
   "source": [
    "there are some bedrooms upto 40 which i consider as outliers"
   ]
  },
  {
   "cell_type": "code",
   "execution_count": 33,
   "id": "d71bddde-7db3-45ee-86b3-ff3aacb0b9f3",
   "metadata": {},
   "outputs": [],
   "source": [
    "df = df[~(df.bed > 15)]"
   ]
  },
  {
   "cell_type": "raw",
   "id": "5884a04c-4b93-44ac-aa17-39af334686f2",
   "metadata": {},
   "source": [
    "A bed room should have minimum 70 sqft area in that case the house should have minimum 100 sqft\n",
    "so we consider rest of them as false data"
   ]
  },
  {
   "cell_type": "code",
   "execution_count": 34,
   "id": "d16ec248-d60f-417c-b724-2af38d6a43bc",
   "metadata": {},
   "outputs": [
    {
     "data": {
      "text/plain": [
       "39"
      ]
     },
     "execution_count": 34,
     "metadata": {},
     "output_type": "execute_result"
    }
   ],
   "source": [
    "len(df[df.avg_bed_area < 70])"
   ]
  },
  {
   "cell_type": "code",
   "execution_count": 35,
   "id": "e23db1b8-9b0b-4e7d-9269-fff468aaf966",
   "metadata": {},
   "outputs": [
    {
     "data": {
      "text/plain": [
       "36"
      ]
     },
     "execution_count": 35,
     "metadata": {},
     "output_type": "execute_result"
    }
   ],
   "source": [
    "len(df[df.avg_bed_area > 2000])"
   ]
  },
  {
   "cell_type": "raw",
   "id": "afa25852-4347-4fad-bfc2-b5bebffe7479",
   "metadata": {},
   "source": [
    "a house should have minimum 320 sqft"
   ]
  },
  {
   "cell_type": "code",
   "execution_count": 36,
   "id": "2ae1e52a-e0fb-48dc-b5b7-a4013f627308",
   "metadata": {},
   "outputs": [
    {
     "data": {
      "text/plain": [
       "48"
      ]
     },
     "execution_count": 36,
     "metadata": {},
     "output_type": "execute_result"
    }
   ],
   "source": [
    "len(df[df.area<350])"
   ]
  },
  {
   "cell_type": "code",
   "execution_count": 37,
   "id": "e56a9eca-3127-429b-8fc9-df7400751ad1",
   "metadata": {},
   "outputs": [],
   "source": [
    "df = df[~((df.area<350) | (df.avg_bed_area < 70) | (df.avg_bed_area > 2000))]"
   ]
  },
  {
   "cell_type": "code",
   "execution_count": 38,
   "id": "3af82793-bd28-4c5f-80fe-71f8548a75d3",
   "metadata": {},
   "outputs": [
    {
     "data": {
      "text/plain": [
       "(12700, 9)"
      ]
     },
     "execution_count": 38,
     "metadata": {},
     "output_type": "execute_result"
    }
   ],
   "source": [
    "df.shape"
   ]
  },
  {
   "cell_type": "raw",
   "id": "f517a63d-9aea-4384-843d-153fe139e213",
   "metadata": {},
   "source": [
    "there should be no more than 2 bathrooms than bedrooms"
   ]
  },
  {
   "cell_type": "code",
   "execution_count": 39,
   "id": "a1d0fafe-9e6d-4549-8e41-e973fde95687",
   "metadata": {},
   "outputs": [
    {
     "data": {
      "text/plain": [
       "48"
      ]
     },
     "execution_count": 39,
     "metadata": {},
     "output_type": "execute_result"
    }
   ],
   "source": [
    "len(df[df.bed-df.bath > 2])"
   ]
  },
  {
   "cell_type": "code",
   "execution_count": 40,
   "id": "28bbbfc8-92ae-46ca-a37d-c8333381488e",
   "metadata": {},
   "outputs": [],
   "source": [
    "df = df[~(df.bath-df.bed > 2)]"
   ]
  },
  {
   "cell_type": "raw",
   "id": "beef020d-7785-4391-827d-f5ae1460cc18",
   "metadata": {},
   "source": [
    "some houses have high price per area and some have very less but this might depend on location of that house\n",
    "but even at same location there might be lots of variation (outlier)\n",
    "so we group the data by location and then check outlier in each group\n",
    "if any value less than mean-std and greater than mean+std is considered to be a outlier"
   ]
  },
  {
   "cell_type": "code",
   "execution_count": 41,
   "id": "8ccd4016-4ea8-411c-a977-8788188961f5",
   "metadata": {},
   "outputs": [],
   "source": [
    "df_out = pd.DataFrame()\n",
    "for i,locdf in df.groupby('location'):\n",
    "    m = locdf.price_per_sqft.mean() # mean price of that location\n",
    "    st = locdf.price_per_sqft.std() # std of that location\n",
    "    dfnew = locdf[(locdf.price_per_sqft>(m-st)) & (locdf.price_per_sqft<(m+st))]\n",
    "    df_out = pd.concat([df_out,dfnew],ignore_index=True)"
   ]
  },
  {
   "cell_type": "code",
   "execution_count": 42,
   "id": "2cc7f42f-8a0d-4bc5-a83d-99d70920c99d",
   "metadata": {},
   "outputs": [],
   "source": [
    "df = df_out"
   ]
  },
  {
   "cell_type": "code",
   "execution_count": 43,
   "id": "ee670739-4f1d-47c9-b1bb-892c1b9013da",
   "metadata": {},
   "outputs": [
    {
     "data": {
      "text/plain": [
       "(10587, 9)"
      ]
     },
     "execution_count": 43,
     "metadata": {},
     "output_type": "execute_result"
    }
   ],
   "source": [
    "df.shape"
   ]
  },
  {
   "cell_type": "raw",
   "id": "43dd784d-63fd-4564-880d-6e3de066be44",
   "metadata": {},
   "source": [
    "In same location\n",
    "for some houses the price is greater than other even if other has more bedrooms\n",
    "to find this we need to find mean price for each bedroom and store in dict\n",
    "now for each bedroom if price of it is less than mean price of bedroom lesser to it then it is a outlier\n",
    "eg: mean price of 1 bedroom is 4000\n",
    "then if any 2 bedroom house of price less than 4000 is outlier\n",
    "\n",
    "we do this only if there are atleast 5 house of with that many bedrooms"
   ]
  },
  {
   "cell_type": "code",
   "execution_count": 44,
   "id": "6ddfd9b5-e571-446f-9062-620874af2fdd",
   "metadata": {},
   "outputs": [],
   "source": [
    "indexs = []\n",
    "for loc,locdf in df.groupby('location'): # for each location\n",
    "    bed_stat = {}  # dict to store mean\n",
    "    for bed,bdf in locdf.groupby('bed'):  # for each bedroom (count)\n",
    "         bed_stat[bed] = {\n",
    "            'mean' : bdf.price_per_sqft.mean(),\n",
    "            'count': bdf.shape[0]\n",
    "        }\n",
    "    \n",
    "    for bed,bdf in locdf.groupby('bed'):  \n",
    "        stats = bed_stat.get(bed-1)   # stats of bed room less than that\n",
    "        if stats and stats['count']>2:  # if bed-1 is not found (bed is least value) in dict it will be false\n",
    "            a = bdf[bdf.price_per_sqft<stats['mean']].index.values # (taking indexes of outliers)\n",
    "            indexs.extend(a)"
   ]
  },
  {
   "cell_type": "code",
   "execution_count": 45,
   "id": "74cedb5d-8601-4167-bc33-5eb76df05b94",
   "metadata": {},
   "outputs": [
    {
     "data": {
      "text/plain": [
       "3618"
      ]
     },
     "execution_count": 45,
     "metadata": {},
     "output_type": "execute_result"
    }
   ],
   "source": [
    "len(indexs)"
   ]
  },
  {
   "cell_type": "code",
   "execution_count": 46,
   "id": "b8cdf4c7-f4df-4bb2-a3bd-ec3806378edb",
   "metadata": {},
   "outputs": [],
   "source": [
    "dff = df.drop(indexs)"
   ]
  },
  {
   "cell_type": "code",
   "execution_count": 47,
   "id": "dca72561-6cdf-4eed-aa07-0ff30b23e196",
   "metadata": {},
   "outputs": [
    {
     "data": {
      "text/plain": [
       "(6969, 9)"
      ]
     },
     "execution_count": 47,
     "metadata": {},
     "output_type": "execute_result"
    }
   ],
   "source": [
    "dff.shape"
   ]
  },
  {
   "cell_type": "code",
   "execution_count": 48,
   "id": "061726a0-c0f9-48e8-821e-8e27aa06bfee",
   "metadata": {},
   "outputs": [
    {
     "data": {
      "text/html": [
       "<div>\n",
       "<style scoped>\n",
       "    .dataframe tbody tr th:only-of-type {\n",
       "        vertical-align: middle;\n",
       "    }\n",
       "\n",
       "    .dataframe tbody tr th {\n",
       "        vertical-align: top;\n",
       "    }\n",
       "\n",
       "    .dataframe thead th {\n",
       "        text-align: right;\n",
       "    }\n",
       "</style>\n",
       "<table border=\"1\" class=\"dataframe\">\n",
       "  <thead>\n",
       "    <tr style=\"text-align: right;\">\n",
       "      <th></th>\n",
       "      <th>location</th>\n",
       "      <th>size</th>\n",
       "      <th>total_sqft</th>\n",
       "      <th>bath</th>\n",
       "      <th>price</th>\n",
       "      <th>bed</th>\n",
       "      <th>area</th>\n",
       "      <th>price_per_sqft</th>\n",
       "      <th>avg_bed_area</th>\n",
       "    </tr>\n",
       "  </thead>\n",
       "  <tbody>\n",
       "    <tr>\n",
       "      <th>1</th>\n",
       "      <td>Devarachikkanahalli</td>\n",
       "      <td>2 BHK</td>\n",
       "      <td>1250</td>\n",
       "      <td>2.0</td>\n",
       "      <td>40.0</td>\n",
       "      <td>2.0</td>\n",
       "      <td>1250.0</td>\n",
       "      <td>3200.000000</td>\n",
       "      <td>625.0</td>\n",
       "    </tr>\n",
       "    <tr>\n",
       "      <th>2</th>\n",
       "      <td>Devarachikkanahalli</td>\n",
       "      <td>2 Bedroom</td>\n",
       "      <td>1200</td>\n",
       "      <td>2.0</td>\n",
       "      <td>83.0</td>\n",
       "      <td>2.0</td>\n",
       "      <td>1200.0</td>\n",
       "      <td>6916.666667</td>\n",
       "      <td>600.0</td>\n",
       "    </tr>\n",
       "    <tr>\n",
       "      <th>3</th>\n",
       "      <td>Devarachikkanahalli</td>\n",
       "      <td>2 BHK</td>\n",
       "      <td>1170</td>\n",
       "      <td>2.0</td>\n",
       "      <td>40.0</td>\n",
       "      <td>2.0</td>\n",
       "      <td>1170.0</td>\n",
       "      <td>3418.803419</td>\n",
       "      <td>585.0</td>\n",
       "    </tr>\n",
       "    <tr>\n",
       "      <th>4</th>\n",
       "      <td>Devarachikkanahalli</td>\n",
       "      <td>3 BHK</td>\n",
       "      <td>1425</td>\n",
       "      <td>2.0</td>\n",
       "      <td>65.0</td>\n",
       "      <td>3.0</td>\n",
       "      <td>1425.0</td>\n",
       "      <td>4561.403509</td>\n",
       "      <td>475.0</td>\n",
       "    </tr>\n",
       "    <tr>\n",
       "      <th>5</th>\n",
       "      <td>Devarachikkanahalli</td>\n",
       "      <td>2 BHK</td>\n",
       "      <td>947</td>\n",
       "      <td>2.0</td>\n",
       "      <td>43.0</td>\n",
       "      <td>2.0</td>\n",
       "      <td>947.0</td>\n",
       "      <td>4540.654699</td>\n",
       "      <td>473.5</td>\n",
       "    </tr>\n",
       "  </tbody>\n",
       "</table>\n",
       "</div>"
      ],
      "text/plain": [
       "               location       size total_sqft  bath  price  bed    area  \\\n",
       "1   Devarachikkanahalli      2 BHK       1250   2.0   40.0  2.0  1250.0   \n",
       "2   Devarachikkanahalli  2 Bedroom       1200   2.0   83.0  2.0  1200.0   \n",
       "3   Devarachikkanahalli      2 BHK       1170   2.0   40.0  2.0  1170.0   \n",
       "4   Devarachikkanahalli      3 BHK       1425   2.0   65.0  3.0  1425.0   \n",
       "5   Devarachikkanahalli      2 BHK        947   2.0   43.0  2.0   947.0   \n",
       "\n",
       "   price_per_sqft  avg_bed_area  \n",
       "1     3200.000000         625.0  \n",
       "2     6916.666667         600.0  \n",
       "3     3418.803419         585.0  \n",
       "4     4561.403509         475.0  \n",
       "5     4540.654699         473.5  "
      ]
     },
     "execution_count": 48,
     "metadata": {},
     "output_type": "execute_result"
    }
   ],
   "source": [
    "dff.head()"
   ]
  },
  {
   "cell_type": "code",
   "execution_count": 49,
   "id": "1f3fe411-332e-434b-9785-13559bac5423",
   "metadata": {},
   "outputs": [
    {
     "data": {
      "text/plain": [
       "location           0\n",
       "size               6\n",
       "total_sqft         0\n",
       "bath              38\n",
       "price              0\n",
       "bed                6\n",
       "area               0\n",
       "price_per_sqft     0\n",
       "avg_bed_area       6\n",
       "dtype: int64"
      ]
     },
     "execution_count": 49,
     "metadata": {},
     "output_type": "execute_result"
    }
   ],
   "source": [
    "dff.isnull().sum()"
   ]
  },
  {
   "cell_type": "raw",
   "id": "ee42837d-44ed-4a13-b41d-096575554fd9",
   "metadata": {},
   "source": [
    "for the missing values in bedrooms we will fill it based avg bed rooms in that area\n",
    "for the missing bathroom values we will fill it with the number of bedroom in that house"
   ]
  },
  {
   "cell_type": "code",
   "execution_count": 50,
   "id": "b7fbaf4e-ad96-4049-9c10-7436d29dd1fb",
   "metadata": {},
   "outputs": [],
   "source": [
    "bed = {}\n",
    "for loc,locdf in dff.groupby('location'):\n",
    "    bed[loc] = locdf.bed.median()"
   ]
  },
  {
   "cell_type": "code",
   "execution_count": 51,
   "id": "5883bc83-3cfe-4b5b-9e5b-749623931669",
   "metadata": {},
   "outputs": [],
   "source": [
    "a = dff[dff.bed.isnull()].index.values\n",
    "for i in a:\n",
    "    dff.loc[i,'bed'] = bed[dff.loc[i].location]"
   ]
  },
  {
   "cell_type": "code",
   "execution_count": 52,
   "id": "69a54912-0a68-4f4f-b254-f218474a18e3",
   "metadata": {},
   "outputs": [],
   "source": [
    "a = dff[dff.bath.isnull()].index.values\n",
    "for i in a:\n",
    "    dff.loc[i,'bath'] = dff.loc[i,'bed']"
   ]
  },
  {
   "cell_type": "code",
   "execution_count": 53,
   "id": "425e5992-52ec-41c3-b526-deff0c6a05ac",
   "metadata": {},
   "outputs": [
    {
     "data": {
      "text/plain": [
       "location          0\n",
       "size              6\n",
       "total_sqft        0\n",
       "bath              0\n",
       "price             0\n",
       "bed               0\n",
       "area              0\n",
       "price_per_sqft    0\n",
       "avg_bed_area      6\n",
       "dtype: int64"
      ]
     },
     "execution_count": 53,
     "metadata": {},
     "output_type": "execute_result"
    }
   ],
   "source": [
    "dff.isnull().sum()"
   ]
  },
  {
   "cell_type": "code",
   "execution_count": 54,
   "id": "2b69ef12-e5b9-4203-b06e-d3e1c2ac5a9b",
   "metadata": {},
   "outputs": [
    {
     "data": {
      "text/plain": [
       "<Axes: xlabel='area', ylabel='price'>"
      ]
     },
     "execution_count": 54,
     "metadata": {},
     "output_type": "execute_result"
    },
    {
     "data": {
      "image/png": "[encoded data removed]",
      "text/plain": [
       "<Figure size 640x480 with 1 Axes>"
      ]
     },
     "metadata": {},
     "output_type": "display_data"
    }
   ],
   "source": [
    "sns.scatterplot(data=dff,x='area',y='price',hue='bed')"
   ]
  },
  {
   "cell_type": "code",
   "execution_count": 55,
   "id": "521bd7af-d903-4cbe-a09d-923bdc7d834f",
   "metadata": {},
   "outputs": [],
   "source": [
    "dff = dff[~((dff.price > 1000) | (dff.area > 9000))]"
   ]
  },
  {
   "cell_type": "raw",
   "id": "36d58e11-5a72-4e8a-8308-705f5a67f18e",
   "metadata": {},
   "source": [
    "now we need to encode the location column"
   ]
  },
  {
   "cell_type": "code",
   "execution_count": 56,
   "id": "87fb7bba",
   "metadata": {},
   "outputs": [
    {
     "data": {
      "text/html": [
       "<div>\n",
       "<style scoped>\n",
       "    .dataframe tbody tr th:only-of-type {\n",
       "        vertical-align: middle;\n",
       "    }\n",
       "\n",
       "    .dataframe tbody tr th {\n",
       "        vertical-align: top;\n",
       "    }\n",
       "\n",
       "    .dataframe thead th {\n",
       "        text-align: right;\n",
       "    }\n",
       "</style>\n",
       "<table border=\"1\" class=\"dataframe\">\n",
       "  <thead>\n",
       "    <tr style=\"text-align: right;\">\n",
       "      <th></th>\n",
       "      <th>location</th>\n",
       "      <th>size</th>\n",
       "      <th>total_sqft</th>\n",
       "      <th>bath</th>\n",
       "      <th>price</th>\n",
       "      <th>bed</th>\n",
       "      <th>area</th>\n",
       "      <th>price_per_sqft</th>\n",
       "      <th>avg_bed_area</th>\n",
       "    </tr>\n",
       "  </thead>\n",
       "  <tbody>\n",
       "    <tr>\n",
       "      <th>1</th>\n",
       "      <td>Devarachikkanahalli</td>\n",
       "      <td>2 BHK</td>\n",
       "      <td>1250</td>\n",
       "      <td>2.0</td>\n",
       "      <td>40.0</td>\n",
       "      <td>2.0</td>\n",
       "      <td>1250.0</td>\n",
       "      <td>3200.000000</td>\n",
       "      <td>625.0</td>\n",
       "    </tr>\n",
       "    <tr>\n",
       "      <th>2</th>\n",
       "      <td>Devarachikkanahalli</td>\n",
       "      <td>2 Bedroom</td>\n",
       "      <td>1200</td>\n",
       "      <td>2.0</td>\n",
       "      <td>83.0</td>\n",
       "      <td>2.0</td>\n",
       "      <td>1200.0</td>\n",
       "      <td>6916.666667</td>\n",
       "      <td>600.0</td>\n",
       "    </tr>\n",
       "    <tr>\n",
       "      <th>3</th>\n",
       "      <td>Devarachikkanahalli</td>\n",
       "      <td>2 BHK</td>\n",
       "      <td>1170</td>\n",
       "      <td>2.0</td>\n",
       "      <td>40.0</td>\n",
       "      <td>2.0</td>\n",
       "      <td>1170.0</td>\n",
       "      <td>3418.803419</td>\n",
       "      <td>585.0</td>\n",
       "    </tr>\n",
       "    <tr>\n",
       "      <th>4</th>\n",
       "      <td>Devarachikkanahalli</td>\n",
       "      <td>3 BHK</td>\n",
       "      <td>1425</td>\n",
       "      <td>2.0</td>\n",
       "      <td>65.0</td>\n",
       "      <td>3.0</td>\n",
       "      <td>1425.0</td>\n",
       "      <td>4561.403509</td>\n",
       "      <td>475.0</td>\n",
       "    </tr>\n",
       "    <tr>\n",
       "      <th>5</th>\n",
       "      <td>Devarachikkanahalli</td>\n",
       "      <td>2 BHK</td>\n",
       "      <td>947</td>\n",
       "      <td>2.0</td>\n",
       "      <td>43.0</td>\n",
       "      <td>2.0</td>\n",
       "      <td>947.0</td>\n",
       "      <td>4540.654699</td>\n",
       "      <td>473.5</td>\n",
       "    </tr>\n",
       "  </tbody>\n",
       "</table>\n",
       "</div>"
      ],
      "text/plain": [
       "               location       size total_sqft  bath  price  bed    area  \\\n",
       "1   Devarachikkanahalli      2 BHK       1250   2.0   40.0  2.0  1250.0   \n",
       "2   Devarachikkanahalli  2 Bedroom       1200   2.0   83.0  2.0  1200.0   \n",
       "3   Devarachikkanahalli      2 BHK       1170   2.0   40.0  2.0  1170.0   \n",
       "4   Devarachikkanahalli      3 BHK       1425   2.0   65.0  3.0  1425.0   \n",
       "5   Devarachikkanahalli      2 BHK        947   2.0   43.0  2.0   947.0   \n",
       "\n",
       "   price_per_sqft  avg_bed_area  \n",
       "1     3200.000000         625.0  \n",
       "2     6916.666667         600.0  \n",
       "3     3418.803419         585.0  \n",
       "4     4561.403509         475.0  \n",
       "5     4540.654699         473.5  "
      ]
     },
     "execution_count": 56,
     "metadata": {},
     "output_type": "execute_result"
    }
   ],
   "source": [
    "dff.head()"
   ]
  },
  {
   "cell_type": "code",
   "execution_count": 57,
   "id": "5bed82be",
   "metadata": {},
   "outputs": [],
   "source": [
    "y = dff.price"
   ]
  },
  {
   "cell_type": "code",
   "execution_count": 59,
   "id": "cbca7956",
   "metadata": {},
   "outputs": [],
   "source": [
    "dff.drop(columns=['size','total_sqft','price_per_sqft','price','avg_bed_area'],inplace=True)"
   ]
  },
  {
   "cell_type": "code",
   "execution_count": 63,
   "id": "71ee32bd",
   "metadata": {},
   "outputs": [
    {
     "data": {
      "text/html": [
       "<div>\n",
       "<style scoped>\n",
       "    .dataframe tbody tr th:only-of-type {\n",
       "        vertical-align: middle;\n",
       "    }\n",
       "\n",
       "    .dataframe tbody tr th {\n",
       "        vertical-align: top;\n",
       "    }\n",
       "\n",
       "    .dataframe thead th {\n",
       "        text-align: right;\n",
       "    }\n",
       "</style>\n",
       "<table border=\"1\" class=\"dataframe\">\n",
       "  <thead>\n",
       "    <tr style=\"text-align: right;\">\n",
       "      <th></th>\n",
       "      <th>location</th>\n",
       "      <th>bath</th>\n",
       "      <th>bed</th>\n",
       "      <th>area</th>\n",
       "    </tr>\n",
       "  </thead>\n",
       "  <tbody>\n",
       "    <tr>\n",
       "      <th>1</th>\n",
       "      <td>Devarachikkanahalli</td>\n",
       "      <td>2.0</td>\n",
       "      <td>2.0</td>\n",
       "      <td>1250.0</td>\n",
       "    </tr>\n",
       "    <tr>\n",
       "      <th>2</th>\n",
       "      <td>Devarachikkanahalli</td>\n",
       "      <td>2.0</td>\n",
       "      <td>2.0</td>\n",
       "      <td>1200.0</td>\n",
       "    </tr>\n",
       "    <tr>\n",
       "      <th>3</th>\n",
       "      <td>Devarachikkanahalli</td>\n",
       "      <td>2.0</td>\n",
       "      <td>2.0</td>\n",
       "      <td>1170.0</td>\n",
       "    </tr>\n",
       "    <tr>\n",
       "      <th>4</th>\n",
       "      <td>Devarachikkanahalli</td>\n",
       "      <td>2.0</td>\n",
       "      <td>3.0</td>\n",
       "      <td>1425.0</td>\n",
       "    </tr>\n",
       "    <tr>\n",
       "      <th>5</th>\n",
       "      <td>Devarachikkanahalli</td>\n",
       "      <td>2.0</td>\n",
       "      <td>2.0</td>\n",
       "      <td>947.0</td>\n",
       "    </tr>\n",
       "    <tr>\n",
       "      <th>6</th>\n",
       "      <td>Devarachikkanahalli</td>\n",
       "      <td>2.0</td>\n",
       "      <td>2.0</td>\n",
       "      <td>1130.0</td>\n",
       "    </tr>\n",
       "    <tr>\n",
       "      <th>7</th>\n",
       "      <td>Devarachikkanahalli</td>\n",
       "      <td>2.0</td>\n",
       "      <td>3.0</td>\n",
       "      <td>1417.0</td>\n",
       "    </tr>\n",
       "    <tr>\n",
       "      <th>8</th>\n",
       "      <td>Devarachikkanahalli</td>\n",
       "      <td>2.0</td>\n",
       "      <td>2.0</td>\n",
       "      <td>1230.0</td>\n",
       "    </tr>\n",
       "    <tr>\n",
       "      <th>9</th>\n",
       "      <td>Devarachikkanahalli</td>\n",
       "      <td>3.0</td>\n",
       "      <td>3.0</td>\n",
       "      <td>1705.0</td>\n",
       "    </tr>\n",
       "    <tr>\n",
       "      <th>10</th>\n",
       "      <td>Devarachikkanahalli</td>\n",
       "      <td>2.0</td>\n",
       "      <td>2.0</td>\n",
       "      <td>1116.0</td>\n",
       "    </tr>\n",
       "  </tbody>\n",
       "</table>\n",
       "</div>"
      ],
      "text/plain": [
       "                location  bath  bed    area\n",
       "1    Devarachikkanahalli   2.0  2.0  1250.0\n",
       "2    Devarachikkanahalli   2.0  2.0  1200.0\n",
       "3    Devarachikkanahalli   2.0  2.0  1170.0\n",
       "4    Devarachikkanahalli   2.0  3.0  1425.0\n",
       "5    Devarachikkanahalli   2.0  2.0   947.0\n",
       "6    Devarachikkanahalli   2.0  2.0  1130.0\n",
       "7    Devarachikkanahalli   2.0  3.0  1417.0\n",
       "8    Devarachikkanahalli   2.0  2.0  1230.0\n",
       "9    Devarachikkanahalli   3.0  3.0  1705.0\n",
       "10   Devarachikkanahalli   2.0  2.0  1116.0"
      ]
     },
     "execution_count": 63,
     "metadata": {},
     "output_type": "execute_result"
    }
   ],
   "source": [
    "dff.head(10)"
   ]
  },
  {
   "cell_type": "code",
   "execution_count": 64,
   "id": "779ee42a",
   "metadata": {},
   "outputs": [],
   "source": [
    "from sklearn.compose import ColumnTransformer\n",
    "from sklearn.preprocessing import OneHotEncoder"
   ]
  },
  {
   "cell_type": "code",
   "execution_count": 65,
   "id": "6def6227",
   "metadata": {},
   "outputs": [],
   "source": [
    "ct = ColumnTransformer(\n",
    "    transformers=[('ohe',OneHotEncoder(sparse_output=False,dtype=np.int32),[0])],\n",
    "    remainder='passthrough')"
   ]
  },
  {
   "cell_type": "code",
   "execution_count": 73,
   "id": "d66bbfa2",
   "metadata": {},
   "outputs": [],
   "source": [
    "df2 = ct.fit_transform(dff.values)"
   ]
  },
  {
   "cell_type": "code",
   "execution_count": 95,
   "id": "fcec599f",
   "metadata": {},
   "outputs": [],
   "source": [
    "categories = ct.transformers_[0][1].categories_[0]"
   ]
  },
  {
   "cell_type": "code",
   "execution_count": 100,
   "id": "69e96261",
   "metadata": {},
   "outputs": [],
   "source": [
    "categories\n",
    "with open(\"description.txt\",'w') as f:\n",
    "    f.write(\",\".join(categories))"
   ]
  },
  {
   "cell_type": "code",
   "execution_count": 74,
   "id": "adb59a05",
   "metadata": {},
   "outputs": [
    {
     "data": {
      "text/plain": [
       "(6965, 237)"
      ]
     },
     "execution_count": 74,
     "metadata": {},
     "output_type": "execute_result"
    }
   ],
   "source": [
    "df2.shape"
   ]
  },
  {
   "cell_type": "code",
   "execution_count": 75,
   "id": "250bcaa1",
   "metadata": {},
   "outputs": [],
   "source": [
    "data = pd.DataFrame(df2)"
   ]
  },
  {
   "cell_type": "code",
   "execution_count": 76,
   "id": "7a59991d",
   "metadata": {},
   "outputs": [
    {
     "data": {
      "text/html": [
       "<div>\n",
       "<style scoped>\n",
       "    .dataframe tbody tr th:only-of-type {\n",
       "        vertical-align: middle;\n",
       "    }\n",
       "\n",
       "    .dataframe tbody tr th {\n",
       "        vertical-align: top;\n",
       "    }\n",
       "\n",
       "    .dataframe thead th {\n",
       "        text-align: right;\n",
       "    }\n",
       "</style>\n",
       "<table border=\"1\" class=\"dataframe\">\n",
       "  <thead>\n",
       "    <tr style=\"text-align: right;\">\n",
       "      <th></th>\n",
       "      <th>0</th>\n",
       "      <th>1</th>\n",
       "      <th>2</th>\n",
       "      <th>3</th>\n",
       "      <th>4</th>\n",
       "      <th>5</th>\n",
       "      <th>6</th>\n",
       "      <th>7</th>\n",
       "      <th>8</th>\n",
       "      <th>9</th>\n",
       "      <th>...</th>\n",
       "      <th>227</th>\n",
       "      <th>228</th>\n",
       "      <th>229</th>\n",
       "      <th>230</th>\n",
       "      <th>231</th>\n",
       "      <th>232</th>\n",
       "      <th>233</th>\n",
       "      <th>234</th>\n",
       "      <th>235</th>\n",
       "      <th>236</th>\n",
       "    </tr>\n",
       "  </thead>\n",
       "  <tbody>\n",
       "    <tr>\n",
       "      <th>0</th>\n",
       "      <td>1</td>\n",
       "      <td>0</td>\n",
       "      <td>0</td>\n",
       "      <td>0</td>\n",
       "      <td>0</td>\n",
       "      <td>0</td>\n",
       "      <td>0</td>\n",
       "      <td>0</td>\n",
       "      <td>0</td>\n",
       "      <td>0</td>\n",
       "      <td>...</td>\n",
       "      <td>0</td>\n",
       "      <td>0</td>\n",
       "      <td>0</td>\n",
       "      <td>0</td>\n",
       "      <td>0</td>\n",
       "      <td>0</td>\n",
       "      <td>0</td>\n",
       "      <td>2.0</td>\n",
       "      <td>2.0</td>\n",
       "      <td>1250.0</td>\n",
       "    </tr>\n",
       "    <tr>\n",
       "      <th>1</th>\n",
       "      <td>1</td>\n",
       "      <td>0</td>\n",
       "      <td>0</td>\n",
       "      <td>0</td>\n",
       "      <td>0</td>\n",
       "      <td>0</td>\n",
       "      <td>0</td>\n",
       "      <td>0</td>\n",
       "      <td>0</td>\n",
       "      <td>0</td>\n",
       "      <td>...</td>\n",
       "      <td>0</td>\n",
       "      <td>0</td>\n",
       "      <td>0</td>\n",
       "      <td>0</td>\n",
       "      <td>0</td>\n",
       "      <td>0</td>\n",
       "      <td>0</td>\n",
       "      <td>2.0</td>\n",
       "      <td>2.0</td>\n",
       "      <td>1200.0</td>\n",
       "    </tr>\n",
       "    <tr>\n",
       "      <th>2</th>\n",
       "      <td>1</td>\n",
       "      <td>0</td>\n",
       "      <td>0</td>\n",
       "      <td>0</td>\n",
       "      <td>0</td>\n",
       "      <td>0</td>\n",
       "      <td>0</td>\n",
       "      <td>0</td>\n",
       "      <td>0</td>\n",
       "      <td>0</td>\n",
       "      <td>...</td>\n",
       "      <td>0</td>\n",
       "      <td>0</td>\n",
       "      <td>0</td>\n",
       "      <td>0</td>\n",
       "      <td>0</td>\n",
       "      <td>0</td>\n",
       "      <td>0</td>\n",
       "      <td>2.0</td>\n",
       "      <td>2.0</td>\n",
       "      <td>1170.0</td>\n",
       "    </tr>\n",
       "    <tr>\n",
       "      <th>3</th>\n",
       "      <td>1</td>\n",
       "      <td>0</td>\n",
       "      <td>0</td>\n",
       "      <td>0</td>\n",
       "      <td>0</td>\n",
       "      <td>0</td>\n",
       "      <td>0</td>\n",
       "      <td>0</td>\n",
       "      <td>0</td>\n",
       "      <td>0</td>\n",
       "      <td>...</td>\n",
       "      <td>0</td>\n",
       "      <td>0</td>\n",
       "      <td>0</td>\n",
       "      <td>0</td>\n",
       "      <td>0</td>\n",
       "      <td>0</td>\n",
       "      <td>0</td>\n",
       "      <td>2.0</td>\n",
       "      <td>3.0</td>\n",
       "      <td>1425.0</td>\n",
       "    </tr>\n",
       "    <tr>\n",
       "      <th>4</th>\n",
       "      <td>1</td>\n",
       "      <td>0</td>\n",
       "      <td>0</td>\n",
       "      <td>0</td>\n",
       "      <td>0</td>\n",
       "      <td>0</td>\n",
       "      <td>0</td>\n",
       "      <td>0</td>\n",
       "      <td>0</td>\n",
       "      <td>0</td>\n",
       "      <td>...</td>\n",
       "      <td>0</td>\n",
       "      <td>0</td>\n",
       "      <td>0</td>\n",
       "      <td>0</td>\n",
       "      <td>0</td>\n",
       "      <td>0</td>\n",
       "      <td>0</td>\n",
       "      <td>2.0</td>\n",
       "      <td>2.0</td>\n",
       "      <td>947.0</td>\n",
       "    </tr>\n",
       "    <tr>\n",
       "      <th>5</th>\n",
       "      <td>1</td>\n",
       "      <td>0</td>\n",
       "      <td>0</td>\n",
       "      <td>0</td>\n",
       "      <td>0</td>\n",
       "      <td>0</td>\n",
       "      <td>0</td>\n",
       "      <td>0</td>\n",
       "      <td>0</td>\n",
       "      <td>0</td>\n",
       "      <td>...</td>\n",
       "      <td>0</td>\n",
       "      <td>0</td>\n",
       "      <td>0</td>\n",
       "      <td>0</td>\n",
       "      <td>0</td>\n",
       "      <td>0</td>\n",
       "      <td>0</td>\n",
       "      <td>2.0</td>\n",
       "      <td>2.0</td>\n",
       "      <td>1130.0</td>\n",
       "    </tr>\n",
       "    <tr>\n",
       "      <th>6</th>\n",
       "      <td>1</td>\n",
       "      <td>0</td>\n",
       "      <td>0</td>\n",
       "      <td>0</td>\n",
       "      <td>0</td>\n",
       "      <td>0</td>\n",
       "      <td>0</td>\n",
       "      <td>0</td>\n",
       "      <td>0</td>\n",
       "      <td>0</td>\n",
       "      <td>...</td>\n",
       "      <td>0</td>\n",
       "      <td>0</td>\n",
       "      <td>0</td>\n",
       "      <td>0</td>\n",
       "      <td>0</td>\n",
       "      <td>0</td>\n",
       "      <td>0</td>\n",
       "      <td>2.0</td>\n",
       "      <td>3.0</td>\n",
       "      <td>1417.0</td>\n",
       "    </tr>\n",
       "    <tr>\n",
       "      <th>7</th>\n",
       "      <td>1</td>\n",
       "      <td>0</td>\n",
       "      <td>0</td>\n",
       "      <td>0</td>\n",
       "      <td>0</td>\n",
       "      <td>0</td>\n",
       "      <td>0</td>\n",
       "      <td>0</td>\n",
       "      <td>0</td>\n",
       "      <td>0</td>\n",
       "      <td>...</td>\n",
       "      <td>0</td>\n",
       "      <td>0</td>\n",
       "      <td>0</td>\n",
       "      <td>0</td>\n",
       "      <td>0</td>\n",
       "      <td>0</td>\n",
       "      <td>0</td>\n",
       "      <td>2.0</td>\n",
       "      <td>2.0</td>\n",
       "      <td>1230.0</td>\n",
       "    </tr>\n",
       "    <tr>\n",
       "      <th>8</th>\n",
       "      <td>1</td>\n",
       "      <td>0</td>\n",
       "      <td>0</td>\n",
       "      <td>0</td>\n",
       "      <td>0</td>\n",
       "      <td>0</td>\n",
       "      <td>0</td>\n",
       "      <td>0</td>\n",
       "      <td>0</td>\n",
       "      <td>0</td>\n",
       "      <td>...</td>\n",
       "      <td>0</td>\n",
       "      <td>0</td>\n",
       "      <td>0</td>\n",
       "      <td>0</td>\n",
       "      <td>0</td>\n",
       "      <td>0</td>\n",
       "      <td>0</td>\n",
       "      <td>3.0</td>\n",
       "      <td>3.0</td>\n",
       "      <td>1705.0</td>\n",
       "    </tr>\n",
       "    <tr>\n",
       "      <th>9</th>\n",
       "      <td>1</td>\n",
       "      <td>0</td>\n",
       "      <td>0</td>\n",
       "      <td>0</td>\n",
       "      <td>0</td>\n",
       "      <td>0</td>\n",
       "      <td>0</td>\n",
       "      <td>0</td>\n",
       "      <td>0</td>\n",
       "      <td>0</td>\n",
       "      <td>...</td>\n",
       "      <td>0</td>\n",
       "      <td>0</td>\n",
       "      <td>0</td>\n",
       "      <td>0</td>\n",
       "      <td>0</td>\n",
       "      <td>0</td>\n",
       "      <td>0</td>\n",
       "      <td>2.0</td>\n",
       "      <td>2.0</td>\n",
       "      <td>1116.0</td>\n",
       "    </tr>\n",
       "  </tbody>\n",
       "</table>\n",
       "<p>10 rows × 237 columns</p>\n",
       "</div>"
      ],
      "text/plain": [
       "  0   1   2   3   4   5   6   7   8   9    ... 227 228 229 230 231 232 233  \\\n",
       "0   1   0   0   0   0   0   0   0   0   0  ...   0   0   0   0   0   0   0   \n",
       "1   1   0   0   0   0   0   0   0   0   0  ...   0   0   0   0   0   0   0   \n",
       "2   1   0   0   0   0   0   0   0   0   0  ...   0   0   0   0   0   0   0   \n",
       "3   1   0   0   0   0   0   0   0   0   0  ...   0   0   0   0   0   0   0   \n",
       "4   1   0   0   0   0   0   0   0   0   0  ...   0   0   0   0   0   0   0   \n",
       "5   1   0   0   0   0   0   0   0   0   0  ...   0   0   0   0   0   0   0   \n",
       "6   1   0   0   0   0   0   0   0   0   0  ...   0   0   0   0   0   0   0   \n",
       "7   1   0   0   0   0   0   0   0   0   0  ...   0   0   0   0   0   0   0   \n",
       "8   1   0   0   0   0   0   0   0   0   0  ...   0   0   0   0   0   0   0   \n",
       "9   1   0   0   0   0   0   0   0   0   0  ...   0   0   0   0   0   0   0   \n",
       "\n",
       "   234  235     236  \n",
       "0  2.0  2.0  1250.0  \n",
       "1  2.0  2.0  1200.0  \n",
       "2  2.0  2.0  1170.0  \n",
       "3  2.0  3.0  1425.0  \n",
       "4  2.0  2.0   947.0  \n",
       "5  2.0  2.0  1130.0  \n",
       "6  2.0  3.0  1417.0  \n",
       "7  2.0  2.0  1230.0  \n",
       "8  3.0  3.0  1705.0  \n",
       "9  2.0  2.0  1116.0  \n",
       "\n",
       "[10 rows x 237 columns]"
      ]
     },
     "execution_count": 76,
     "metadata": {},
     "output_type": "execute_result"
    }
   ],
   "source": [
    "data.head(10)"
   ]
  },
  {
   "cell_type": "code",
   "execution_count": 57,
   "id": "82d4c6e8-ee75-4059-82a4-0432729aa86d",
   "metadata": {},
   "outputs": [],
   "source": [
    "# dum = pd.get_dummies(dff,columns=['location'],sparse=False,dtype=np.int32)"
   ]
  },
  {
   "cell_type": "raw",
   "id": "a9ccb6f8-b25f-4a7c-a2e8-1e6ef10cb5bb",
   "metadata": {},
   "source": [
    "we remove total_sqft and avg_bed_sqft to avoid multicollinearity"
   ]
  },
  {
   "cell_type": "code",
   "execution_count": 86,
   "id": "3f516fa8-7ae4-4f94-b145-e384a3ba444a",
   "metadata": {},
   "outputs": [],
   "source": [
    "# data = dum.drop(columns=['size','total_sqft'])"
   ]
  },
  {
   "cell_type": "code",
   "execution_count": 77,
   "id": "9425ebb2",
   "metadata": {},
   "outputs": [],
   "source": [
    "data['price'] = y.values"
   ]
  },
  {
   "cell_type": "code",
   "execution_count": 78,
   "id": "69c08c27-3d91-4721-8e6e-2c42fc4e757b",
   "metadata": {},
   "outputs": [
    {
     "data": {
      "text/plain": [
       "(6965, 238)"
      ]
     },
     "execution_count": 78,
     "metadata": {},
     "output_type": "execute_result"
    }
   ],
   "source": [
    "data.shape"
   ]
  },
  {
   "cell_type": "code",
   "execution_count": 79,
   "id": "ea7f8c85-1ed0-4633-a7cb-8732da96a84f",
   "metadata": {},
   "outputs": [],
   "source": [
    "data.to_csv(\"prepared_data.csv\")"
   ]
  },
  {
   "cell_type": "code",
   "execution_count": 80,
   "id": "a2392a65",
   "metadata": {},
   "outputs": [],
   "source": [
    "pkl.dump(ct,open('ohe.pkl','wb'))"
   ]
  }
 ],
 "metadata": {
  "kernelspec": {
   "display_name": "Python 3 (ipykernel)",
   "language": "python",
   "name": "python3"
  },
  "language_info": {
   "codemirror_mode": {
    "name": "ipython",
    "version": 3
   },
   "file_extension": ".py",
   "mimetype": "text/x-python",
   "name": "python",
   "nbconvert_exporter": "python",
   "pygments_lexer": "ipython3",
   "version": "3.11.4"
  }
 },
 "nbformat": 4,
 "nbformat_minor": 5
}
