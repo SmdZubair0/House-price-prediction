{
  "cells": [
    {
      "cell_type": "code",
      "execution_count": 1,
      "id": "83bc6a58-b6ce-45c8-9494-079c7cff6799",
      "metadata": {
        "id": "83bc6a58-b6ce-45c8-9494-079c7cff6799"
      },
      "outputs": [],
      "source": [
        "import numpy as np\n",
        "import pandas as pd\n",
        "from sklearn.preprocessing import StandardScaler\n",
        "from sklearn.model_selection import train_test_split,cross_val_score,ShuffleSplit,GridSearchCV\n",
        "from sklearn.linear_model import LinearRegression,Ridge,Lasso,ElasticNet,SGDRegressor\n",
        "from sklearn.tree import DecisionTreeRegressor\n",
        "from sklearn.ensemble import RandomForestRegressor,VotingRegressor,AdaBoostRegressor,GradientBoostingRegressor,StackingRegressor\n",
        "from sklearn.neighbors import KNeighborsRegressor\n",
        "from sklearn.metrics import r2_score\n",
        "import pickle as pkl"
      ]
    },
    {
      "cell_type": "code",
      "execution_count": 2,
      "id": "8cbbcfc3-0cb9-4ad8-8c06-627f3da9131e",
      "metadata": {
        "id": "8cbbcfc3-0cb9-4ad8-8c06-627f3da9131e"
      },
      "outputs": [],
      "source": [
        "df = pd.read_csv(\"prepared_data.csv\")"
      ]
    },
    {
      "cell_type": "code",
      "execution_count": 3,
      "id": "825137cd-fd42-4be1-afde-5bfc829ac098",
      "metadata": {
        "colab": {
          "base_uri": "https://localhost:8080/",
          "height": 290
        },
        "id": "825137cd-fd42-4be1-afde-5bfc829ac098",
        "outputId": "11df3212-3fef-47b8-8e55-d53143a4082a"
      },
      "outputs": [
        {
          "data": {
            "text/html": [
              "<div>\n",
              "<style scoped>\n",
              "    .dataframe tbody tr th:only-of-type {\n",
              "        vertical-align: middle;\n",
              "    }\n",
              "\n",
              "    .dataframe tbody tr th {\n",
              "        vertical-align: top;\n",
              "    }\n",
              "\n",
              "    .dataframe thead th {\n",
              "        text-align: right;\n",
              "    }\n",
              "</style>\n",
              "<table border=\"1\" class=\"dataframe\">\n",
              "  <thead>\n",
              "    <tr style=\"text-align: right;\">\n",
              "      <th></th>\n",
              "      <th>Unnamed: 0</th>\n",
              "      <th>0</th>\n",
              "      <th>1</th>\n",
              "      <th>2</th>\n",
              "      <th>3</th>\n",
              "      <th>4</th>\n",
              "      <th>5</th>\n",
              "      <th>6</th>\n",
              "      <th>7</th>\n",
              "      <th>8</th>\n",
              "      <th>...</th>\n",
              "      <th>228</th>\n",
              "      <th>229</th>\n",
              "      <th>230</th>\n",
              "      <th>231</th>\n",
              "      <th>232</th>\n",
              "      <th>233</th>\n",
              "      <th>234</th>\n",
              "      <th>235</th>\n",
              "      <th>236</th>\n",
              "      <th>price</th>\n",
              "    </tr>\n",
              "  </thead>\n",
              "  <tbody>\n",
              "    <tr>\n",
              "      <th>0</th>\n",
              "      <td>0</td>\n",
              "      <td>1</td>\n",
              "      <td>0</td>\n",
              "      <td>0</td>\n",
              "      <td>0</td>\n",
              "      <td>0</td>\n",
              "      <td>0</td>\n",
              "      <td>0</td>\n",
              "      <td>0</td>\n",
              "      <td>0</td>\n",
              "      <td>...</td>\n",
              "      <td>0</td>\n",
              "      <td>0</td>\n",
              "      <td>0</td>\n",
              "      <td>0</td>\n",
              "      <td>0</td>\n",
              "      <td>0</td>\n",
              "      <td>2.0</td>\n",
              "      <td>2.0</td>\n",
              "      <td>1250.0</td>\n",
              "      <td>40.0</td>\n",
              "    </tr>\n",
              "    <tr>\n",
              "      <th>1</th>\n",
              "      <td>1</td>\n",
              "      <td>1</td>\n",
              "      <td>0</td>\n",
              "      <td>0</td>\n",
              "      <td>0</td>\n",
              "      <td>0</td>\n",
              "      <td>0</td>\n",
              "      <td>0</td>\n",
              "      <td>0</td>\n",
              "      <td>0</td>\n",
              "      <td>...</td>\n",
              "      <td>0</td>\n",
              "      <td>0</td>\n",
              "      <td>0</td>\n",
              "      <td>0</td>\n",
              "      <td>0</td>\n",
              "      <td>0</td>\n",
              "      <td>2.0</td>\n",
              "      <td>2.0</td>\n",
              "      <td>1200.0</td>\n",
              "      <td>83.0</td>\n",
              "    </tr>\n",
              "    <tr>\n",
              "      <th>2</th>\n",
              "      <td>2</td>\n",
              "      <td>1</td>\n",
              "      <td>0</td>\n",
              "      <td>0</td>\n",
              "      <td>0</td>\n",
              "      <td>0</td>\n",
              "      <td>0</td>\n",
              "      <td>0</td>\n",
              "      <td>0</td>\n",
              "      <td>0</td>\n",
              "      <td>...</td>\n",
              "      <td>0</td>\n",
              "      <td>0</td>\n",
              "      <td>0</td>\n",
              "      <td>0</td>\n",
              "      <td>0</td>\n",
              "      <td>0</td>\n",
              "      <td>2.0</td>\n",
              "      <td>2.0</td>\n",
              "      <td>1170.0</td>\n",
              "      <td>40.0</td>\n",
              "    </tr>\n",
              "    <tr>\n",
              "      <th>3</th>\n",
              "      <td>3</td>\n",
              "      <td>1</td>\n",
              "      <td>0</td>\n",
              "      <td>0</td>\n",
              "      <td>0</td>\n",
              "      <td>0</td>\n",
              "      <td>0</td>\n",
              "      <td>0</td>\n",
              "      <td>0</td>\n",
              "      <td>0</td>\n",
              "      <td>...</td>\n",
              "      <td>0</td>\n",
              "      <td>0</td>\n",
              "      <td>0</td>\n",
              "      <td>0</td>\n",
              "      <td>0</td>\n",
              "      <td>0</td>\n",
              "      <td>2.0</td>\n",
              "      <td>3.0</td>\n",
              "      <td>1425.0</td>\n",
              "      <td>65.0</td>\n",
              "    </tr>\n",
              "    <tr>\n",
              "      <th>4</th>\n",
              "      <td>4</td>\n",
              "      <td>1</td>\n",
              "      <td>0</td>\n",
              "      <td>0</td>\n",
              "      <td>0</td>\n",
              "      <td>0</td>\n",
              "      <td>0</td>\n",
              "      <td>0</td>\n",
              "      <td>0</td>\n",
              "      <td>0</td>\n",
              "      <td>...</td>\n",
              "      <td>0</td>\n",
              "      <td>0</td>\n",
              "      <td>0</td>\n",
              "      <td>0</td>\n",
              "      <td>0</td>\n",
              "      <td>0</td>\n",
              "      <td>2.0</td>\n",
              "      <td>2.0</td>\n",
              "      <td>947.0</td>\n",
              "      <td>43.0</td>\n",
              "    </tr>\n",
              "    <tr>\n",
              "      <th>5</th>\n",
              "      <td>5</td>\n",
              "      <td>1</td>\n",
              "      <td>0</td>\n",
              "      <td>0</td>\n",
              "      <td>0</td>\n",
              "      <td>0</td>\n",
              "      <td>0</td>\n",
              "      <td>0</td>\n",
              "      <td>0</td>\n",
              "      <td>0</td>\n",
              "      <td>...</td>\n",
              "      <td>0</td>\n",
              "      <td>0</td>\n",
              "      <td>0</td>\n",
              "      <td>0</td>\n",
              "      <td>0</td>\n",
              "      <td>0</td>\n",
              "      <td>2.0</td>\n",
              "      <td>2.0</td>\n",
              "      <td>1130.0</td>\n",
              "      <td>36.0</td>\n",
              "    </tr>\n",
              "    <tr>\n",
              "      <th>6</th>\n",
              "      <td>6</td>\n",
              "      <td>1</td>\n",
              "      <td>0</td>\n",
              "      <td>0</td>\n",
              "      <td>0</td>\n",
              "      <td>0</td>\n",
              "      <td>0</td>\n",
              "      <td>0</td>\n",
              "      <td>0</td>\n",
              "      <td>0</td>\n",
              "      <td>...</td>\n",
              "      <td>0</td>\n",
              "      <td>0</td>\n",
              "      <td>0</td>\n",
              "      <td>0</td>\n",
              "      <td>0</td>\n",
              "      <td>0</td>\n",
              "      <td>2.0</td>\n",
              "      <td>3.0</td>\n",
              "      <td>1417.0</td>\n",
              "      <td>76.0</td>\n",
              "    </tr>\n",
              "    <tr>\n",
              "      <th>7</th>\n",
              "      <td>7</td>\n",
              "      <td>1</td>\n",
              "      <td>0</td>\n",
              "      <td>0</td>\n",
              "      <td>0</td>\n",
              "      <td>0</td>\n",
              "      <td>0</td>\n",
              "      <td>0</td>\n",
              "      <td>0</td>\n",
              "      <td>0</td>\n",
              "      <td>...</td>\n",
              "      <td>0</td>\n",
              "      <td>0</td>\n",
              "      <td>0</td>\n",
              "      <td>0</td>\n",
              "      <td>0</td>\n",
              "      <td>0</td>\n",
              "      <td>2.0</td>\n",
              "      <td>2.0</td>\n",
              "      <td>1230.0</td>\n",
              "      <td>58.0</td>\n",
              "    </tr>\n",
              "    <tr>\n",
              "      <th>8</th>\n",
              "      <td>8</td>\n",
              "      <td>1</td>\n",
              "      <td>0</td>\n",
              "      <td>0</td>\n",
              "      <td>0</td>\n",
              "      <td>0</td>\n",
              "      <td>0</td>\n",
              "      <td>0</td>\n",
              "      <td>0</td>\n",
              "      <td>0</td>\n",
              "      <td>...</td>\n",
              "      <td>0</td>\n",
              "      <td>0</td>\n",
              "      <td>0</td>\n",
              "      <td>0</td>\n",
              "      <td>0</td>\n",
              "      <td>0</td>\n",
              "      <td>3.0</td>\n",
              "      <td>3.0</td>\n",
              "      <td>1705.0</td>\n",
              "      <td>75.0</td>\n",
              "    </tr>\n",
              "    <tr>\n",
              "      <th>9</th>\n",
              "      <td>9</td>\n",
              "      <td>1</td>\n",
              "      <td>0</td>\n",
              "      <td>0</td>\n",
              "      <td>0</td>\n",
              "      <td>0</td>\n",
              "      <td>0</td>\n",
              "      <td>0</td>\n",
              "      <td>0</td>\n",
              "      <td>0</td>\n",
              "      <td>...</td>\n",
              "      <td>0</td>\n",
              "      <td>0</td>\n",
              "      <td>0</td>\n",
              "      <td>0</td>\n",
              "      <td>0</td>\n",
              "      <td>0</td>\n",
              "      <td>2.0</td>\n",
              "      <td>2.0</td>\n",
              "      <td>1116.0</td>\n",
              "      <td>47.0</td>\n",
              "    </tr>\n",
              "  </tbody>\n",
              "</table>\n",
              "<p>10 rows × 239 columns</p>\n",
              "</div>"
            ],
            "text/plain": [
              "   Unnamed: 0  0  1  2  3  4  5  6  7  8  ...  228  229  230  231  232  233  \\\n",
              "0           0  1  0  0  0  0  0  0  0  0  ...    0    0    0    0    0    0   \n",
              "1           1  1  0  0  0  0  0  0  0  0  ...    0    0    0    0    0    0   \n",
              "2           2  1  0  0  0  0  0  0  0  0  ...    0    0    0    0    0    0   \n",
              "3           3  1  0  0  0  0  0  0  0  0  ...    0    0    0    0    0    0   \n",
              "4           4  1  0  0  0  0  0  0  0  0  ...    0    0    0    0    0    0   \n",
              "5           5  1  0  0  0  0  0  0  0  0  ...    0    0    0    0    0    0   \n",
              "6           6  1  0  0  0  0  0  0  0  0  ...    0    0    0    0    0    0   \n",
              "7           7  1  0  0  0  0  0  0  0  0  ...    0    0    0    0    0    0   \n",
              "8           8  1  0  0  0  0  0  0  0  0  ...    0    0    0    0    0    0   \n",
              "9           9  1  0  0  0  0  0  0  0  0  ...    0    0    0    0    0    0   \n",
              "\n",
              "   234  235     236  price  \n",
              "0  2.0  2.0  1250.0   40.0  \n",
              "1  2.0  2.0  1200.0   83.0  \n",
              "2  2.0  2.0  1170.0   40.0  \n",
              "3  2.0  3.0  1425.0   65.0  \n",
              "4  2.0  2.0   947.0   43.0  \n",
              "5  2.0  2.0  1130.0   36.0  \n",
              "6  2.0  3.0  1417.0   76.0  \n",
              "7  2.0  2.0  1230.0   58.0  \n",
              "8  3.0  3.0  1705.0   75.0  \n",
              "9  2.0  2.0  1116.0   47.0  \n",
              "\n",
              "[10 rows x 239 columns]"
            ]
          },
          "execution_count": 3,
          "metadata": {},
          "output_type": "execute_result"
        }
      ],
      "source": [
        "df.head(10)"
      ]
    },
    {
      "cell_type": "code",
      "execution_count": 4,
      "id": "568bad77-94ea-491c-9078-d54651ee096f",
      "metadata": {
        "id": "568bad77-94ea-491c-9078-d54651ee096f"
      },
      "outputs": [],
      "source": [
        "x = df.drop(columns=['Unnamed: 0','price'])\n",
        "y = df.price"
      ]
    },
    {
      "cell_type": "code",
      "execution_count": 5,
      "id": "6e7d1c30-b3ef-474d-8f89-064270450847",
      "metadata": {
        "colab": {
          "base_uri": "https://localhost:8080/"
        },
        "id": "6e7d1c30-b3ef-474d-8f89-064270450847",
        "outputId": "40c524bb-ec1b-4f81-e9b7-850c07a50c74"
      },
      "outputs": [
        {
          "data": {
            "text/plain": [
              "(6965, 237)"
            ]
          },
          "execution_count": 5,
          "metadata": {},
          "output_type": "execute_result"
        }
      ],
      "source": [
        "x.shape"
      ]
    },
    {
      "cell_type": "code",
      "execution_count": 6,
      "id": "ee800d9f-6bc9-4a23-8a73-b6e56e2680f0",
      "metadata": {
        "colab": {
          "base_uri": "https://localhost:8080/"
        },
        "id": "ee800d9f-6bc9-4a23-8a73-b6e56e2680f0",
        "outputId": "e3ab66a1-5be7-4e48-d8f4-8ebf4f37d976"
      },
      "outputs": [
        {
          "data": {
            "text/plain": [
              "(6965,)"
            ]
          },
          "execution_count": 6,
          "metadata": {},
          "output_type": "execute_result"
        }
      ],
      "source": [
        "y.shape"
      ]
    },
    {
      "cell_type": "code",
      "execution_count": 7,
      "id": "8c521375-c7d9-4565-a2a2-09b1a6d119df",
      "metadata": {
        "id": "8c521375-c7d9-4565-a2a2-09b1a6d119df"
      },
      "outputs": [],
      "source": [
        "# import seaborn as sns"
      ]
    },
    {
      "cell_type": "code",
      "execution_count": 8,
      "id": "866ce33c-dcd5-4e1a-8aa4-9dd3eeff723a",
      "metadata": {
        "id": "866ce33c-dcd5-4e1a-8aa4-9dd3eeff723a"
      },
      "outputs": [],
      "source": [
        "# sns.scatterplot(data=df,x='area',y='price',hue='bed')"
      ]
    },
    {
      "cell_type": "code",
      "execution_count": 9,
      "id": "87c8b98d-5546-4ddb-ab5d-f758e1c06458",
      "metadata": {
        "id": "87c8b98d-5546-4ddb-ab5d-f758e1c06458"
      },
      "outputs": [],
      "source": [
        "x_train,x_test,y_train,y_test = train_test_split(x,y,test_size=0.2)"
      ]
    },
    {
      "cell_type": "code",
      "execution_count": 10,
      "id": "58915f28-9c7f-4c71-8cbb-5154a4deba59",
      "metadata": {
        "colab": {
          "base_uri": "https://localhost:8080/"
        },
        "id": "58915f28-9c7f-4c71-8cbb-5154a4deba59",
        "outputId": "9f733cc5-1283-4606-c2b4-a0f00f4e9e7c"
      },
      "outputs": [
        {
          "data": {
            "text/plain": [
              "(1393, 237)"
            ]
          },
          "execution_count": 10,
          "metadata": {},
          "output_type": "execute_result"
        }
      ],
      "source": [
        "x_test.shape"
      ]
    },
    {
      "cell_type": "code",
      "execution_count": 11,
      "id": "dad3084e-ea2b-49fa-a780-a798837ce45f",
      "metadata": {
        "id": "dad3084e-ea2b-49fa-a780-a798837ce45f"
      },
      "outputs": [],
      "source": [
        "ss = StandardScaler()\n",
        "\n",
        "x_train_scaled = ss.fit_transform(x_train.values)\n",
        "x_test_scaled = ss.transform(x_test.values)"
      ]
    },
    {
      "cell_type": "code",
      "execution_count": 12,
      "id": "366e9d46",
      "metadata": {},
      "outputs": [],
      "source": [
        "x_scaled = ss.transform(x.values)"
      ]
    },
    {
      "cell_type": "code",
      "execution_count": 13,
      "id": "9d916aa7-d9d8-4c79-8d01-775f9ad28c3e",
      "metadata": {
        "id": "9d916aa7-d9d8-4c79-8d01-775f9ad28c3e"
      },
      "outputs": [],
      "source": [
        "def adj_r2(r2):\n",
        "    return 1-(1-r2)*(y_test.shape[0]-1)/(y_test.shape[0]-1-x_train.shape[1])"
      ]
    },
    {
      "cell_type": "markdown",
      "id": "b62f4219-c8da-4d60-b977-e5f25d9520f9",
      "metadata": {
        "id": "b62f4219-c8da-4d60-b977-e5f25d9520f9"
      },
      "source": [
        "### LinearRegression"
      ]
    },
    {
      "cell_type": "code",
      "execution_count": 15,
      "id": "34516b01-325a-4514-a1c2-781e27b0f8d8",
      "metadata": {
        "colab": {
          "base_uri": "https://localhost:8080/",
          "height": 930
        },
        "id": "34516b01-325a-4514-a1c2-781e27b0f8d8",
        "outputId": "aeb9f4fd-ce81-49d3-e06a-9e7f1d4e9284"
      },
      "outputs": [
        {
          "name": "stdout",
          "output_type": "stream",
          "text": [
            "R2 scores : [0.8229865  0.82083143 0.83474364 0.82530795 0.83380624]\n",
            "Adjusted R2 scores : [0.78666425 0.78406697 0.80083389 0.78946205 0.79970414]\n"
          ]
        }
      ],
      "source": [
        "lr = LinearRegression()\n",
        "\n",
        "# 1\n",
        "# lr.fit(x_train_scaled,y_train)\n",
        "\n",
        "# ypred_train = lr.predict(x_train_scaled)\n",
        "# ypred_test = lr.predict(x_test_scaled)\n",
        "\n",
        "# print(f\"r2_score for train data : {r2_score(ypred_train,y_train)}\")\n",
        "# print(f\"r2_score for test data : {r2_score(ypred_test,y_test)}\")\n",
        "\n",
        "# 2\n",
        "cv = ShuffleSplit(n_splits=5,test_size=0.2,random_state=10)\n",
        "scores = cross_val_score(lr,x.values,y.values,cv=cv)\n",
        "\n",
        "a = np.array(list(map(adj_r2,scores)))\n",
        "\n",
        "print(f\"R2 scores : {scores}\")\n",
        "print(f\"Adjusted R2 scores : {a}\")\n"
      ]
    },
    {
      "cell_type": "markdown",
      "id": "ee808d5d-7ff1-4749-a24a-a3ec64f9ddf2",
      "metadata": {
        "id": "ee808d5d-7ff1-4749-a24a-a3ec64f9ddf2"
      },
      "source": [
        "### Ridge"
      ]
    },
    {
      "cell_type": "code",
      "execution_count": 21,
      "id": "cfe077a3-6187-4031-91d6-4577d9c83816",
      "metadata": {
        "id": "cfe077a3-6187-4031-91d6-4577d9c83816"
      },
      "outputs": [
        {
          "name": "stdout",
          "output_type": "stream",
          "text": [
            "Fitting 3 folds for each of 32 candidates, totalling 96 fits\n"
          ]
        },
        {
          "data": {
            "text/html": [
              "<style>#sk-container-id-1 {color: black;}#sk-container-id-1 pre{padding: 0;}#sk-container-id-1 div.sk-toggleable {background-color: white;}#sk-container-id-1 label.sk-toggleable__label {cursor: pointer;display: block;width: 100%;margin-bottom: 0;padding: 0.3em;box-sizing: border-box;text-align: center;}#sk-container-id-1 label.sk-toggleable__label-arrow:before {content: \"▸\";float: left;margin-right: 0.25em;color: #696969;}#sk-container-id-1 label.sk-toggleable__label-arrow:hover:before {color: black;}#sk-container-id-1 div.sk-estimator:hover label.sk-toggleable__label-arrow:before {color: black;}#sk-container-id-1 div.sk-toggleable__content {max-height: 0;max-width: 0;overflow: hidden;text-align: left;background-color: #f0f8ff;}#sk-container-id-1 div.sk-toggleable__content pre {margin: 0.2em;color: black;border-radius: 0.25em;background-color: #f0f8ff;}#sk-container-id-1 input.sk-toggleable__control:checked~div.sk-toggleable__content {max-height: 200px;max-width: 100%;overflow: auto;}#sk-container-id-1 input.sk-toggleable__control:checked~label.sk-toggleable__label-arrow:before {content: \"▾\";}#sk-container-id-1 div.sk-estimator input.sk-toggleable__control:checked~label.sk-toggleable__label {background-color: #d4ebff;}#sk-container-id-1 div.sk-label input.sk-toggleable__control:checked~label.sk-toggleable__label {background-color: #d4ebff;}#sk-container-id-1 input.sk-hidden--visually {border: 0;clip: rect(1px 1px 1px 1px);clip: rect(1px, 1px, 1px, 1px);height: 1px;margin: -1px;overflow: hidden;padding: 0;position: absolute;width: 1px;}#sk-container-id-1 div.sk-estimator {font-family: monospace;background-color: #f0f8ff;border: 1px dotted black;border-radius: 0.25em;box-sizing: border-box;margin-bottom: 0.5em;}#sk-container-id-1 div.sk-estimator:hover {background-color: #d4ebff;}#sk-container-id-1 div.sk-parallel-item::after {content: \"\";width: 100%;border-bottom: 1px solid gray;flex-grow: 1;}#sk-container-id-1 div.sk-label:hover label.sk-toggleable__label {background-color: #d4ebff;}#sk-container-id-1 div.sk-serial::before {content: \"\";position: absolute;border-left: 1px solid gray;box-sizing: border-box;top: 0;bottom: 0;left: 50%;z-index: 0;}#sk-container-id-1 div.sk-serial {display: flex;flex-direction: column;align-items: center;background-color: white;padding-right: 0.2em;padding-left: 0.2em;position: relative;}#sk-container-id-1 div.sk-item {position: relative;z-index: 1;}#sk-container-id-1 div.sk-parallel {display: flex;align-items: stretch;justify-content: center;background-color: white;position: relative;}#sk-container-id-1 div.sk-item::before, #sk-container-id-1 div.sk-parallel-item::before {content: \"\";position: absolute;border-left: 1px solid gray;box-sizing: border-box;top: 0;bottom: 0;left: 50%;z-index: -1;}#sk-container-id-1 div.sk-parallel-item {display: flex;flex-direction: column;z-index: 1;position: relative;background-color: white;}#sk-container-id-1 div.sk-parallel-item:first-child::after {align-self: flex-end;width: 50%;}#sk-container-id-1 div.sk-parallel-item:last-child::after {align-self: flex-start;width: 50%;}#sk-container-id-1 div.sk-parallel-item:only-child::after {width: 0;}#sk-container-id-1 div.sk-dashed-wrapped {border: 1px dashed gray;margin: 0 0.4em 0.5em 0.4em;box-sizing: border-box;padding-bottom: 0.4em;background-color: white;}#sk-container-id-1 div.sk-label label {font-family: monospace;font-weight: bold;display: inline-block;line-height: 1.2em;}#sk-container-id-1 div.sk-label-container {text-align: center;}#sk-container-id-1 div.sk-container {/* jupyter's `normalize.less` sets `[hidden] { display: none; }` but bootstrap.min.css set `[hidden] { display: none !important; }` so we also need the `!important` here to be able to override the default hidden behavior on the sphinx rendered scikit-learn.org. See: https://github.com/scikit-learn/scikit-learn/issues/21755 */display: inline-block !important;position: relative;}#sk-container-id-1 div.sk-text-repr-fallback {display: none;}</style><div id=\"sk-container-id-1\" class=\"sk-top-container\"><div class=\"sk-text-repr-fallback\"><pre>GridSearchCV(cv=3, estimator=Ridge(), n_jobs=-1,\n",
              "             param_grid={&#x27;alpha&#x27;: [10, 1, 0.1, 0.01], &#x27;max_iter&#x27;: [5000, 8000],\n",
              "                         &#x27;solver&#x27;: [&#x27;lsqr&#x27;, &#x27;sag&#x27;, &#x27;svd&#x27;, &#x27;auto&#x27;]},\n",
              "             scoring=&#x27;r2&#x27;, verbose=10)</pre><b>In a Jupyter environment, please rerun this cell to show the HTML representation or trust the notebook. <br />On GitHub, the HTML representation is unable to render, please try loading this page with nbviewer.org.</b></div><div class=\"sk-container\" hidden><div class=\"sk-item sk-dashed-wrapped\"><div class=\"sk-label-container\"><div class=\"sk-label sk-toggleable\"><input class=\"sk-toggleable__control sk-hidden--visually\" id=\"sk-estimator-id-1\" type=\"checkbox\" ><label for=\"sk-estimator-id-1\" class=\"sk-toggleable__label sk-toggleable__label-arrow\">GridSearchCV</label><div class=\"sk-toggleable__content\"><pre>GridSearchCV(cv=3, estimator=Ridge(), n_jobs=-1,\n",
              "             param_grid={&#x27;alpha&#x27;: [10, 1, 0.1, 0.01], &#x27;max_iter&#x27;: [5000, 8000],\n",
              "                         &#x27;solver&#x27;: [&#x27;lsqr&#x27;, &#x27;sag&#x27;, &#x27;svd&#x27;, &#x27;auto&#x27;]},\n",
              "             scoring=&#x27;r2&#x27;, verbose=10)</pre></div></div></div><div class=\"sk-parallel\"><div class=\"sk-parallel-item\"><div class=\"sk-item\"><div class=\"sk-label-container\"><div class=\"sk-label sk-toggleable\"><input class=\"sk-toggleable__control sk-hidden--visually\" id=\"sk-estimator-id-2\" type=\"checkbox\" ><label for=\"sk-estimator-id-2\" class=\"sk-toggleable__label sk-toggleable__label-arrow\">estimator: Ridge</label><div class=\"sk-toggleable__content\"><pre>Ridge()</pre></div></div></div><div class=\"sk-serial\"><div class=\"sk-item\"><div class=\"sk-estimator sk-toggleable\"><input class=\"sk-toggleable__control sk-hidden--visually\" id=\"sk-estimator-id-3\" type=\"checkbox\" ><label for=\"sk-estimator-id-3\" class=\"sk-toggleable__label sk-toggleable__label-arrow\">Ridge</label><div class=\"sk-toggleable__content\"><pre>Ridge()</pre></div></div></div></div></div></div></div></div></div></div>"
            ],
            "text/plain": [
              "GridSearchCV(cv=3, estimator=Ridge(), n_jobs=-1,\n",
              "             param_grid={'alpha': [10, 1, 0.1, 0.01], 'max_iter': [5000, 8000],\n",
              "                         'solver': ['lsqr', 'sag', 'svd', 'auto']},\n",
              "             scoring='r2', verbose=10)"
            ]
          },
          "execution_count": 21,
          "metadata": {},
          "output_type": "execute_result"
        }
      ],
      "source": [
        "ridge = Ridge()\n",
        "\n",
        "# 1\n",
        "# ridge.fit(x_train_scaled,y_train)\n",
        "\n",
        "# ypred_train = ridge.predict(x_train_scaled)\n",
        "# ypred_test = ridge.predict(x_test_scaled)\n",
        "\n",
        "# print(f\"r2_score for train data : {r2_score(ypred_train,y_train)}\")\n",
        "# print(f\"r2_score for test data : {r2_score(ypred_test,y_test)}\")\n",
        "\n",
        "# 2\n",
        "# cv = ShuffleSplit(n_splits=5,test_size=0.2,random_state=10)\n",
        "# scores = cross_val_score(ridge,x_scaled,y.values,cv=cv)\n",
        "\n",
        "# a = np.array(list(map(adj_r2,scores)))\n",
        "\n",
        "# print(f\"R2 scores : {scores}\")\n",
        "# print(f\"Adjusted R2 scores : {a}\")\n",
        "\n",
        "param = {\n",
        "    'alpha' : [10,1,0.1,0.01],\n",
        "    'solver' : ['lsqr','sag','svd','auto'],\n",
        "    'max_iter' : [5000,8000]\n",
        "}\n",
        "\n",
        "model = GridSearchCV(ridge,param,cv=3,scoring='r2',n_jobs=-1,verbose=10)\n",
        "\n",
        "model.fit(x_train_scaled,y_train)\n"
      ]
    },
    {
      "cell_type": "code",
      "execution_count": 22,
      "id": "0a1089c4",
      "metadata": {},
      "outputs": [
        {
          "name": "stdout",
          "output_type": "stream",
          "text": [
            "0.8412956740504497\n",
            "{'alpha': 10, 'max_iter': 5000, 'solver': 'svd'}\n"
          ]
        }
      ],
      "source": [
        "print(model.best_score_)\n",
        "print(model.best_params_)"
      ]
    },
    {
      "cell_type": "code",
      "execution_count": 27,
      "id": "d7e55391",
      "metadata": {},
      "outputs": [
        {
          "name": "stdout",
          "output_type": "stream",
          "text": [
            "r2_score for train data : 0.8395289626518142\n",
            "r2_score for test data : 0.8095142995105532\n"
          ]
        }
      ],
      "source": [
        "new_ridge = Ridge(alpha= 10, max_iter= 5000, solver= 'svd')\n",
        "\n",
        "new_ridge.fit(x_train_scaled,y_train)\n",
        "\n",
        "ypred_train = new_ridge.predict(x_train_scaled)\n",
        "ypred_test = new_ridge.predict(x_test_scaled)\n",
        "\n",
        "print(f\"r2_score for train data : {r2_score(ypred_train,y_train)}\")\n",
        "print(f\"r2_score for test data : {r2_score(ypred_test,y_test)}\")"
      ]
    },
    {
      "cell_type": "markdown",
      "id": "8f852293-ef3e-4291-a730-47555f802e7f",
      "metadata": {
        "id": "8f852293-ef3e-4291-a730-47555f802e7f"
      },
      "source": [
        "### Lasso"
      ]
    },
    {
      "cell_type": "code",
      "execution_count": 34,
      "id": "4afbc159-1f71-470a-91dc-51f93e576797",
      "metadata": {
        "id": "4afbc159-1f71-470a-91dc-51f93e576797",
        "outputId": "4f22d2ab-35d0-486e-d853-572af2659fe1"
      },
      "outputs": [
        {
          "name": "stdout",
          "output_type": "stream",
          "text": [
            "Fitting 3 folds for each of 16 candidates, totalling 48 fits\n"
          ]
        },
        {
          "data": {
            "text/html": [
              "<style>#sk-container-id-2 {color: black;}#sk-container-id-2 pre{padding: 0;}#sk-container-id-2 div.sk-toggleable {background-color: white;}#sk-container-id-2 label.sk-toggleable__label {cursor: pointer;display: block;width: 100%;margin-bottom: 0;padding: 0.3em;box-sizing: border-box;text-align: center;}#sk-container-id-2 label.sk-toggleable__label-arrow:before {content: \"▸\";float: left;margin-right: 0.25em;color: #696969;}#sk-container-id-2 label.sk-toggleable__label-arrow:hover:before {color: black;}#sk-container-id-2 div.sk-estimator:hover label.sk-toggleable__label-arrow:before {color: black;}#sk-container-id-2 div.sk-toggleable__content {max-height: 0;max-width: 0;overflow: hidden;text-align: left;background-color: #f0f8ff;}#sk-container-id-2 div.sk-toggleable__content pre {margin: 0.2em;color: black;border-radius: 0.25em;background-color: #f0f8ff;}#sk-container-id-2 input.sk-toggleable__control:checked~div.sk-toggleable__content {max-height: 200px;max-width: 100%;overflow: auto;}#sk-container-id-2 input.sk-toggleable__control:checked~label.sk-toggleable__label-arrow:before {content: \"▾\";}#sk-container-id-2 div.sk-estimator input.sk-toggleable__control:checked~label.sk-toggleable__label {background-color: #d4ebff;}#sk-container-id-2 div.sk-label input.sk-toggleable__control:checked~label.sk-toggleable__label {background-color: #d4ebff;}#sk-container-id-2 input.sk-hidden--visually {border: 0;clip: rect(1px 1px 1px 1px);clip: rect(1px, 1px, 1px, 1px);height: 1px;margin: -1px;overflow: hidden;padding: 0;position: absolute;width: 1px;}#sk-container-id-2 div.sk-estimator {font-family: monospace;background-color: #f0f8ff;border: 1px dotted black;border-radius: 0.25em;box-sizing: border-box;margin-bottom: 0.5em;}#sk-container-id-2 div.sk-estimator:hover {background-color: #d4ebff;}#sk-container-id-2 div.sk-parallel-item::after {content: \"\";width: 100%;border-bottom: 1px solid gray;flex-grow: 1;}#sk-container-id-2 div.sk-label:hover label.sk-toggleable__label {background-color: #d4ebff;}#sk-container-id-2 div.sk-serial::before {content: \"\";position: absolute;border-left: 1px solid gray;box-sizing: border-box;top: 0;bottom: 0;left: 50%;z-index: 0;}#sk-container-id-2 div.sk-serial {display: flex;flex-direction: column;align-items: center;background-color: white;padding-right: 0.2em;padding-left: 0.2em;position: relative;}#sk-container-id-2 div.sk-item {position: relative;z-index: 1;}#sk-container-id-2 div.sk-parallel {display: flex;align-items: stretch;justify-content: center;background-color: white;position: relative;}#sk-container-id-2 div.sk-item::before, #sk-container-id-2 div.sk-parallel-item::before {content: \"\";position: absolute;border-left: 1px solid gray;box-sizing: border-box;top: 0;bottom: 0;left: 50%;z-index: -1;}#sk-container-id-2 div.sk-parallel-item {display: flex;flex-direction: column;z-index: 1;position: relative;background-color: white;}#sk-container-id-2 div.sk-parallel-item:first-child::after {align-self: flex-end;width: 50%;}#sk-container-id-2 div.sk-parallel-item:last-child::after {align-self: flex-start;width: 50%;}#sk-container-id-2 div.sk-parallel-item:only-child::after {width: 0;}#sk-container-id-2 div.sk-dashed-wrapped {border: 1px dashed gray;margin: 0 0.4em 0.5em 0.4em;box-sizing: border-box;padding-bottom: 0.4em;background-color: white;}#sk-container-id-2 div.sk-label label {font-family: monospace;font-weight: bold;display: inline-block;line-height: 1.2em;}#sk-container-id-2 div.sk-label-container {text-align: center;}#sk-container-id-2 div.sk-container {/* jupyter's `normalize.less` sets `[hidden] { display: none; }` but bootstrap.min.css set `[hidden] { display: none !important; }` so we also need the `!important` here to be able to override the default hidden behavior on the sphinx rendered scikit-learn.org. See: https://github.com/scikit-learn/scikit-learn/issues/21755 */display: inline-block !important;position: relative;}#sk-container-id-2 div.sk-text-repr-fallback {display: none;}</style><div id=\"sk-container-id-2\" class=\"sk-top-container\"><div class=\"sk-text-repr-fallback\"><pre>GridSearchCV(cv=3, estimator=Lasso(), n_jobs=-1,\n",
              "             param_grid={&#x27;alpha&#x27;: [10, 1, 0.1, 0.01], &#x27;max_iter&#x27;: [5000, 8000],\n",
              "                         &#x27;selection&#x27;: [&#x27;random&#x27;, &#x27;cyclic&#x27;]},\n",
              "             scoring=&#x27;r2&#x27;, verbose=10)</pre><b>In a Jupyter environment, please rerun this cell to show the HTML representation or trust the notebook. <br />On GitHub, the HTML representation is unable to render, please try loading this page with nbviewer.org.</b></div><div class=\"sk-container\" hidden><div class=\"sk-item sk-dashed-wrapped\"><div class=\"sk-label-container\"><div class=\"sk-label sk-toggleable\"><input class=\"sk-toggleable__control sk-hidden--visually\" id=\"sk-estimator-id-4\" type=\"checkbox\" ><label for=\"sk-estimator-id-4\" class=\"sk-toggleable__label sk-toggleable__label-arrow\">GridSearchCV</label><div class=\"sk-toggleable__content\"><pre>GridSearchCV(cv=3, estimator=Lasso(), n_jobs=-1,\n",
              "             param_grid={&#x27;alpha&#x27;: [10, 1, 0.1, 0.01], &#x27;max_iter&#x27;: [5000, 8000],\n",
              "                         &#x27;selection&#x27;: [&#x27;random&#x27;, &#x27;cyclic&#x27;]},\n",
              "             scoring=&#x27;r2&#x27;, verbose=10)</pre></div></div></div><div class=\"sk-parallel\"><div class=\"sk-parallel-item\"><div class=\"sk-item\"><div class=\"sk-label-container\"><div class=\"sk-label sk-toggleable\"><input class=\"sk-toggleable__control sk-hidden--visually\" id=\"sk-estimator-id-5\" type=\"checkbox\" ><label for=\"sk-estimator-id-5\" class=\"sk-toggleable__label sk-toggleable__label-arrow\">estimator: Lasso</label><div class=\"sk-toggleable__content\"><pre>Lasso()</pre></div></div></div><div class=\"sk-serial\"><div class=\"sk-item\"><div class=\"sk-estimator sk-toggleable\"><input class=\"sk-toggleable__control sk-hidden--visually\" id=\"sk-estimator-id-6\" type=\"checkbox\" ><label for=\"sk-estimator-id-6\" class=\"sk-toggleable__label sk-toggleable__label-arrow\">Lasso</label><div class=\"sk-toggleable__content\"><pre>Lasso()</pre></div></div></div></div></div></div></div></div></div></div>"
            ],
            "text/plain": [
              "GridSearchCV(cv=3, estimator=Lasso(), n_jobs=-1,\n",
              "             param_grid={'alpha': [10, 1, 0.1, 0.01], 'max_iter': [5000, 8000],\n",
              "                         'selection': ['random', 'cyclic']},\n",
              "             scoring='r2', verbose=10)"
            ]
          },
          "execution_count": 34,
          "metadata": {},
          "output_type": "execute_result"
        }
      ],
      "source": [
        "lasso = Lasso()\n",
        "\n",
        "# 1\n",
        "# lasso.fit(x_train_scaled,y_train)\n",
        "\n",
        "# ypred_train = lasso.predict(x_train_scaled)\n",
        "# ypred_test = lasso.predict(x_test_scaled)\n",
        "\n",
        "# print(f\"r2_score for train data : {r2_score(ypred_train,y_train)}\")\n",
        "# print(f\"r2_score for test data : {r2_score(ypred_test,y_test)}\")\n",
        "\n",
        "# 2\n",
        "# cv = ShuffleSplit(n_splits=5,test_size=0.2,random_state=10)\n",
        "# scores = cross_val_score(lasso,x_scaled,y.values,cv=cv)\n",
        "\n",
        "# a = np.array(list(map(adj_r2,scores)))\n",
        "\n",
        "# print(f\"R2 scores : {scores}\")\n",
        "# print(f\"Adjusted R2 scores : {a}\")\n",
        "\n",
        "# 3\n",
        "param = {\n",
        "    'alpha' : [10,1,0.1,0.01],\n",
        "    'selection' : ['random','cyclic'],\n",
        "    'max_iter' : [5000,8000]\n",
        "}\n",
        "\n",
        "model = GridSearchCV(lasso,param,cv=3,scoring='r2',n_jobs=-1,verbose=10)\n",
        "\n",
        "model.fit(x_train_scaled,y_train)"
      ]
    },
    {
      "cell_type": "code",
      "execution_count": 35,
      "id": "e7d78de8",
      "metadata": {},
      "outputs": [
        {
          "name": "stdout",
          "output_type": "stream",
          "text": [
            "0.8420092144218949\n",
            "{'alpha': 0.1, 'max_iter': 5000, 'selection': 'random'}\n"
          ]
        }
      ],
      "source": [
        "print(model.best_score_)\n",
        "print(model.best_params_)"
      ]
    },
    {
      "cell_type": "code",
      "execution_count": 41,
      "id": "93486884",
      "metadata": {},
      "outputs": [
        {
          "name": "stdout",
          "output_type": "stream",
          "text": [
            "r2_score for train data : 0.8379534315354071\n",
            "r2_score for test data : 0.8079245514218018\n"
          ]
        }
      ],
      "source": [
        "new_lasso = Lasso(alpha= 0.1, max_iter= 5000,selection='random')\n",
        "\n",
        "new_lasso.fit(x_train_scaled,y_train)\n",
        "\n",
        "ypred_train = new_lasso.predict(x_train_scaled)\n",
        "ypred_test = new_lasso.predict(x_test_scaled)\n",
        "\n",
        "print(f\"r2_score for train data : {r2_score(ypred_train,y_train)}\")\n",
        "print(f\"r2_score for test data : {r2_score(ypred_test,y_test)}\")"
      ]
    },
    {
      "cell_type": "markdown",
      "id": "0e753e09-6ee6-4dcc-813f-bb75351b4fdc",
      "metadata": {
        "id": "0e753e09-6ee6-4dcc-813f-bb75351b4fdc"
      },
      "source": [
        "### ElasticNet"
      ]
    },
    {
      "cell_type": "code",
      "execution_count": 39,
      "id": "46b01ebd-80c7-4bec-86bd-1e2319c9662d",
      "metadata": {
        "id": "46b01ebd-80c7-4bec-86bd-1e2319c9662d",
        "outputId": "ebbae5a1-d12d-467d-e1a2-86a833f8a762"
      },
      "outputs": [
        {
          "name": "stdout",
          "output_type": "stream",
          "text": [
            "Fitting 3 folds for each of 64 candidates, totalling 192 fits\n"
          ]
        },
        {
          "data": {
            "text/html": [
              "<style>#sk-container-id-3 {color: black;}#sk-container-id-3 pre{padding: 0;}#sk-container-id-3 div.sk-toggleable {background-color: white;}#sk-container-id-3 label.sk-toggleable__label {cursor: pointer;display: block;width: 100%;margin-bottom: 0;padding: 0.3em;box-sizing: border-box;text-align: center;}#sk-container-id-3 label.sk-toggleable__label-arrow:before {content: \"▸\";float: left;margin-right: 0.25em;color: #696969;}#sk-container-id-3 label.sk-toggleable__label-arrow:hover:before {color: black;}#sk-container-id-3 div.sk-estimator:hover label.sk-toggleable__label-arrow:before {color: black;}#sk-container-id-3 div.sk-toggleable__content {max-height: 0;max-width: 0;overflow: hidden;text-align: left;background-color: #f0f8ff;}#sk-container-id-3 div.sk-toggleable__content pre {margin: 0.2em;color: black;border-radius: 0.25em;background-color: #f0f8ff;}#sk-container-id-3 input.sk-toggleable__control:checked~div.sk-toggleable__content {max-height: 200px;max-width: 100%;overflow: auto;}#sk-container-id-3 input.sk-toggleable__control:checked~label.sk-toggleable__label-arrow:before {content: \"▾\";}#sk-container-id-3 div.sk-estimator input.sk-toggleable__control:checked~label.sk-toggleable__label {background-color: #d4ebff;}#sk-container-id-3 div.sk-label input.sk-toggleable__control:checked~label.sk-toggleable__label {background-color: #d4ebff;}#sk-container-id-3 input.sk-hidden--visually {border: 0;clip: rect(1px 1px 1px 1px);clip: rect(1px, 1px, 1px, 1px);height: 1px;margin: -1px;overflow: hidden;padding: 0;position: absolute;width: 1px;}#sk-container-id-3 div.sk-estimator {font-family: monospace;background-color: #f0f8ff;border: 1px dotted black;border-radius: 0.25em;box-sizing: border-box;margin-bottom: 0.5em;}#sk-container-id-3 div.sk-estimator:hover {background-color: #d4ebff;}#sk-container-id-3 div.sk-parallel-item::after {content: \"\";width: 100%;border-bottom: 1px solid gray;flex-grow: 1;}#sk-container-id-3 div.sk-label:hover label.sk-toggleable__label {background-color: #d4ebff;}#sk-container-id-3 div.sk-serial::before {content: \"\";position: absolute;border-left: 1px solid gray;box-sizing: border-box;top: 0;bottom: 0;left: 50%;z-index: 0;}#sk-container-id-3 div.sk-serial {display: flex;flex-direction: column;align-items: center;background-color: white;padding-right: 0.2em;padding-left: 0.2em;position: relative;}#sk-container-id-3 div.sk-item {position: relative;z-index: 1;}#sk-container-id-3 div.sk-parallel {display: flex;align-items: stretch;justify-content: center;background-color: white;position: relative;}#sk-container-id-3 div.sk-item::before, #sk-container-id-3 div.sk-parallel-item::before {content: \"\";position: absolute;border-left: 1px solid gray;box-sizing: border-box;top: 0;bottom: 0;left: 50%;z-index: -1;}#sk-container-id-3 div.sk-parallel-item {display: flex;flex-direction: column;z-index: 1;position: relative;background-color: white;}#sk-container-id-3 div.sk-parallel-item:first-child::after {align-self: flex-end;width: 50%;}#sk-container-id-3 div.sk-parallel-item:last-child::after {align-self: flex-start;width: 50%;}#sk-container-id-3 div.sk-parallel-item:only-child::after {width: 0;}#sk-container-id-3 div.sk-dashed-wrapped {border: 1px dashed gray;margin: 0 0.4em 0.5em 0.4em;box-sizing: border-box;padding-bottom: 0.4em;background-color: white;}#sk-container-id-3 div.sk-label label {font-family: monospace;font-weight: bold;display: inline-block;line-height: 1.2em;}#sk-container-id-3 div.sk-label-container {text-align: center;}#sk-container-id-3 div.sk-container {/* jupyter's `normalize.less` sets `[hidden] { display: none; }` but bootstrap.min.css set `[hidden] { display: none !important; }` so we also need the `!important` here to be able to override the default hidden behavior on the sphinx rendered scikit-learn.org. See: https://github.com/scikit-learn/scikit-learn/issues/21755 */display: inline-block !important;position: relative;}#sk-container-id-3 div.sk-text-repr-fallback {display: none;}</style><div id=\"sk-container-id-3\" class=\"sk-top-container\"><div class=\"sk-text-repr-fallback\"><pre>GridSearchCV(cv=3, estimator=ElasticNet(), n_jobs=-1,\n",
              "             param_grid={&#x27;alpha&#x27;: [10, 1, 0.1, 0.01],\n",
              "                         &#x27;l1_ratio&#x27;: [0.1, 0.3, 0.5, 0.8],\n",
              "                         &#x27;max_iter&#x27;: [5000, 8000],\n",
              "                         &#x27;selection&#x27;: [&#x27;random&#x27;, &#x27;cyclic&#x27;]},\n",
              "             scoring=&#x27;r2&#x27;, verbose=10)</pre><b>In a Jupyter environment, please rerun this cell to show the HTML representation or trust the notebook. <br />On GitHub, the HTML representation is unable to render, please try loading this page with nbviewer.org.</b></div><div class=\"sk-container\" hidden><div class=\"sk-item sk-dashed-wrapped\"><div class=\"sk-label-container\"><div class=\"sk-label sk-toggleable\"><input class=\"sk-toggleable__control sk-hidden--visually\" id=\"sk-estimator-id-7\" type=\"checkbox\" ><label for=\"sk-estimator-id-7\" class=\"sk-toggleable__label sk-toggleable__label-arrow\">GridSearchCV</label><div class=\"sk-toggleable__content\"><pre>GridSearchCV(cv=3, estimator=ElasticNet(), n_jobs=-1,\n",
              "             param_grid={&#x27;alpha&#x27;: [10, 1, 0.1, 0.01],\n",
              "                         &#x27;l1_ratio&#x27;: [0.1, 0.3, 0.5, 0.8],\n",
              "                         &#x27;max_iter&#x27;: [5000, 8000],\n",
              "                         &#x27;selection&#x27;: [&#x27;random&#x27;, &#x27;cyclic&#x27;]},\n",
              "             scoring=&#x27;r2&#x27;, verbose=10)</pre></div></div></div><div class=\"sk-parallel\"><div class=\"sk-parallel-item\"><div class=\"sk-item\"><div class=\"sk-label-container\"><div class=\"sk-label sk-toggleable\"><input class=\"sk-toggleable__control sk-hidden--visually\" id=\"sk-estimator-id-8\" type=\"checkbox\" ><label for=\"sk-estimator-id-8\" class=\"sk-toggleable__label sk-toggleable__label-arrow\">estimator: ElasticNet</label><div class=\"sk-toggleable__content\"><pre>ElasticNet()</pre></div></div></div><div class=\"sk-serial\"><div class=\"sk-item\"><div class=\"sk-estimator sk-toggleable\"><input class=\"sk-toggleable__control sk-hidden--visually\" id=\"sk-estimator-id-9\" type=\"checkbox\" ><label for=\"sk-estimator-id-9\" class=\"sk-toggleable__label sk-toggleable__label-arrow\">ElasticNet</label><div class=\"sk-toggleable__content\"><pre>ElasticNet()</pre></div></div></div></div></div></div></div></div></div></div>"
            ],
            "text/plain": [
              "GridSearchCV(cv=3, estimator=ElasticNet(), n_jobs=-1,\n",
              "             param_grid={'alpha': [10, 1, 0.1, 0.01],\n",
              "                         'l1_ratio': [0.1, 0.3, 0.5, 0.8],\n",
              "                         'max_iter': [5000, 8000],\n",
              "                         'selection': ['random', 'cyclic']},\n",
              "             scoring='r2', verbose=10)"
            ]
          },
          "execution_count": 39,
          "metadata": {},
          "output_type": "execute_result"
        }
      ],
      "source": [
        "en = ElasticNet()\n",
        "\n",
        "# 1\n",
        "# en.fit(x_train_scaled,y_train)\n",
        "\n",
        "# ypred_train = en.predict(x_train_scaled)\n",
        "# ypred_test = en.predict(x_test_scaled)\n",
        "\n",
        "# print(f\"r2_score for train data : {r2_score(ypred_train,y_train)}\")\n",
        "# print(f\"r2_score for test data : {r2_score(ypred_test,y_test)}\")\n",
        "\n",
        "# 2\n",
        "# cv = ShuffleSplit(n_splits=5,test_size=0.2,random_state=10)\n",
        "# scores = cross_val_score(en,x_scaled,y.values,cv=cv)\n",
        "\n",
        "# a = np.array(list(map(adj_r2,scores)))\n",
        "\n",
        "# print(f\"R2 scores : {scores}\")\n",
        "# print(f\"Adjusted R2 scores : {a}\")\n",
        "\n",
        "param = {\n",
        "    'alpha' : [10,1,0.1,0.01],\n",
        "    'selection' : ['random','cyclic'],\n",
        "    'l1_ratio' : [0.1,0.3,0.5,0.8],\n",
        "    'max_iter' : [5000,8000]\n",
        "}\n",
        "\n",
        "model = GridSearchCV(en,param,cv=3,scoring='r2',n_jobs=-1,verbose=10)\n",
        "\n",
        "model.fit(x_train_scaled,y_train)"
      ]
    },
    {
      "cell_type": "code",
      "execution_count": 40,
      "id": "b4402b72",
      "metadata": {},
      "outputs": [
        {
          "name": "stdout",
          "output_type": "stream",
          "text": [
            "0.8424404657884624\n",
            "{'alpha': 0.1, 'l1_ratio': 0.8, 'max_iter': 8000, 'selection': 'random'}\n"
          ]
        }
      ],
      "source": [
        "print(model.best_score_)\n",
        "print(model.best_params_)"
      ]
    },
    {
      "cell_type": "code",
      "execution_count": 42,
      "id": "8ad704d9",
      "metadata": {},
      "outputs": [
        {
          "name": "stdout",
          "output_type": "stream",
          "text": [
            "r2_score for train data : 0.8323294568914517\n",
            "r2_score for test data : 0.801929030998412\n"
          ]
        }
      ],
      "source": [
        "new_en = ElasticNet(alpha= 0.1,l1_ratio=0.8, max_iter= 8000, selection= 'random')\n",
        "\n",
        "new_en.fit(x_train_scaled,y_train)\n",
        "\n",
        "ypred_train = new_en.predict(x_train_scaled)\n",
        "ypred_test = new_en.predict(x_test_scaled)\n",
        "\n",
        "print(f\"r2_score for train data : {r2_score(ypred_train,y_train)}\")\n",
        "print(f\"r2_score for test data : {r2_score(ypred_test,y_test)}\")"
      ]
    },
    {
      "cell_type": "markdown",
      "id": "df3b4ad3-978c-4c1a-a8a0-bdf8a4b33196",
      "metadata": {
        "id": "df3b4ad3-978c-4c1a-a8a0-bdf8a4b33196"
      },
      "source": [
        "### SGDRegressor"
      ]
    },
    {
      "cell_type": "code",
      "execution_count": 45,
      "id": "fb51092c-d797-4c9a-b3ca-fbe3cb82c4b6",
      "metadata": {
        "id": "fb51092c-d797-4c9a-b3ca-fbe3cb82c4b6"
      },
      "outputs": [
        {
          "name": "stdout",
          "output_type": "stream",
          "text": [
            "Fitting 3 folds for each of 216 candidates, totalling 648 fits\n",
            "-- Epoch 1\n",
            "Norm: 55.70, NNZs: 236, Bias: 86.777366, T: 5572, Avg. loss: 4833.150056\n",
            "Total training time: 0.01 seconds.\n",
            "-- Epoch 2\n",
            "Norm: 63.86, NNZs: 237, Bias: 99.162496, T: 11144, Avg. loss: 1391.661876\n",
            "Total training time: 0.02 seconds.\n",
            "-- Epoch 3\n",
            "Norm: 66.67, NNZs: 237, Bias: 102.455951, T: 16716, Avg. loss: 1164.905405\n",
            "Total training time: 0.03 seconds.\n",
            "-- Epoch 4\n",
            "Norm: 68.73, NNZs: 237, Bias: 103.508484, T: 22288, Avg. loss: 1114.452129\n",
            "Total training time: 0.04 seconds.\n",
            "-- Epoch 5\n",
            "Norm: 70.58, NNZs: 236, Bias: 104.105290, T: 27860, Avg. loss: 1092.221967\n",
            "Total training time: 0.04 seconds.\n",
            "-- Epoch 6\n",
            "Norm: 71.04, NNZs: 237, Bias: 104.128108, T: 33432, Avg. loss: 1083.989006\n",
            "Total training time: 0.06 seconds.\n",
            "-- Epoch 7\n",
            "Norm: 71.12, NNZs: 236, Bias: 104.066425, T: 39004, Avg. loss: 1076.294173\n",
            "Total training time: 0.07 seconds.\n",
            "-- Epoch 8\n",
            "Norm: 71.78, NNZs: 237, Bias: 104.147374, T: 44576, Avg. loss: 1075.739328\n",
            "Total training time: 0.08 seconds.\n",
            "-- Epoch 9\n",
            "Norm: 72.58, NNZs: 236, Bias: 104.207008, T: 50148, Avg. loss: 1072.131378\n",
            "Total training time: 0.08 seconds.\n",
            "-- Epoch 10\n",
            "Norm: 72.91, NNZs: 237, Bias: 104.280210, T: 55720, Avg. loss: 1072.050951\n",
            "Total training time: 0.09 seconds.\n",
            "-- Epoch 11\n",
            "Norm: 72.68, NNZs: 237, Bias: 104.237418, T: 61292, Avg. loss: 1069.579319\n",
            "Total training time: 0.10 seconds.\n",
            "-- Epoch 12\n",
            "Norm: 72.90, NNZs: 237, Bias: 104.302137, T: 66864, Avg. loss: 1069.543849\n",
            "Total training time: 0.10 seconds.\n",
            "-- Epoch 13\n",
            "Norm: 73.16, NNZs: 237, Bias: 104.293222, T: 72436, Avg. loss: 1069.101114\n",
            "Total training time: 0.11 seconds.\n",
            "-- Epoch 14\n",
            "Norm: 73.00, NNZs: 236, Bias: 104.242847, T: 78008, Avg. loss: 1066.416998\n",
            "Total training time: 0.12 seconds.\n",
            "-- Epoch 15\n",
            "Norm: 73.16, NNZs: 236, Bias: 104.281014, T: 83580, Avg. loss: 1066.035199\n",
            "Total training time: 0.12 seconds.\n",
            "-- Epoch 16\n",
            "Norm: 73.38, NNZs: 235, Bias: 104.313310, T: 89152, Avg. loss: 1066.248915\n",
            "Total training time: 0.13 seconds.\n",
            "-- Epoch 17\n",
            "Norm: 73.56, NNZs: 236, Bias: 104.316543, T: 94724, Avg. loss: 1065.219663\n",
            "Total training time: 0.14 seconds.\n",
            "-- Epoch 18\n",
            "Norm: 73.49, NNZs: 236, Bias: 104.321532, T: 100296, Avg. loss: 1065.363970\n",
            "Total training time: 0.14 seconds.\n",
            "-- Epoch 19\n",
            "Norm: 73.29, NNZs: 237, Bias: 104.303142, T: 105868, Avg. loss: 1065.166909\n",
            "Total training time: 0.15 seconds.\n",
            "-- Epoch 20\n",
            "Norm: 73.20, NNZs: 236, Bias: 104.266712, T: 111440, Avg. loss: 1064.844619\n",
            "Total training time: 0.15 seconds.\n",
            "-- Epoch 21\n",
            "Norm: 73.52, NNZs: 236, Bias: 104.315572, T: 117012, Avg. loss: 1064.154780\n",
            "Total training time: 0.16 seconds.\n",
            "-- Epoch 22\n",
            "Norm: 73.40, NNZs: 237, Bias: 104.268016, T: 122584, Avg. loss: 1064.427909\n",
            "Total training time: 0.17 seconds.\n",
            "-- Epoch 23\n",
            "Norm: 73.40, NNZs: 237, Bias: 104.243299, T: 128156, Avg. loss: 1063.451099\n",
            "Total training time: 0.17 seconds.\n",
            "-- Epoch 24\n",
            "Norm: 73.44, NNZs: 237, Bias: 104.278158, T: 133728, Avg. loss: 1063.616580\n",
            "Total training time: 0.18 seconds.\n",
            "-- Epoch 25\n",
            "Norm: 73.37, NNZs: 237, Bias: 104.297480, T: 139300, Avg. loss: 1063.162276\n",
            "Total training time: 0.19 seconds.\n",
            "-- Epoch 26\n",
            "Norm: 73.25, NNZs: 237, Bias: 104.273623, T: 144872, Avg. loss: 1062.571998\n",
            "Total training time: 0.19 seconds.\n",
            "-- Epoch 27\n",
            "Norm: 73.50, NNZs: 236, Bias: 104.291305, T: 150444, Avg. loss: 1062.367732\n",
            "Total training time: 0.20 seconds.\n",
            "-- Epoch 28\n",
            "Norm: 73.48, NNZs: 234, Bias: 104.275810, T: 156016, Avg. loss: 1062.579855\n",
            "Total training time: 0.21 seconds.\n",
            "-- Epoch 29\n",
            "Norm: 73.58, NNZs: 236, Bias: 104.285572, T: 161588, Avg. loss: 1062.222159\n",
            "Total training time: 0.22 seconds.\n",
            "-- Epoch 30\n",
            "Norm: 73.43, NNZs: 236, Bias: 104.308487, T: 167160, Avg. loss: 1062.017464\n",
            "Total training time: 0.22 seconds.\n",
            "-- Epoch 31\n",
            "Norm: 73.47, NNZs: 237, Bias: 104.294281, T: 172732, Avg. loss: 1061.296982\n",
            "Total training time: 0.23 seconds.\n",
            "-- Epoch 32\n",
            "Norm: 73.37, NNZs: 235, Bias: 104.246751, T: 178304, Avg. loss: 1061.362248\n",
            "Total training time: 0.23 seconds.\n",
            "-- Epoch 33\n",
            "Norm: 73.38, NNZs: 236, Bias: 104.257540, T: 183876, Avg. loss: 1061.045179\n",
            "Total training time: 0.24 seconds.\n",
            "-- Epoch 34\n",
            "Norm: 73.13, NNZs: 236, Bias: 104.210141, T: 189448, Avg. loss: 1059.734443\n",
            "Total training time: 0.25 seconds.\n",
            "-- Epoch 35\n",
            "Norm: 73.49, NNZs: 237, Bias: 104.245783, T: 195020, Avg. loss: 1061.039109\n",
            "Total training time: 0.25 seconds.\n",
            "-- Epoch 36\n",
            "Norm: 73.41, NNZs: 237, Bias: 104.237489, T: 200592, Avg. loss: 1060.761215\n",
            "Total training time: 0.26 seconds.\n",
            "-- Epoch 37\n",
            "Norm: 73.50, NNZs: 237, Bias: 104.280120, T: 206164, Avg. loss: 1060.649032\n",
            "Total training time: 0.27 seconds.\n",
            "-- Epoch 38\n",
            "Norm: 73.53, NNZs: 236, Bias: 104.273567, T: 211736, Avg. loss: 1060.849700\n",
            "Total training time: 0.27 seconds.\n",
            "-- Epoch 39\n",
            "Norm: 73.81, NNZs: 236, Bias: 104.333212, T: 217308, Avg. loss: 1059.711206\n",
            "Total training time: 0.28 seconds.\n",
            "-- Epoch 40\n",
            "Norm: 73.66, NNZs: 237, Bias: 104.324793, T: 222880, Avg. loss: 1060.211333\n",
            "Total training time: 0.29 seconds.\n",
            "-- Epoch 41\n",
            "Norm: 73.56, NNZs: 235, Bias: 104.340288, T: 228452, Avg. loss: 1059.735987\n",
            "Total training time: 0.29 seconds.\n",
            "-- Epoch 42\n",
            "Norm: 73.69, NNZs: 236, Bias: 104.317199, T: 234024, Avg. loss: 1059.390022\n",
            "Total training time: 0.30 seconds.\n",
            "-- Epoch 43\n",
            "Norm: 73.61, NNZs: 234, Bias: 104.322211, T: 239596, Avg. loss: 1059.392566\n",
            "Total training time: 0.31 seconds.\n",
            "-- Epoch 44\n",
            "Norm: 73.53, NNZs: 237, Bias: 104.312860, T: 245168, Avg. loss: 1059.194167\n",
            "Total training time: 0.31 seconds.\n",
            "-- Epoch 45\n",
            "Norm: 73.63, NNZs: 237, Bias: 104.343020, T: 250740, Avg. loss: 1059.132518\n",
            "Total training time: 0.32 seconds.\n",
            "-- Epoch 46\n",
            "Norm: 73.53, NNZs: 237, Bias: 104.373412, T: 256312, Avg. loss: 1059.246938\n",
            "Total training time: 0.33 seconds.\n",
            "-- Epoch 47\n",
            "Norm: 73.65, NNZs: 237, Bias: 104.352576, T: 261884, Avg. loss: 1059.084394\n",
            "Total training time: 0.33 seconds.\n",
            "-- Epoch 48\n",
            "Norm: 73.59, NNZs: 237, Bias: 104.335468, T: 267456, Avg. loss: 1058.883230\n",
            "Total training time: 0.34 seconds.\n",
            "-- Epoch 49\n",
            "Norm: 73.48, NNZs: 237, Bias: 104.314151, T: 273028, Avg. loss: 1058.451638\n",
            "Total training time: 0.34 seconds.\n",
            "-- Epoch 50\n",
            "Norm: 73.51, NNZs: 236, Bias: 104.298403, T: 278600, Avg. loss: 1058.515704\n",
            "Total training time: 0.35 seconds.\n",
            "-- Epoch 51\n",
            "Norm: 73.63, NNZs: 237, Bias: 104.325427, T: 284172, Avg. loss: 1058.458519\n",
            "Total training time: 0.36 seconds.\n",
            "-- Epoch 52\n",
            "Norm: 73.55, NNZs: 236, Bias: 104.302402, T: 289744, Avg. loss: 1058.225544\n",
            "Total training time: 0.37 seconds.\n",
            "-- Epoch 53\n",
            "Norm: 73.54, NNZs: 237, Bias: 104.300685, T: 295316, Avg. loss: 1058.160855\n",
            "Total training time: 0.37 seconds.\n",
            "-- Epoch 54\n",
            "Norm: 73.50, NNZs: 236, Bias: 104.269114, T: 300888, Avg. loss: 1057.932946\n",
            "Total training time: 0.38 seconds.\n",
            "-- Epoch 55\n",
            "Norm: 73.45, NNZs: 237, Bias: 104.244305, T: 306460, Avg. loss: 1058.167830\n",
            "Total training time: 0.39 seconds.\n",
            "-- Epoch 56\n",
            "Norm: 73.47, NNZs: 236, Bias: 104.263261, T: 312032, Avg. loss: 1058.167771\n",
            "Total training time: 0.39 seconds.\n",
            "-- Epoch 57\n",
            "Norm: 73.39, NNZs: 237, Bias: 104.257746, T: 317604, Avg. loss: 1058.029289\n",
            "Total training time: 0.40 seconds.\n",
            "-- Epoch 58\n",
            "Norm: 73.66, NNZs: 237, Bias: 104.290389, T: 323176, Avg. loss: 1057.931953\n",
            "Total training time: 0.41 seconds.\n",
            "-- Epoch 59\n",
            "Norm: 73.57, NNZs: 237, Bias: 104.265349, T: 328748, Avg. loss: 1057.822586\n",
            "Total training time: 0.41 seconds.\n",
            "-- Epoch 60\n",
            "Norm: 73.72, NNZs: 237, Bias: 104.310513, T: 334320, Avg. loss: 1057.564567\n",
            "Total training time: 0.42 seconds.\n",
            "-- Epoch 61\n",
            "Norm: 73.64, NNZs: 237, Bias: 104.290649, T: 339892, Avg. loss: 1058.014531\n",
            "Total training time: 0.43 seconds.\n",
            "-- Epoch 62\n",
            "Norm: 73.53, NNZs: 237, Bias: 104.294643, T: 345464, Avg. loss: 1057.412577\n",
            "Total training time: 0.44 seconds.\n",
            "-- Epoch 63\n",
            "Norm: 73.38, NNZs: 237, Bias: 104.268469, T: 351036, Avg. loss: 1057.048753\n",
            "Total training time: 0.44 seconds.\n",
            "-- Epoch 64\n",
            "Norm: 73.55, NNZs: 237, Bias: 104.293688, T: 356608, Avg. loss: 1057.692730\n",
            "Total training time: 0.45 seconds.\n",
            "-- Epoch 65\n",
            "Norm: 73.51, NNZs: 237, Bias: 104.290977, T: 362180, Avg. loss: 1057.163454\n",
            "Total training time: 0.46 seconds.\n",
            "-- Epoch 66\n",
            "Norm: 73.59, NNZs: 237, Bias: 104.299900, T: 367752, Avg. loss: 1056.930392\n",
            "Total training time: 0.47 seconds.\n",
            "-- Epoch 67\n",
            "Norm: 73.62, NNZs: 237, Bias: 104.318762, T: 373324, Avg. loss: 1057.444187\n",
            "Total training time: 0.47 seconds.\n",
            "-- Epoch 68\n",
            "Norm: 73.71, NNZs: 237, Bias: 104.340480, T: 378896, Avg. loss: 1057.137960\n",
            "Total training time: 0.48 seconds.\n",
            "-- Epoch 69\n",
            "Norm: 73.54, NNZs: 237, Bias: 104.339073, T: 384468, Avg. loss: 1056.658347\n",
            "Total training time: 0.48 seconds.\n",
            "-- Epoch 70\n",
            "Norm: 73.67, NNZs: 237, Bias: 104.353632, T: 390040, Avg. loss: 1056.871288\n",
            "Total training time: 0.49 seconds.\n",
            "-- Epoch 71\n",
            "Norm: 73.62, NNZs: 237, Bias: 104.325768, T: 395612, Avg. loss: 1056.690351\n",
            "Total training time: 0.50 seconds.\n",
            "-- Epoch 72\n",
            "Norm: 73.53, NNZs: 236, Bias: 104.315515, T: 401184, Avg. loss: 1056.507477\n",
            "Total training time: 0.50 seconds.\n",
            "-- Epoch 73\n",
            "Norm: 73.49, NNZs: 235, Bias: 104.278178, T: 406756, Avg. loss: 1056.765123\n",
            "Total training time: 0.51 seconds.\n",
            "-- Epoch 74\n",
            "Norm: 73.54, NNZs: 236, Bias: 104.289957, T: 412328, Avg. loss: 1056.687440\n",
            "Total training time: 0.52 seconds.\n",
            "-- Epoch 75\n",
            "Norm: 73.79, NNZs: 235, Bias: 104.338184, T: 417900, Avg. loss: 1056.168291\n",
            "Total training time: 0.52 seconds.\n",
            "-- Epoch 76\n",
            "Norm: 73.81, NNZs: 236, Bias: 104.369438, T: 423472, Avg. loss: 1056.286201\n",
            "Total training time: 0.53 seconds.\n",
            "-- Epoch 77\n",
            "Norm: 73.76, NNZs: 235, Bias: 104.361592, T: 429044, Avg. loss: 1056.259790\n",
            "Total training time: 0.54 seconds.\n",
            "-- Epoch 78\n",
            "Norm: 73.72, NNZs: 236, Bias: 104.347209, T: 434616, Avg. loss: 1056.520452\n",
            "Total training time: 0.54 seconds.\n",
            "-- Epoch 79\n",
            "Norm: 73.60, NNZs: 236, Bias: 104.335325, T: 440188, Avg. loss: 1056.239603\n",
            "Total training time: 0.55 seconds.\n",
            "-- Epoch 80\n",
            "Norm: 73.46, NNZs: 236, Bias: 104.291969, T: 445760, Avg. loss: 1055.756589\n",
            "Total training time: 0.56 seconds.\n",
            "-- Epoch 81\n",
            "Norm: 73.63, NNZs: 236, Bias: 104.318005, T: 451332, Avg. loss: 1056.150512\n",
            "Total training time: 0.57 seconds.\n",
            "-- Epoch 82\n",
            "Norm: 73.65, NNZs: 236, Bias: 104.303186, T: 456904, Avg. loss: 1056.111620\n",
            "Total training time: 0.57 seconds.\n",
            "-- Epoch 83\n",
            "Norm: 73.52, NNZs: 236, Bias: 104.265828, T: 462476, Avg. loss: 1056.018582\n",
            "Total training time: 0.58 seconds.\n",
            "-- Epoch 84\n",
            "Norm: 73.56, NNZs: 236, Bias: 104.282062, T: 468048, Avg. loss: 1055.999370\n",
            "Total training time: 0.59 seconds.\n",
            "-- Epoch 85\n",
            "Norm: 73.59, NNZs: 236, Bias: 104.278972, T: 473620, Avg. loss: 1055.986313\n",
            "Total training time: 0.59 seconds.\n",
            "Convergence after 85 epochs took 0.59 seconds\n"
          ]
        },
        {
          "data": {
            "text/html": [
              "<style>#sk-container-id-4 {color: black;}#sk-container-id-4 pre{padding: 0;}#sk-container-id-4 div.sk-toggleable {background-color: white;}#sk-container-id-4 label.sk-toggleable__label {cursor: pointer;display: block;width: 100%;margin-bottom: 0;padding: 0.3em;box-sizing: border-box;text-align: center;}#sk-container-id-4 label.sk-toggleable__label-arrow:before {content: \"▸\";float: left;margin-right: 0.25em;color: #696969;}#sk-container-id-4 label.sk-toggleable__label-arrow:hover:before {color: black;}#sk-container-id-4 div.sk-estimator:hover label.sk-toggleable__label-arrow:before {color: black;}#sk-container-id-4 div.sk-toggleable__content {max-height: 0;max-width: 0;overflow: hidden;text-align: left;background-color: #f0f8ff;}#sk-container-id-4 div.sk-toggleable__content pre {margin: 0.2em;color: black;border-radius: 0.25em;background-color: #f0f8ff;}#sk-container-id-4 input.sk-toggleable__control:checked~div.sk-toggleable__content {max-height: 200px;max-width: 100%;overflow: auto;}#sk-container-id-4 input.sk-toggleable__control:checked~label.sk-toggleable__label-arrow:before {content: \"▾\";}#sk-container-id-4 div.sk-estimator input.sk-toggleable__control:checked~label.sk-toggleable__label {background-color: #d4ebff;}#sk-container-id-4 div.sk-label input.sk-toggleable__control:checked~label.sk-toggleable__label {background-color: #d4ebff;}#sk-container-id-4 input.sk-hidden--visually {border: 0;clip: rect(1px 1px 1px 1px);clip: rect(1px, 1px, 1px, 1px);height: 1px;margin: -1px;overflow: hidden;padding: 0;position: absolute;width: 1px;}#sk-container-id-4 div.sk-estimator {font-family: monospace;background-color: #f0f8ff;border: 1px dotted black;border-radius: 0.25em;box-sizing: border-box;margin-bottom: 0.5em;}#sk-container-id-4 div.sk-estimator:hover {background-color: #d4ebff;}#sk-container-id-4 div.sk-parallel-item::after {content: \"\";width: 100%;border-bottom: 1px solid gray;flex-grow: 1;}#sk-container-id-4 div.sk-label:hover label.sk-toggleable__label {background-color: #d4ebff;}#sk-container-id-4 div.sk-serial::before {content: \"\";position: absolute;border-left: 1px solid gray;box-sizing: border-box;top: 0;bottom: 0;left: 50%;z-index: 0;}#sk-container-id-4 div.sk-serial {display: flex;flex-direction: column;align-items: center;background-color: white;padding-right: 0.2em;padding-left: 0.2em;position: relative;}#sk-container-id-4 div.sk-item {position: relative;z-index: 1;}#sk-container-id-4 div.sk-parallel {display: flex;align-items: stretch;justify-content: center;background-color: white;position: relative;}#sk-container-id-4 div.sk-item::before, #sk-container-id-4 div.sk-parallel-item::before {content: \"\";position: absolute;border-left: 1px solid gray;box-sizing: border-box;top: 0;bottom: 0;left: 50%;z-index: -1;}#sk-container-id-4 div.sk-parallel-item {display: flex;flex-direction: column;z-index: 1;position: relative;background-color: white;}#sk-container-id-4 div.sk-parallel-item:first-child::after {align-self: flex-end;width: 50%;}#sk-container-id-4 div.sk-parallel-item:last-child::after {align-self: flex-start;width: 50%;}#sk-container-id-4 div.sk-parallel-item:only-child::after {width: 0;}#sk-container-id-4 div.sk-dashed-wrapped {border: 1px dashed gray;margin: 0 0.4em 0.5em 0.4em;box-sizing: border-box;padding-bottom: 0.4em;background-color: white;}#sk-container-id-4 div.sk-label label {font-family: monospace;font-weight: bold;display: inline-block;line-height: 1.2em;}#sk-container-id-4 div.sk-label-container {text-align: center;}#sk-container-id-4 div.sk-container {/* jupyter's `normalize.less` sets `[hidden] { display: none; }` but bootstrap.min.css set `[hidden] { display: none !important; }` so we also need the `!important` here to be able to override the default hidden behavior on the sphinx rendered scikit-learn.org. See: https://github.com/scikit-learn/scikit-learn/issues/21755 */display: inline-block !important;position: relative;}#sk-container-id-4 div.sk-text-repr-fallback {display: none;}</style><div id=\"sk-container-id-4\" class=\"sk-top-container\"><div class=\"sk-text-repr-fallback\"><pre>GridSearchCV(cv=3, estimator=SGDRegressor(verbose=10), n_jobs=-1,\n",
              "             param_grid={&#x27;alpha&#x27;: [0.0001, 0.01, 0.001],\n",
              "                         &#x27;eta0&#x27;: [0.01, 0.1, 0.001],\n",
              "                         &#x27;learning_rate&#x27;: [&#x27;optimal&#x27;, &#x27;constant&#x27;, &#x27;invscaling&#x27;],\n",
              "                         &#x27;loss&#x27;: [&#x27;huber&#x27;, &#x27;squared_epsilon_insensitive&#x27;],\n",
              "                         &#x27;max_iter&#x27;: [8000, 10000],\n",
              "                         &#x27;penalty&#x27;: [&#x27;l2&#x27;, &#x27;elasticnet&#x27;]},\n",
              "             scoring=&#x27;r2&#x27;, verbose=10)</pre><b>In a Jupyter environment, please rerun this cell to show the HTML representation or trust the notebook. <br />On GitHub, the HTML representation is unable to render, please try loading this page with nbviewer.org.</b></div><div class=\"sk-container\" hidden><div class=\"sk-item sk-dashed-wrapped\"><div class=\"sk-label-container\"><div class=\"sk-label sk-toggleable\"><input class=\"sk-toggleable__control sk-hidden--visually\" id=\"sk-estimator-id-10\" type=\"checkbox\" ><label for=\"sk-estimator-id-10\" class=\"sk-toggleable__label sk-toggleable__label-arrow\">GridSearchCV</label><div class=\"sk-toggleable__content\"><pre>GridSearchCV(cv=3, estimator=SGDRegressor(verbose=10), n_jobs=-1,\n",
              "             param_grid={&#x27;alpha&#x27;: [0.0001, 0.01, 0.001],\n",
              "                         &#x27;eta0&#x27;: [0.01, 0.1, 0.001],\n",
              "                         &#x27;learning_rate&#x27;: [&#x27;optimal&#x27;, &#x27;constant&#x27;, &#x27;invscaling&#x27;],\n",
              "                         &#x27;loss&#x27;: [&#x27;huber&#x27;, &#x27;squared_epsilon_insensitive&#x27;],\n",
              "                         &#x27;max_iter&#x27;: [8000, 10000],\n",
              "                         &#x27;penalty&#x27;: [&#x27;l2&#x27;, &#x27;elasticnet&#x27;]},\n",
              "             scoring=&#x27;r2&#x27;, verbose=10)</pre></div></div></div><div class=\"sk-parallel\"><div class=\"sk-parallel-item\"><div class=\"sk-item\"><div class=\"sk-label-container\"><div class=\"sk-label sk-toggleable\"><input class=\"sk-toggleable__control sk-hidden--visually\" id=\"sk-estimator-id-11\" type=\"checkbox\" ><label for=\"sk-estimator-id-11\" class=\"sk-toggleable__label sk-toggleable__label-arrow\">estimator: SGDRegressor</label><div class=\"sk-toggleable__content\"><pre>SGDRegressor(verbose=10)</pre></div></div></div><div class=\"sk-serial\"><div class=\"sk-item\"><div class=\"sk-estimator sk-toggleable\"><input class=\"sk-toggleable__control sk-hidden--visually\" id=\"sk-estimator-id-12\" type=\"checkbox\" ><label for=\"sk-estimator-id-12\" class=\"sk-toggleable__label sk-toggleable__label-arrow\">SGDRegressor</label><div class=\"sk-toggleable__content\"><pre>SGDRegressor(verbose=10)</pre></div></div></div></div></div></div></div></div></div></div>"
            ],
            "text/plain": [
              "GridSearchCV(cv=3, estimator=SGDRegressor(verbose=10), n_jobs=-1,\n",
              "             param_grid={'alpha': [0.0001, 0.01, 0.001],\n",
              "                         'eta0': [0.01, 0.1, 0.001],\n",
              "                         'learning_rate': ['optimal', 'constant', 'invscaling'],\n",
              "                         'loss': ['huber', 'squared_epsilon_insensitive'],\n",
              "                         'max_iter': [8000, 10000],\n",
              "                         'penalty': ['l2', 'elasticnet']},\n",
              "             scoring='r2', verbose=10)"
            ]
          },
          "execution_count": 45,
          "metadata": {},
          "output_type": "execute_result"
        }
      ],
      "source": [
        "sgd = SGDRegressor(verbose=10)\n",
        "# 1\n",
        "# sgd.fit(x_train_scaled,y_train)\n",
        "\n",
        "# ypred_train = sgd.predict(x_train_scaled)\n",
        "# ypred_test = sgd.predict(x_test_scaled)\n",
        "\n",
        "# print(f\"r2_score for train data : {r2_score(ypred_train,y_train)}\")\n",
        "# print(f\"r2_score for test data : {r2_score(ypred_test,y_test)}\")\n",
        "\n",
        "# 2\n",
        "# cv = ShuffleSplit(n_splits=5,test_size=0.2,random_state=10)\n",
        "# scores = cross_val_score(sgd,x.values,y.values,cv=cv)\n",
        "\n",
        "# a = np.array(list(map(adj_r2,scores)))\n",
        "\n",
        "# print(f\"R2 scores : {scores}\")\n",
        "# print(f\"Adjusted R2 scores : {a}\")\n",
        "\n",
        "# 3\n",
        "param = {\n",
        "    'loss' : ['huber','squared_epsilon_insensitive'],\n",
        "    'max_iter' : [8000,10000],\n",
        "    'alpha' : [0.0001,0.01,0.001],\n",
        "    'penalty' : ['l2','elasticnet'],\n",
        "    'learning_rate' : ['optimal','constant','invscaling'],\n",
        "    'eta0' : [0.01,0.1,0.001]\n",
        "}\n",
        "\n",
        "model = GridSearchCV(sgd,param,cv=3,scoring='r2',n_jobs=-1,verbose=10)\n",
        "\n",
        "model.fit(x_train_scaled,y_train)"
      ]
    },
    {
      "cell_type": "code",
      "execution_count": 47,
      "id": "M6eSfTu5X3RT",
      "metadata": {
        "colab": {
          "base_uri": "https://localhost:8080/"
        },
        "id": "M6eSfTu5X3RT",
        "outputId": "fd5012f7-c893-47b6-f22d-673901f27039"
      },
      "outputs": [
        {
          "name": "stdout",
          "output_type": "stream",
          "text": [
            "best score : 0.84162325328104\n",
            "best params : {'alpha': 0.01, 'eta0': 0.001, 'learning_rate': 'invscaling', 'loss': 'squared_epsilon_insensitive', 'max_iter': 8000, 'penalty': 'elasticnet'}\n"
          ]
        }
      ],
      "source": [
        "print(f\"best score : {model.best_score_}\")\n",
        "print(f\"best params : {model.best_params_}\")"
      ]
    },
    {
      "cell_type": "code",
      "execution_count": 48,
      "id": "PtDl4YpJldir",
      "metadata": {
        "id": "PtDl4YpJldir"
      },
      "outputs": [
        {
          "name": "stdout",
          "output_type": "stream",
          "text": [
            "r2_score for train data : 0.8389004220308391\n",
            "r2_score for test data : 0.8092156063469297\n"
          ]
        }
      ],
      "source": [
        "new_sgd = SGDRegressor(alpha= 0.01,eta0=0.001,learning_rate='invscaling',loss='squared_epsilon_insensitive', max_iter= 8000, penalty= 'elasticnet')\n",
        "\n",
        "new_sgd.fit(x_train_scaled,y_train)\n",
        "\n",
        "ypred_train = new_sgd.predict(x_train_scaled)\n",
        "ypred_test = new_sgd.predict(x_test_scaled)\n",
        "\n",
        "print(f\"r2_score for train data : {r2_score(ypred_train,y_train)}\")\n",
        "print(f\"r2_score for test data : {r2_score(ypred_test,y_test)}\")"
      ]
    },
    {
      "cell_type": "markdown",
      "id": "2dbfdedb-b6d2-4fc0-895a-db61a77ad073",
      "metadata": {
        "id": "2dbfdedb-b6d2-4fc0-895a-db61a77ad073"
      },
      "source": [
        "### KNeighborsRegressor"
      ]
    },
    {
      "cell_type": "code",
      "execution_count": 52,
      "id": "94b2b9db-b918-4b83-ab3b-e93a8215cc44",
      "metadata": {
        "id": "94b2b9db-b918-4b83-ab3b-e93a8215cc44",
        "outputId": "d12fbe78-b30d-4bbc-d33c-0e6579ee53e2"
      },
      "outputs": [
        {
          "name": "stdout",
          "output_type": "stream",
          "text": [
            "Fitting 3 folds for each of 24 candidates, totalling 72 fits\n"
          ]
        },
        {
          "data": {
            "text/html": [
              "<style>#sk-container-id-5 {color: black;}#sk-container-id-5 pre{padding: 0;}#sk-container-id-5 div.sk-toggleable {background-color: white;}#sk-container-id-5 label.sk-toggleable__label {cursor: pointer;display: block;width: 100%;margin-bottom: 0;padding: 0.3em;box-sizing: border-box;text-align: center;}#sk-container-id-5 label.sk-toggleable__label-arrow:before {content: \"▸\";float: left;margin-right: 0.25em;color: #696969;}#sk-container-id-5 label.sk-toggleable__label-arrow:hover:before {color: black;}#sk-container-id-5 div.sk-estimator:hover label.sk-toggleable__label-arrow:before {color: black;}#sk-container-id-5 div.sk-toggleable__content {max-height: 0;max-width: 0;overflow: hidden;text-align: left;background-color: #f0f8ff;}#sk-container-id-5 div.sk-toggleable__content pre {margin: 0.2em;color: black;border-radius: 0.25em;background-color: #f0f8ff;}#sk-container-id-5 input.sk-toggleable__control:checked~div.sk-toggleable__content {max-height: 200px;max-width: 100%;overflow: auto;}#sk-container-id-5 input.sk-toggleable__control:checked~label.sk-toggleable__label-arrow:before {content: \"▾\";}#sk-container-id-5 div.sk-estimator input.sk-toggleable__control:checked~label.sk-toggleable__label {background-color: #d4ebff;}#sk-container-id-5 div.sk-label input.sk-toggleable__control:checked~label.sk-toggleable__label {background-color: #d4ebff;}#sk-container-id-5 input.sk-hidden--visually {border: 0;clip: rect(1px 1px 1px 1px);clip: rect(1px, 1px, 1px, 1px);height: 1px;margin: -1px;overflow: hidden;padding: 0;position: absolute;width: 1px;}#sk-container-id-5 div.sk-estimator {font-family: monospace;background-color: #f0f8ff;border: 1px dotted black;border-radius: 0.25em;box-sizing: border-box;margin-bottom: 0.5em;}#sk-container-id-5 div.sk-estimator:hover {background-color: #d4ebff;}#sk-container-id-5 div.sk-parallel-item::after {content: \"\";width: 100%;border-bottom: 1px solid gray;flex-grow: 1;}#sk-container-id-5 div.sk-label:hover label.sk-toggleable__label {background-color: #d4ebff;}#sk-container-id-5 div.sk-serial::before {content: \"\";position: absolute;border-left: 1px solid gray;box-sizing: border-box;top: 0;bottom: 0;left: 50%;z-index: 0;}#sk-container-id-5 div.sk-serial {display: flex;flex-direction: column;align-items: center;background-color: white;padding-right: 0.2em;padding-left: 0.2em;position: relative;}#sk-container-id-5 div.sk-item {position: relative;z-index: 1;}#sk-container-id-5 div.sk-parallel {display: flex;align-items: stretch;justify-content: center;background-color: white;position: relative;}#sk-container-id-5 div.sk-item::before, #sk-container-id-5 div.sk-parallel-item::before {content: \"\";position: absolute;border-left: 1px solid gray;box-sizing: border-box;top: 0;bottom: 0;left: 50%;z-index: -1;}#sk-container-id-5 div.sk-parallel-item {display: flex;flex-direction: column;z-index: 1;position: relative;background-color: white;}#sk-container-id-5 div.sk-parallel-item:first-child::after {align-self: flex-end;width: 50%;}#sk-container-id-5 div.sk-parallel-item:last-child::after {align-self: flex-start;width: 50%;}#sk-container-id-5 div.sk-parallel-item:only-child::after {width: 0;}#sk-container-id-5 div.sk-dashed-wrapped {border: 1px dashed gray;margin: 0 0.4em 0.5em 0.4em;box-sizing: border-box;padding-bottom: 0.4em;background-color: white;}#sk-container-id-5 div.sk-label label {font-family: monospace;font-weight: bold;display: inline-block;line-height: 1.2em;}#sk-container-id-5 div.sk-label-container {text-align: center;}#sk-container-id-5 div.sk-container {/* jupyter's `normalize.less` sets `[hidden] { display: none; }` but bootstrap.min.css set `[hidden] { display: none !important; }` so we also need the `!important` here to be able to override the default hidden behavior on the sphinx rendered scikit-learn.org. See: https://github.com/scikit-learn/scikit-learn/issues/21755 */display: inline-block !important;position: relative;}#sk-container-id-5 div.sk-text-repr-fallback {display: none;}</style><div id=\"sk-container-id-5\" class=\"sk-top-container\"><div class=\"sk-text-repr-fallback\"><pre>GridSearchCV(cv=3, estimator=KNeighborsRegressor(), n_jobs=-1,\n",
              "             param_grid={&#x27;algorithm&#x27;: [&#x27;auto&#x27;, &#x27;ball_tree&#x27;, &#x27;kd_tree&#x27;],\n",
              "                         &#x27;n_neighbors&#x27;: [5, 10, 15, 2],\n",
              "                         &#x27;weights&#x27;: [&#x27;uniform&#x27;, &#x27;distance&#x27;]},\n",
              "             scoring=&#x27;r2&#x27;, verbose=10)</pre><b>In a Jupyter environment, please rerun this cell to show the HTML representation or trust the notebook. <br />On GitHub, the HTML representation is unable to render, please try loading this page with nbviewer.org.</b></div><div class=\"sk-container\" hidden><div class=\"sk-item sk-dashed-wrapped\"><div class=\"sk-label-container\"><div class=\"sk-label sk-toggleable\"><input class=\"sk-toggleable__control sk-hidden--visually\" id=\"sk-estimator-id-13\" type=\"checkbox\" ><label for=\"sk-estimator-id-13\" class=\"sk-toggleable__label sk-toggleable__label-arrow\">GridSearchCV</label><div class=\"sk-toggleable__content\"><pre>GridSearchCV(cv=3, estimator=KNeighborsRegressor(), n_jobs=-1,\n",
              "             param_grid={&#x27;algorithm&#x27;: [&#x27;auto&#x27;, &#x27;ball_tree&#x27;, &#x27;kd_tree&#x27;],\n",
              "                         &#x27;n_neighbors&#x27;: [5, 10, 15, 2],\n",
              "                         &#x27;weights&#x27;: [&#x27;uniform&#x27;, &#x27;distance&#x27;]},\n",
              "             scoring=&#x27;r2&#x27;, verbose=10)</pre></div></div></div><div class=\"sk-parallel\"><div class=\"sk-parallel-item\"><div class=\"sk-item\"><div class=\"sk-label-container\"><div class=\"sk-label sk-toggleable\"><input class=\"sk-toggleable__control sk-hidden--visually\" id=\"sk-estimator-id-14\" type=\"checkbox\" ><label for=\"sk-estimator-id-14\" class=\"sk-toggleable__label sk-toggleable__label-arrow\">estimator: KNeighborsRegressor</label><div class=\"sk-toggleable__content\"><pre>KNeighborsRegressor()</pre></div></div></div><div class=\"sk-serial\"><div class=\"sk-item\"><div class=\"sk-estimator sk-toggleable\"><input class=\"sk-toggleable__control sk-hidden--visually\" id=\"sk-estimator-id-15\" type=\"checkbox\" ><label for=\"sk-estimator-id-15\" class=\"sk-toggleable__label sk-toggleable__label-arrow\">KNeighborsRegressor</label><div class=\"sk-toggleable__content\"><pre>KNeighborsRegressor()</pre></div></div></div></div></div></div></div></div></div></div>"
            ],
            "text/plain": [
              "GridSearchCV(cv=3, estimator=KNeighborsRegressor(), n_jobs=-1,\n",
              "             param_grid={'algorithm': ['auto', 'ball_tree', 'kd_tree'],\n",
              "                         'n_neighbors': [5, 10, 15, 2],\n",
              "                         'weights': ['uniform', 'distance']},\n",
              "             scoring='r2', verbose=10)"
            ]
          },
          "execution_count": 52,
          "metadata": {},
          "output_type": "execute_result"
        }
      ],
      "source": [
        "knn = KNeighborsRegressor()\n",
        "\n",
        "# 1\n",
        "# knn.fit(x_train_scaled,y_train)\n",
        "\n",
        "# ypred_train = knn.predict(x_train_scaled)\n",
        "# ypred_test = knn.predict(x_test_scaled)\n",
        "\n",
        "# print(f\"r2_score for train data : {r2_score(ypred_train,y_train)}\")\n",
        "# print(f\"r2_score for test data : {r2_score(ypred_test,y_test)}\")\n",
        "\n",
        "# 2\n",
        "# cv = ShuffleSplit(n_splits=5,test_size=0.2,random_state=10)\n",
        "# scores = cross_val_score(knn,x_scaled,y.values,cv=cv)\n",
        "\n",
        "# a = np.array(list(map(adj_r2,scores)))\n",
        "\n",
        "# print(f\"R2 scores : {scores}\")\n",
        "# print(f\"Adjusted R2 scores : {a}\")\n",
        "\n",
        "param = {\n",
        "    'n_neighbors' : [5,10,15,2],\n",
        "    'algorithm' : ['auto', 'ball_tree', 'kd_tree'],\n",
        "    'weights' : ['uniform','distance']      \n",
        "}\n",
        "\n",
        "model = GridSearchCV(knn,param,cv=3,scoring='r2',n_jobs=-1,verbose=10)\n",
        "\n",
        "model.fit(x_train_scaled,y_train)"
      ]
    },
    {
      "cell_type": "code",
      "execution_count": 53,
      "id": "dd450ad7",
      "metadata": {},
      "outputs": [
        {
          "name": "stdout",
          "output_type": "stream",
          "text": [
            "best score : 0.7826828588374369\n",
            "best params : {'algorithm': 'kd_tree', 'n_neighbors': 2, 'weights': 'distance'}\n"
          ]
        }
      ],
      "source": [
        "print(f\"best score : {model.best_score_}\")\n",
        "print(f\"best params : {model.best_params_}\")"
      ]
    },
    {
      "cell_type": "code",
      "execution_count": 63,
      "id": "85758298",
      "metadata": {},
      "outputs": [
        {
          "name": "stdout",
          "output_type": "stream",
          "text": [
            "r2_score for train data : 0.9859083589338933\n",
            "r2_score for test data : 0.8443713860507089\n"
          ]
        }
      ],
      "source": [
        "new_knn = KNeighborsRegressor(algorithm='kd_tree',n_neighbors=2,weights='distance',n_jobs=-1)\n",
        "\n",
        "new_knn.fit(x_train_scaled,y_train)\n",
        "\n",
        "ypred_train = new_knn.predict(x_train_scaled)\n",
        "ypred_test = new_knn.predict(x_test_scaled)\n",
        "\n",
        "print(f\"r2_score for train data : {r2_score(ypred_train,y_train)}\")\n",
        "print(f\"r2_score for test data : {r2_score(ypred_test,y_test)}\")"
      ]
    },
    {
      "cell_type": "markdown",
      "id": "1d4ad83e-ea50-4bcf-bbab-1c138e14b540",
      "metadata": {
        "id": "1d4ad83e-ea50-4bcf-bbab-1c138e14b540"
      },
      "source": [
        "### DecisionTreeRegressor"
      ]
    },
    {
      "cell_type": "code",
      "execution_count": 23,
      "id": "3df80797-77db-49c2-a80d-15fee06475a1",
      "metadata": {
        "id": "3df80797-77db-49c2-a80d-15fee06475a1",
        "outputId": "dd8f375c-950a-4c6a-bd2c-f87e9cef8e65"
      },
      "outputs": [
        {
          "name": "stdout",
          "output_type": "stream",
          "text": [
            "Fitting 3 folds for each of 216 candidates, totalling 648 fits\n"
          ]
        },
        {
          "data": {
            "text/html": [
              "<style>#sk-container-id-2 {color: black;}#sk-container-id-2 pre{padding: 0;}#sk-container-id-2 div.sk-toggleable {background-color: white;}#sk-container-id-2 label.sk-toggleable__label {cursor: pointer;display: block;width: 100%;margin-bottom: 0;padding: 0.3em;box-sizing: border-box;text-align: center;}#sk-container-id-2 label.sk-toggleable__label-arrow:before {content: \"▸\";float: left;margin-right: 0.25em;color: #696969;}#sk-container-id-2 label.sk-toggleable__label-arrow:hover:before {color: black;}#sk-container-id-2 div.sk-estimator:hover label.sk-toggleable__label-arrow:before {color: black;}#sk-container-id-2 div.sk-toggleable__content {max-height: 0;max-width: 0;overflow: hidden;text-align: left;background-color: #f0f8ff;}#sk-container-id-2 div.sk-toggleable__content pre {margin: 0.2em;color: black;border-radius: 0.25em;background-color: #f0f8ff;}#sk-container-id-2 input.sk-toggleable__control:checked~div.sk-toggleable__content {max-height: 200px;max-width: 100%;overflow: auto;}#sk-container-id-2 input.sk-toggleable__control:checked~label.sk-toggleable__label-arrow:before {content: \"▾\";}#sk-container-id-2 div.sk-estimator input.sk-toggleable__control:checked~label.sk-toggleable__label {background-color: #d4ebff;}#sk-container-id-2 div.sk-label input.sk-toggleable__control:checked~label.sk-toggleable__label {background-color: #d4ebff;}#sk-container-id-2 input.sk-hidden--visually {border: 0;clip: rect(1px 1px 1px 1px);clip: rect(1px, 1px, 1px, 1px);height: 1px;margin: -1px;overflow: hidden;padding: 0;position: absolute;width: 1px;}#sk-container-id-2 div.sk-estimator {font-family: monospace;background-color: #f0f8ff;border: 1px dotted black;border-radius: 0.25em;box-sizing: border-box;margin-bottom: 0.5em;}#sk-container-id-2 div.sk-estimator:hover {background-color: #d4ebff;}#sk-container-id-2 div.sk-parallel-item::after {content: \"\";width: 100%;border-bottom: 1px solid gray;flex-grow: 1;}#sk-container-id-2 div.sk-label:hover label.sk-toggleable__label {background-color: #d4ebff;}#sk-container-id-2 div.sk-serial::before {content: \"\";position: absolute;border-left: 1px solid gray;box-sizing: border-box;top: 0;bottom: 0;left: 50%;z-index: 0;}#sk-container-id-2 div.sk-serial {display: flex;flex-direction: column;align-items: center;background-color: white;padding-right: 0.2em;padding-left: 0.2em;position: relative;}#sk-container-id-2 div.sk-item {position: relative;z-index: 1;}#sk-container-id-2 div.sk-parallel {display: flex;align-items: stretch;justify-content: center;background-color: white;position: relative;}#sk-container-id-2 div.sk-item::before, #sk-container-id-2 div.sk-parallel-item::before {content: \"\";position: absolute;border-left: 1px solid gray;box-sizing: border-box;top: 0;bottom: 0;left: 50%;z-index: -1;}#sk-container-id-2 div.sk-parallel-item {display: flex;flex-direction: column;z-index: 1;position: relative;background-color: white;}#sk-container-id-2 div.sk-parallel-item:first-child::after {align-self: flex-end;width: 50%;}#sk-container-id-2 div.sk-parallel-item:last-child::after {align-self: flex-start;width: 50%;}#sk-container-id-2 div.sk-parallel-item:only-child::after {width: 0;}#sk-container-id-2 div.sk-dashed-wrapped {border: 1px dashed gray;margin: 0 0.4em 0.5em 0.4em;box-sizing: border-box;padding-bottom: 0.4em;background-color: white;}#sk-container-id-2 div.sk-label label {font-family: monospace;font-weight: bold;display: inline-block;line-height: 1.2em;}#sk-container-id-2 div.sk-label-container {text-align: center;}#sk-container-id-2 div.sk-container {/* jupyter's `normalize.less` sets `[hidden] { display: none; }` but bootstrap.min.css set `[hidden] { display: none !important; }` so we also need the `!important` here to be able to override the default hidden behavior on the sphinx rendered scikit-learn.org. See: https://github.com/scikit-learn/scikit-learn/issues/21755 */display: inline-block !important;position: relative;}#sk-container-id-2 div.sk-text-repr-fallback {display: none;}</style><div id=\"sk-container-id-2\" class=\"sk-top-container\"><div class=\"sk-text-repr-fallback\"><pre>GridSearchCV(cv=3, estimator=DecisionTreeRegressor(), n_jobs=-1,\n",
              "             param_grid={&#x27;criterion&#x27;: [&#x27;friedman_mse&#x27;, &#x27;squared_error&#x27;,\n",
              "                                       &#x27;absolute_error&#x27;],\n",
              "                         &#x27;max_depth&#x27;: [10, 15, 20, 30],\n",
              "                         &#x27;max_features&#x27;: [150, 200, 237],\n",
              "                         &#x27;min_samples_split&#x27;: [5, 10, 15],\n",
              "                         &#x27;splitter&#x27;: [&#x27;best&#x27;, &#x27;random&#x27;]},\n",
              "             scoring=&#x27;r2&#x27;, verbose=10)</pre><b>In a Jupyter environment, please rerun this cell to show the HTML representation or trust the notebook. <br />On GitHub, the HTML representation is unable to render, please try loading this page with nbviewer.org.</b></div><div class=\"sk-container\" hidden><div class=\"sk-item sk-dashed-wrapped\"><div class=\"sk-label-container\"><div class=\"sk-label sk-toggleable\"><input class=\"sk-toggleable__control sk-hidden--visually\" id=\"sk-estimator-id-4\" type=\"checkbox\" ><label for=\"sk-estimator-id-4\" class=\"sk-toggleable__label sk-toggleable__label-arrow\">GridSearchCV</label><div class=\"sk-toggleable__content\"><pre>GridSearchCV(cv=3, estimator=DecisionTreeRegressor(), n_jobs=-1,\n",
              "             param_grid={&#x27;criterion&#x27;: [&#x27;friedman_mse&#x27;, &#x27;squared_error&#x27;,\n",
              "                                       &#x27;absolute_error&#x27;],\n",
              "                         &#x27;max_depth&#x27;: [10, 15, 20, 30],\n",
              "                         &#x27;max_features&#x27;: [150, 200, 237],\n",
              "                         &#x27;min_samples_split&#x27;: [5, 10, 15],\n",
              "                         &#x27;splitter&#x27;: [&#x27;best&#x27;, &#x27;random&#x27;]},\n",
              "             scoring=&#x27;r2&#x27;, verbose=10)</pre></div></div></div><div class=\"sk-parallel\"><div class=\"sk-parallel-item\"><div class=\"sk-item\"><div class=\"sk-label-container\"><div class=\"sk-label sk-toggleable\"><input class=\"sk-toggleable__control sk-hidden--visually\" id=\"sk-estimator-id-5\" type=\"checkbox\" ><label for=\"sk-estimator-id-5\" class=\"sk-toggleable__label sk-toggleable__label-arrow\">estimator: DecisionTreeRegressor</label><div class=\"sk-toggleable__content\"><pre>DecisionTreeRegressor()</pre></div></div></div><div class=\"sk-serial\"><div class=\"sk-item\"><div class=\"sk-estimator sk-toggleable\"><input class=\"sk-toggleable__control sk-hidden--visually\" id=\"sk-estimator-id-6\" type=\"checkbox\" ><label for=\"sk-estimator-id-6\" class=\"sk-toggleable__label sk-toggleable__label-arrow\">DecisionTreeRegressor</label><div class=\"sk-toggleable__content\"><pre>DecisionTreeRegressor()</pre></div></div></div></div></div></div></div></div></div></div>"
            ],
            "text/plain": [
              "GridSearchCV(cv=3, estimator=DecisionTreeRegressor(), n_jobs=-1,\n",
              "             param_grid={'criterion': ['friedman_mse', 'squared_error',\n",
              "                                       'absolute_error'],\n",
              "                         'max_depth': [10, 15, 20, 30],\n",
              "                         'max_features': [150, 200, 237],\n",
              "                         'min_samples_split': [5, 10, 15],\n",
              "                         'splitter': ['best', 'random']},\n",
              "             scoring='r2', verbose=10)"
            ]
          },
          "execution_count": 23,
          "metadata": {},
          "output_type": "execute_result"
        }
      ],
      "source": [
        "dt = DecisionTreeRegressor()\n",
        "\n",
        "# 1\n",
        "# dt.fit(x_train.values,y_train)\n",
        "\n",
        "# ypred_train = dt.predict(x_train.values)\n",
        "# ypred_test = dt.predict(x_test.values)\n",
        "\n",
        "# print(f\"r2_score for train data : {r2_score(ypred_train,y_train)}\")\n",
        "# print(f\"r2_score for test data : {r2_score(ypred_test,y_test)}\")\n",
        "\n",
        "# 2\n",
        "# cv = ShuffleSplit(n_splits=5,test_size=0.2,random_state=10)\n",
        "# scores = cross_val_score(dt,x.values,y.values,cv=cv)\n",
        "\n",
        "# a = np.array(list(map(adj_r2,scores)))\n",
        "\n",
        "# print(f\"R2 scores : {scores}\")\n",
        "# print(f\"Adjusted R2 scores : {a}\")\n",
        "\n",
        "param = {\n",
        "    'criterion' : ['friedman_mse','squared_error','absolute_error'],\n",
        "    'splitter' : ['best','random'],\n",
        "    'max_depth':[10,15,20,30],\n",
        "    'min_samples_split' : [5,10,15],\n",
        "    'max_features' : [150,200,237],\n",
        "}\n",
        "\n",
        "model = GridSearchCV(dt,param,cv=3,scoring='r2',n_jobs=-1,verbose=10)\n",
        "\n",
        "model.fit(x.values,y)"
      ]
    },
    {
      "cell_type": "code",
      "execution_count": null,
      "id": "0f6c64df",
      "metadata": {},
      "outputs": [],
      "source": [
        "print(f\"best score : {model.best_score_}\")\n",
        "print(f\"best params : {model.best_params_}\")"
      ]
    },
    {
      "cell_type": "code",
      "execution_count": 11,
      "id": "25daedf7",
      "metadata": {},
      "outputs": [
        {
          "name": "stdout",
          "output_type": "stream",
          "text": [
            "r2_score for train data : 0.9282087145507211\n",
            "r2_score for test data : 0.7826261366627937\n"
          ]
        }
      ],
      "source": [
        "new_dt = DecisionTreeRegressor(criterion='absolute_error',max_depth=20,max_features=237,min_samples_split=15,splitter='best')\n",
        "\n",
        "new_dt.fit(x_train.values,y_train)\n",
        "\n",
        "ypred_train = new_dt.predict(x_train.values)\n",
        "ypred_test = new_dt.predict(x_test.values)\n",
        "\n",
        "print(f\"r2_score for train data : {r2_score(ypred_train,y_train)}\")\n",
        "print(f\"r2_score for test data : {r2_score(ypred_test,y_test)}\")"
      ]
    },
    {
      "cell_type": "markdown",
      "id": "487a4b6f",
      "metadata": {},
      "source": [
        "### Voting Regressor"
      ]
    },
    {
      "cell_type": "code",
      "execution_count": 19,
      "id": "113803fa",
      "metadata": {},
      "outputs": [
        {
          "name": "stdout",
          "output_type": "stream",
          "text": [
            "r2_score for train data : 0.9558437081117209\n",
            "r2_score for test data : 0.8634832446479119\n"
          ]
        }
      ],
      "source": [
        "vr = VotingRegressor(estimators=[\n",
        "    ('sgd',SGDRegressor(alpha= 0.01,eta0=0.001,learning_rate='invscaling',loss='squared_epsilon_insensitive', max_iter= 8000, penalty= 'elasticnet')),\n",
        "    ('knn',KNeighborsRegressor(algorithm='kd_tree',n_neighbors=2,weights='distance',n_jobs=-1)),\n",
        "    ('dt',DecisionTreeRegressor(criterion='absolute_error',max_depth=20,max_features=237,min_samples_split=15,splitter='best'))\n",
        "],n_jobs=-1,verbose=True)\n",
        "\n",
        "# 1\n",
        "vr.fit(x_train_scaled,y_train)\n",
        "\n",
        "ypred_train = vr.predict(x_train_scaled)\n",
        "ypred_test = vr.predict(x_test_scaled)\n",
        "\n",
        "print(f\"r2_score for train data : {r2_score(ypred_train,y_train)}\")\n",
        "print(f\"r2_score for test data : {r2_score(ypred_test,y_test)}\")\n",
        "\n",
        "# # 2\n",
        "# cv = ShuffleSplit(n_splits=5,test_size=0.2,random_state=10)\n",
        "# scores = cross_val_score(vr,x_scaled,y.values,cv=cv)\n",
        "\n",
        "# a = np.array(list(map(adj_r2,scores)))\n",
        "\n",
        "# print(f\"R2 scores : {scores}\")\n",
        "# print(f\"Adjusted R2 scores : {a}\")\n"
      ]
    },
    {
      "cell_type": "markdown",
      "id": "dd6f81a4",
      "metadata": {},
      "source": [
        "### AdaBoostRegressor"
      ]
    },
    {
      "cell_type": "code",
      "execution_count": 25,
      "id": "31c46549",
      "metadata": {},
      "outputs": [
        {
          "name": "stdout",
          "output_type": "stream",
          "text": [
            "Fitting 3 folds for each of 108 candidates, totalling 324 fits\n"
          ]
        },
        {
          "data": {
            "text/html": [
              "<style>#sk-container-id-2 {color: black;}#sk-container-id-2 pre{padding: 0;}#sk-container-id-2 div.sk-toggleable {background-color: white;}#sk-container-id-2 label.sk-toggleable__label {cursor: pointer;display: block;width: 100%;margin-bottom: 0;padding: 0.3em;box-sizing: border-box;text-align: center;}#sk-container-id-2 label.sk-toggleable__label-arrow:before {content: \"▸\";float: left;margin-right: 0.25em;color: #696969;}#sk-container-id-2 label.sk-toggleable__label-arrow:hover:before {color: black;}#sk-container-id-2 div.sk-estimator:hover label.sk-toggleable__label-arrow:before {color: black;}#sk-container-id-2 div.sk-toggleable__content {max-height: 0;max-width: 0;overflow: hidden;text-align: left;background-color: #f0f8ff;}#sk-container-id-2 div.sk-toggleable__content pre {margin: 0.2em;color: black;border-radius: 0.25em;background-color: #f0f8ff;}#sk-container-id-2 input.sk-toggleable__control:checked~div.sk-toggleable__content {max-height: 200px;max-width: 100%;overflow: auto;}#sk-container-id-2 input.sk-toggleable__control:checked~label.sk-toggleable__label-arrow:before {content: \"▾\";}#sk-container-id-2 div.sk-estimator input.sk-toggleable__control:checked~label.sk-toggleable__label {background-color: #d4ebff;}#sk-container-id-2 div.sk-label input.sk-toggleable__control:checked~label.sk-toggleable__label {background-color: #d4ebff;}#sk-container-id-2 input.sk-hidden--visually {border: 0;clip: rect(1px 1px 1px 1px);clip: rect(1px, 1px, 1px, 1px);height: 1px;margin: -1px;overflow: hidden;padding: 0;position: absolute;width: 1px;}#sk-container-id-2 div.sk-estimator {font-family: monospace;background-color: #f0f8ff;border: 1px dotted black;border-radius: 0.25em;box-sizing: border-box;margin-bottom: 0.5em;}#sk-container-id-2 div.sk-estimator:hover {background-color: #d4ebff;}#sk-container-id-2 div.sk-parallel-item::after {content: \"\";width: 100%;border-bottom: 1px solid gray;flex-grow: 1;}#sk-container-id-2 div.sk-label:hover label.sk-toggleable__label {background-color: #d4ebff;}#sk-container-id-2 div.sk-serial::before {content: \"\";position: absolute;border-left: 1px solid gray;box-sizing: border-box;top: 0;bottom: 0;left: 50%;z-index: 0;}#sk-container-id-2 div.sk-serial {display: flex;flex-direction: column;align-items: center;background-color: white;padding-right: 0.2em;padding-left: 0.2em;position: relative;}#sk-container-id-2 div.sk-item {position: relative;z-index: 1;}#sk-container-id-2 div.sk-parallel {display: flex;align-items: stretch;justify-content: center;background-color: white;position: relative;}#sk-container-id-2 div.sk-item::before, #sk-container-id-2 div.sk-parallel-item::before {content: \"\";position: absolute;border-left: 1px solid gray;box-sizing: border-box;top: 0;bottom: 0;left: 50%;z-index: -1;}#sk-container-id-2 div.sk-parallel-item {display: flex;flex-direction: column;z-index: 1;position: relative;background-color: white;}#sk-container-id-2 div.sk-parallel-item:first-child::after {align-self: flex-end;width: 50%;}#sk-container-id-2 div.sk-parallel-item:last-child::after {align-self: flex-start;width: 50%;}#sk-container-id-2 div.sk-parallel-item:only-child::after {width: 0;}#sk-container-id-2 div.sk-dashed-wrapped {border: 1px dashed gray;margin: 0 0.4em 0.5em 0.4em;box-sizing: border-box;padding-bottom: 0.4em;background-color: white;}#sk-container-id-2 div.sk-label label {font-family: monospace;font-weight: bold;display: inline-block;line-height: 1.2em;}#sk-container-id-2 div.sk-label-container {text-align: center;}#sk-container-id-2 div.sk-container {/* jupyter's `normalize.less` sets `[hidden] { display: none; }` but bootstrap.min.css set `[hidden] { display: none !important; }` so we also need the `!important` here to be able to override the default hidden behavior on the sphinx rendered scikit-learn.org. See: https://github.com/scikit-learn/scikit-learn/issues/21755 */display: inline-block !important;position: relative;}#sk-container-id-2 div.sk-text-repr-fallback {display: none;}</style><div id=\"sk-container-id-2\" class=\"sk-top-container\"><div class=\"sk-text-repr-fallback\"><pre>GridSearchCV(cv=3, estimator=AdaBoostRegressor(), n_jobs=-1,\n",
              "             param_grid={&#x27;estimator&#x27;: [DecisionTreeRegressor(max_depth=10),\n",
              "                                       DecisionTreeRegressor(max_depth=8),\n",
              "                                       DecisionTreeRegressor(max_depth=6)],\n",
              "                         &#x27;learning_rate&#x27;: [1, 0.1, 0.01],\n",
              "                         &#x27;loss&#x27;: [&#x27;linear&#x27;, &#x27;square&#x27;, &#x27;exponential&#x27;],\n",
              "                         &#x27;n_estimators&#x27;: [50, 100, 150, 200]},\n",
              "             scoring=&#x27;r2&#x27;, verbose=10)</pre><b>In a Jupyter environment, please rerun this cell to show the HTML representation or trust the notebook. <br />On GitHub, the HTML representation is unable to render, please try loading this page with nbviewer.org.</b></div><div class=\"sk-container\" hidden><div class=\"sk-item sk-dashed-wrapped\"><div class=\"sk-label-container\"><div class=\"sk-label sk-toggleable\"><input class=\"sk-toggleable__control sk-hidden--visually\" id=\"sk-estimator-id-4\" type=\"checkbox\" ><label for=\"sk-estimator-id-4\" class=\"sk-toggleable__label sk-toggleable__label-arrow\">GridSearchCV</label><div class=\"sk-toggleable__content\"><pre>GridSearchCV(cv=3, estimator=AdaBoostRegressor(), n_jobs=-1,\n",
              "             param_grid={&#x27;estimator&#x27;: [DecisionTreeRegressor(max_depth=10),\n",
              "                                       DecisionTreeRegressor(max_depth=8),\n",
              "                                       DecisionTreeRegressor(max_depth=6)],\n",
              "                         &#x27;learning_rate&#x27;: [1, 0.1, 0.01],\n",
              "                         &#x27;loss&#x27;: [&#x27;linear&#x27;, &#x27;square&#x27;, &#x27;exponential&#x27;],\n",
              "                         &#x27;n_estimators&#x27;: [50, 100, 150, 200]},\n",
              "             scoring=&#x27;r2&#x27;, verbose=10)</pre></div></div></div><div class=\"sk-parallel\"><div class=\"sk-parallel-item\"><div class=\"sk-item\"><div class=\"sk-label-container\"><div class=\"sk-label sk-toggleable\"><input class=\"sk-toggleable__control sk-hidden--visually\" id=\"sk-estimator-id-5\" type=\"checkbox\" ><label for=\"sk-estimator-id-5\" class=\"sk-toggleable__label sk-toggleable__label-arrow\">estimator: AdaBoostRegressor</label><div class=\"sk-toggleable__content\"><pre>AdaBoostRegressor()</pre></div></div></div><div class=\"sk-serial\"><div class=\"sk-item\"><div class=\"sk-estimator sk-toggleable\"><input class=\"sk-toggleable__control sk-hidden--visually\" id=\"sk-estimator-id-6\" type=\"checkbox\" ><label for=\"sk-estimator-id-6\" class=\"sk-toggleable__label sk-toggleable__label-arrow\">AdaBoostRegressor</label><div class=\"sk-toggleable__content\"><pre>AdaBoostRegressor()</pre></div></div></div></div></div></div></div></div></div></div>"
            ],
            "text/plain": [
              "GridSearchCV(cv=3, estimator=AdaBoostRegressor(), n_jobs=-1,\n",
              "             param_grid={'estimator': [DecisionTreeRegressor(max_depth=10),\n",
              "                                       DecisionTreeRegressor(max_depth=8),\n",
              "                                       DecisionTreeRegressor(max_depth=6)],\n",
              "                         'learning_rate': [1, 0.1, 0.01],\n",
              "                         'loss': ['linear', 'square', 'exponential'],\n",
              "                         'n_estimators': [50, 100, 150, 200]},\n",
              "             scoring='r2', verbose=10)"
            ]
          },
          "execution_count": 25,
          "metadata": {},
          "output_type": "execute_result"
        }
      ],
      "source": [
        "ab = AdaBoostRegressor()\n",
        "\n",
        "# 1\n",
        "# ab.fit(x_train.values,y_train)\n",
        "\n",
        "# ypred_train = ab.predict(x_train.values)\n",
        "# ypred_test = ab.predict(x_test.values)\n",
        "\n",
        "# print(f\"r2_score for train data : {r2_score(ypred_train,y_train)}\")\n",
        "# print(f\"r2_score for test data : {r2_score(ypred_test,y_test)}\")\n",
        "\n",
        "# 2\n",
        "# cv = ShuffleSplit(n_splits=5,test_size=0.2,random_state=10)\n",
        "# scores = cross_val_score(ab,x.values,y.values,cv=cv)\n",
        "\n",
        "# a = np.array(list(map(adj_r2,scores)))\n",
        "\n",
        "# print(f\"R2 scores : {scores}\")\n",
        "# print(f\"Adjusted R2 scores : {a}\")\n",
        "\n",
        "param = {\n",
        "    'estimator' : [DecisionTreeRegressor(max_depth=10),DecisionTreeRegressor(max_depth=8),DecisionTreeRegressor(max_depth=6)],\n",
        "    'n_estimators' : [50,100,150,200],\n",
        "    'loss' : ['linear','square','exponential'],\n",
        "    'learning_rate' : [1,0.1,0.01]\n",
        "}\n",
        "\n",
        "model = GridSearchCV(ab,param,scoring='r2',cv=3,n_jobs=-1,verbose=10)\n",
        "\n",
        "model.fit(x.values,y.values)"
      ]
    },
    {
      "cell_type": "code",
      "execution_count": 26,
      "id": "418202e4",
      "metadata": {},
      "outputs": [
        {
          "name": "stdout",
          "output_type": "stream",
          "text": [
            "best score : 0.6965254319730659\n",
            "best params : {'estimator': DecisionTreeRegressor(max_depth=6), 'learning_rate': 0.1, 'loss': 'exponential', 'n_estimators': 150}\n"
          ]
        }
      ],
      "source": [
        "print(f\"best score : {model.best_score_}\")\n",
        "print(f\"best params : {model.best_params_}\")"
      ]
    },
    {
      "cell_type": "code",
      "execution_count": 33,
      "id": "7ee22731",
      "metadata": {},
      "outputs": [
        {
          "name": "stdout",
          "output_type": "stream",
          "text": [
            "r2_score for train data : 0.8110148510374596\n",
            "r2_score for test data : 0.7532932568755784\n"
          ]
        }
      ],
      "source": [
        "new_ab = AdaBoostRegressor(estimator=DecisionTreeRegressor(max_depth=6),learning_rate=0.1,loss='exponential',n_estimators=150)\n",
        "\n",
        "new_ab.fit(x_train.values,y_train)\n",
        "\n",
        "ypred_train = new_ab.predict(x_train.values)\n",
        "ypred_test = new_ab.predict(x_test.values)\n",
        "\n",
        "print(f\"r2_score for train data : {r2_score(ypred_train,y_train)}\")\n",
        "print(f\"r2_score for test data : {r2_score(ypred_test,y_test)}\")"
      ]
    },
    {
      "cell_type": "markdown",
      "id": "1f6c141d",
      "metadata": {},
      "source": [
        "### GradientBoostingRegressor"
      ]
    },
    {
      "cell_type": "code",
      "execution_count": 37,
      "id": "a27e195e",
      "metadata": {},
      "outputs": [
        {
          "name": "stdout",
          "output_type": "stream",
          "text": [
            "Fitting 3 folds for each of 432 candidates, totalling 1296 fits\n"
          ]
        },
        {
          "data": {
            "text/html": [
              "<style>#sk-container-id-4 {color: black;}#sk-container-id-4 pre{padding: 0;}#sk-container-id-4 div.sk-toggleable {background-color: white;}#sk-container-id-4 label.sk-toggleable__label {cursor: pointer;display: block;width: 100%;margin-bottom: 0;padding: 0.3em;box-sizing: border-box;text-align: center;}#sk-container-id-4 label.sk-toggleable__label-arrow:before {content: \"▸\";float: left;margin-right: 0.25em;color: #696969;}#sk-container-id-4 label.sk-toggleable__label-arrow:hover:before {color: black;}#sk-container-id-4 div.sk-estimator:hover label.sk-toggleable__label-arrow:before {color: black;}#sk-container-id-4 div.sk-toggleable__content {max-height: 0;max-width: 0;overflow: hidden;text-align: left;background-color: #f0f8ff;}#sk-container-id-4 div.sk-toggleable__content pre {margin: 0.2em;color: black;border-radius: 0.25em;background-color: #f0f8ff;}#sk-container-id-4 input.sk-toggleable__control:checked~div.sk-toggleable__content {max-height: 200px;max-width: 100%;overflow: auto;}#sk-container-id-4 input.sk-toggleable__control:checked~label.sk-toggleable__label-arrow:before {content: \"▾\";}#sk-container-id-4 div.sk-estimator input.sk-toggleable__control:checked~label.sk-toggleable__label {background-color: #d4ebff;}#sk-container-id-4 div.sk-label input.sk-toggleable__control:checked~label.sk-toggleable__label {background-color: #d4ebff;}#sk-container-id-4 input.sk-hidden--visually {border: 0;clip: rect(1px 1px 1px 1px);clip: rect(1px, 1px, 1px, 1px);height: 1px;margin: -1px;overflow: hidden;padding: 0;position: absolute;width: 1px;}#sk-container-id-4 div.sk-estimator {font-family: monospace;background-color: #f0f8ff;border: 1px dotted black;border-radius: 0.25em;box-sizing: border-box;margin-bottom: 0.5em;}#sk-container-id-4 div.sk-estimator:hover {background-color: #d4ebff;}#sk-container-id-4 div.sk-parallel-item::after {content: \"\";width: 100%;border-bottom: 1px solid gray;flex-grow: 1;}#sk-container-id-4 div.sk-label:hover label.sk-toggleable__label {background-color: #d4ebff;}#sk-container-id-4 div.sk-serial::before {content: \"\";position: absolute;border-left: 1px solid gray;box-sizing: border-box;top: 0;bottom: 0;left: 50%;z-index: 0;}#sk-container-id-4 div.sk-serial {display: flex;flex-direction: column;align-items: center;background-color: white;padding-right: 0.2em;padding-left: 0.2em;position: relative;}#sk-container-id-4 div.sk-item {position: relative;z-index: 1;}#sk-container-id-4 div.sk-parallel {display: flex;align-items: stretch;justify-content: center;background-color: white;position: relative;}#sk-container-id-4 div.sk-item::before, #sk-container-id-4 div.sk-parallel-item::before {content: \"\";position: absolute;border-left: 1px solid gray;box-sizing: border-box;top: 0;bottom: 0;left: 50%;z-index: -1;}#sk-container-id-4 div.sk-parallel-item {display: flex;flex-direction: column;z-index: 1;position: relative;background-color: white;}#sk-container-id-4 div.sk-parallel-item:first-child::after {align-self: flex-end;width: 50%;}#sk-container-id-4 div.sk-parallel-item:last-child::after {align-self: flex-start;width: 50%;}#sk-container-id-4 div.sk-parallel-item:only-child::after {width: 0;}#sk-container-id-4 div.sk-dashed-wrapped {border: 1px dashed gray;margin: 0 0.4em 0.5em 0.4em;box-sizing: border-box;padding-bottom: 0.4em;background-color: white;}#sk-container-id-4 div.sk-label label {font-family: monospace;font-weight: bold;display: inline-block;line-height: 1.2em;}#sk-container-id-4 div.sk-label-container {text-align: center;}#sk-container-id-4 div.sk-container {/* jupyter's `normalize.less` sets `[hidden] { display: none; }` but bootstrap.min.css set `[hidden] { display: none !important; }` so we also need the `!important` here to be able to override the default hidden behavior on the sphinx rendered scikit-learn.org. See: https://github.com/scikit-learn/scikit-learn/issues/21755 */display: inline-block !important;position: relative;}#sk-container-id-4 div.sk-text-repr-fallback {display: none;}</style><div id=\"sk-container-id-4\" class=\"sk-top-container\"><div class=\"sk-text-repr-fallback\"><pre>GridSearchCV(cv=3, estimator=GradientBoostingRegressor(), n_jobs=-1,\n",
              "             param_grid={&#x27;criterion&#x27;: [&#x27;friedman_mse&#x27;, &#x27;squared_error&#x27;],\n",
              "                         &#x27;learning_rate&#x27;: [1, 0.1, 0.01],\n",
              "                         &#x27;loss&#x27;: [&#x27;squared_error&#x27;, &#x27;absolute_error&#x27;, &#x27;huber&#x27;],\n",
              "                         &#x27;max_depth&#x27;: [3, 5, 2],\n",
              "                         &#x27;max_features&#x27;: [&#x27;sqrt&#x27;, &#x27;log2&#x27;],\n",
              "                         &#x27;n_estimators&#x27;: [50, 100, 150, 200]},\n",
              "             scoring=&#x27;r2&#x27;, verbose=10)</pre><b>In a Jupyter environment, please rerun this cell to show the HTML representation or trust the notebook. <br />On GitHub, the HTML representation is unable to render, please try loading this page with nbviewer.org.</b></div><div class=\"sk-container\" hidden><div class=\"sk-item sk-dashed-wrapped\"><div class=\"sk-label-container\"><div class=\"sk-label sk-toggleable\"><input class=\"sk-toggleable__control sk-hidden--visually\" id=\"sk-estimator-id-10\" type=\"checkbox\" ><label for=\"sk-estimator-id-10\" class=\"sk-toggleable__label sk-toggleable__label-arrow\">GridSearchCV</label><div class=\"sk-toggleable__content\"><pre>GridSearchCV(cv=3, estimator=GradientBoostingRegressor(), n_jobs=-1,\n",
              "             param_grid={&#x27;criterion&#x27;: [&#x27;friedman_mse&#x27;, &#x27;squared_error&#x27;],\n",
              "                         &#x27;learning_rate&#x27;: [1, 0.1, 0.01],\n",
              "                         &#x27;loss&#x27;: [&#x27;squared_error&#x27;, &#x27;absolute_error&#x27;, &#x27;huber&#x27;],\n",
              "                         &#x27;max_depth&#x27;: [3, 5, 2],\n",
              "                         &#x27;max_features&#x27;: [&#x27;sqrt&#x27;, &#x27;log2&#x27;],\n",
              "                         &#x27;n_estimators&#x27;: [50, 100, 150, 200]},\n",
              "             scoring=&#x27;r2&#x27;, verbose=10)</pre></div></div></div><div class=\"sk-parallel\"><div class=\"sk-parallel-item\"><div class=\"sk-item\"><div class=\"sk-label-container\"><div class=\"sk-label sk-toggleable\"><input class=\"sk-toggleable__control sk-hidden--visually\" id=\"sk-estimator-id-11\" type=\"checkbox\" ><label for=\"sk-estimator-id-11\" class=\"sk-toggleable__label sk-toggleable__label-arrow\">estimator: GradientBoostingRegressor</label><div class=\"sk-toggleable__content\"><pre>GradientBoostingRegressor()</pre></div></div></div><div class=\"sk-serial\"><div class=\"sk-item\"><div class=\"sk-estimator sk-toggleable\"><input class=\"sk-toggleable__control sk-hidden--visually\" id=\"sk-estimator-id-12\" type=\"checkbox\" ><label for=\"sk-estimator-id-12\" class=\"sk-toggleable__label sk-toggleable__label-arrow\">GradientBoostingRegressor</label><div class=\"sk-toggleable__content\"><pre>GradientBoostingRegressor()</pre></div></div></div></div></div></div></div></div></div></div>"
            ],
            "text/plain": [
              "GridSearchCV(cv=3, estimator=GradientBoostingRegressor(), n_jobs=-1,\n",
              "             param_grid={'criterion': ['friedman_mse', 'squared_error'],\n",
              "                         'learning_rate': [1, 0.1, 0.01],\n",
              "                         'loss': ['squared_error', 'absolute_error', 'huber'],\n",
              "                         'max_depth': [3, 5, 2],\n",
              "                         'max_features': ['sqrt', 'log2'],\n",
              "                         'n_estimators': [50, 100, 150, 200]},\n",
              "             scoring='r2', verbose=10)"
            ]
          },
          "execution_count": 37,
          "metadata": {},
          "output_type": "execute_result"
        }
      ],
      "source": [
        "gb = GradientBoostingRegressor()\n",
        "\n",
        "# 1\n",
        "# gb.fit(x_train.values,y_train)\n",
        "\n",
        "# ypred_train = gb.predict(x_train.values)\n",
        "# ypred_test = gb.predict(x_test.values)\n",
        "\n",
        "# print(f\"r2_score for train data : {r2_score(ypred_train,y_train)}\")\n",
        "# print(f\"r2_score for test data : {r2_score(ypred_test,y_test)}\")\n",
        "\n",
        "# 2\n",
        "# cv = ShuffleSplit(n_splits=5,test_size=0.2,random_state=10)\n",
        "# scores = cross_val_score(gb,x.values,y.values,cv=cv)\n",
        "\n",
        "# a = np.array(list(map(adj_r2,scores)))\n",
        "\n",
        "# print(f\"R2 scores : {scores}\")\n",
        "# print(f\"Adjusted R2 scores : {a}\")\n",
        "\n",
        "param = {\n",
        "    'n_estimators' : [50,100,150,200],\n",
        "    'loss' : ['squared_error','absolute_error','huber'],\n",
        "    'learning_rate' : [1,0.1,0.01],\n",
        "    'criterion' : ['friedman_mse','squared_error'],\n",
        "    'max_depth' : [3,5,2],\n",
        "    'max_features' : ['sqrt','log2']\n",
        "}\n",
        "\n",
        "model = GridSearchCV(gb,param,scoring='r2',cv=3,n_jobs=-1,verbose=10)\n",
        "\n",
        "model.fit(x.values,y.values)"
      ]
    },
    {
      "cell_type": "code",
      "execution_count": 38,
      "id": "c45582b1",
      "metadata": {},
      "outputs": [
        {
          "name": "stdout",
          "output_type": "stream",
          "text": [
            "best score : 0.6656471606857979\n",
            "best params : {'criterion': 'squared_error', 'learning_rate': 1, 'loss': 'huber', 'max_depth': 5, 'max_features': 'sqrt', 'n_estimators': 200}\n"
          ]
        }
      ],
      "source": [
        "print(f\"best score : {model.best_score_}\")\n",
        "print(f\"best params : {model.best_params_}\")"
      ]
    },
    {
      "cell_type": "code",
      "execution_count": 44,
      "id": "f7d8a6e5",
      "metadata": {},
      "outputs": [
        {
          "name": "stdout",
          "output_type": "stream",
          "text": [
            "r2_score for train data : 0.9231149273825147\n",
            "r2_score for test data : 0.8679075758796653\n"
          ]
        }
      ],
      "source": [
        "new_gb = GradientBoostingRegressor(criterion='squared_error',loss='huber',learning_rate=1,max_depth=4,max_features='sqrt',n_estimators=160)\n",
        "\n",
        "new_gb.fit(x_train_scaled,y_train)\n",
        "\n",
        "ypred_train = new_gb.predict(x_train_scaled)\n",
        "ypred_test = new_gb.predict(x_test_scaled)\n",
        "\n",
        "print(f\"r2_score for train data : {r2_score(ypred_train,y_train)}\")\n",
        "print(f\"r2_score for test data : {r2_score(ypred_test,y_test)}\")"
      ]
    },
    {
      "cell_type": "markdown",
      "id": "077122a6",
      "metadata": {},
      "source": [
        "### StackingRegressor"
      ]
    },
    {
      "cell_type": "code",
      "execution_count": 14,
      "id": "ac19132a",
      "metadata": {},
      "outputs": [
        {
          "name": "stdout",
          "output_type": "stream",
          "text": [
            "r2_score for train data : 0.9382615649941005\n",
            "r2_score for test data : 0.8954708862225214\n"
          ]
        }
      ],
      "source": [
        "sr = StackingRegressor(estimators=[\n",
        "    ('sgd',SGDRegressor(alpha= 0.01,eta0=0.001,learning_rate='invscaling',loss='squared_epsilon_insensitive', max_iter= 8000, penalty= 'elasticnet')),\n",
        "    ('knn',KNeighborsRegressor(algorithm='kd_tree',n_neighbors=2,weights='distance',n_jobs=-1)),\n",
        "    ('dt',DecisionTreeRegressor(criterion='absolute_error',max_depth=20,max_features=237,min_samples_split=15,splitter='best'),\n",
        "    ('ab',AdaBoostRegressor(estimator=DecisionTreeRegressor(max_depth=6),learning_rate=0.1,loss='exponential',n_estimators=150)))],\n",
        "    final_estimator=GradientBoostingRegressor(),n_jobs=-1,verbose=True)\n",
        "\n",
        "# 1\n",
        "sr.fit(x_train_scaled,y_train)\n",
        "\n",
        "ypred_train = sr.predict(x_train_scaled)\n",
        "ypred_test = sr.predict(x_test_scaled)\n",
        "\n",
        "print(f\"r2_score for train data : {r2_score(ypred_train,y_train)}\")\n",
        "print(f\"r2_score for test data : {r2_score(ypred_test,y_test)}\")\n",
        "\n",
        "# 2\n",
        "# cv = ShuffleSplit(n_splits=5,test_size=0.2,random_state=10)\n",
        "# scores = cross_val_score(sr,x_scaled,y.values,cv=cv)\n",
        "\n",
        "# a = np.array(list(map(adj_r2,scores)))\n",
        "\n",
        "# print(f\"R2 scores : {scores}\")\n",
        "# print(f\"Adjusted R2 scores : {a}\")"
      ]
    },
    {
      "cell_type": "markdown",
      "id": "33f0fc0f-5063-4e43-9bc3-dbf5366c34b3",
      "metadata": {
        "id": "33f0fc0f-5063-4e43-9bc3-dbf5366c34b3"
      },
      "source": [
        "### RandomForestRegressor"
      ]
    },
    {
      "cell_type": "code",
      "execution_count": 66,
      "id": "70c59f75-14d3-4301-89ce-f126780c26fa",
      "metadata": {
        "id": "70c59f75-14d3-4301-89ce-f126780c26fa",
        "outputId": "29190f96-fabf-4d58-89c6-fe25c720ed14"
      },
      "outputs": [
        {
          "name": "stdout",
          "output_type": "stream",
          "text": [
            "Fitting 3 folds for each of 120 candidates, totalling 360 fits\n"
          ]
        },
        {
          "data": {
            "text/html": [
              "<style>#sk-container-id-6 {color: black;}#sk-container-id-6 pre{padding: 0;}#sk-container-id-6 div.sk-toggleable {background-color: white;}#sk-container-id-6 label.sk-toggleable__label {cursor: pointer;display: block;width: 100%;margin-bottom: 0;padding: 0.3em;box-sizing: border-box;text-align: center;}#sk-container-id-6 label.sk-toggleable__label-arrow:before {content: \"▸\";float: left;margin-right: 0.25em;color: #696969;}#sk-container-id-6 label.sk-toggleable__label-arrow:hover:before {color: black;}#sk-container-id-6 div.sk-estimator:hover label.sk-toggleable__label-arrow:before {color: black;}#sk-container-id-6 div.sk-toggleable__content {max-height: 0;max-width: 0;overflow: hidden;text-align: left;background-color: #f0f8ff;}#sk-container-id-6 div.sk-toggleable__content pre {margin: 0.2em;color: black;border-radius: 0.25em;background-color: #f0f8ff;}#sk-container-id-6 input.sk-toggleable__control:checked~div.sk-toggleable__content {max-height: 200px;max-width: 100%;overflow: auto;}#sk-container-id-6 input.sk-toggleable__control:checked~label.sk-toggleable__label-arrow:before {content: \"▾\";}#sk-container-id-6 div.sk-estimator input.sk-toggleable__control:checked~label.sk-toggleable__label {background-color: #d4ebff;}#sk-container-id-6 div.sk-label input.sk-toggleable__control:checked~label.sk-toggleable__label {background-color: #d4ebff;}#sk-container-id-6 input.sk-hidden--visually {border: 0;clip: rect(1px 1px 1px 1px);clip: rect(1px, 1px, 1px, 1px);height: 1px;margin: -1px;overflow: hidden;padding: 0;position: absolute;width: 1px;}#sk-container-id-6 div.sk-estimator {font-family: monospace;background-color: #f0f8ff;border: 1px dotted black;border-radius: 0.25em;box-sizing: border-box;margin-bottom: 0.5em;}#sk-container-id-6 div.sk-estimator:hover {background-color: #d4ebff;}#sk-container-id-6 div.sk-parallel-item::after {content: \"\";width: 100%;border-bottom: 1px solid gray;flex-grow: 1;}#sk-container-id-6 div.sk-label:hover label.sk-toggleable__label {background-color: #d4ebff;}#sk-container-id-6 div.sk-serial::before {content: \"\";position: absolute;border-left: 1px solid gray;box-sizing: border-box;top: 0;bottom: 0;left: 50%;z-index: 0;}#sk-container-id-6 div.sk-serial {display: flex;flex-direction: column;align-items: center;background-color: white;padding-right: 0.2em;padding-left: 0.2em;position: relative;}#sk-container-id-6 div.sk-item {position: relative;z-index: 1;}#sk-container-id-6 div.sk-parallel {display: flex;align-items: stretch;justify-content: center;background-color: white;position: relative;}#sk-container-id-6 div.sk-item::before, #sk-container-id-6 div.sk-parallel-item::before {content: \"\";position: absolute;border-left: 1px solid gray;box-sizing: border-box;top: 0;bottom: 0;left: 50%;z-index: -1;}#sk-container-id-6 div.sk-parallel-item {display: flex;flex-direction: column;z-index: 1;position: relative;background-color: white;}#sk-container-id-6 div.sk-parallel-item:first-child::after {align-self: flex-end;width: 50%;}#sk-container-id-6 div.sk-parallel-item:last-child::after {align-self: flex-start;width: 50%;}#sk-container-id-6 div.sk-parallel-item:only-child::after {width: 0;}#sk-container-id-6 div.sk-dashed-wrapped {border: 1px dashed gray;margin: 0 0.4em 0.5em 0.4em;box-sizing: border-box;padding-bottom: 0.4em;background-color: white;}#sk-container-id-6 div.sk-label label {font-family: monospace;font-weight: bold;display: inline-block;line-height: 1.2em;}#sk-container-id-6 div.sk-label-container {text-align: center;}#sk-container-id-6 div.sk-container {/* jupyter's `normalize.less` sets `[hidden] { display: none; }` but bootstrap.min.css set `[hidden] { display: none !important; }` so we also need the `!important` here to be able to override the default hidden behavior on the sphinx rendered scikit-learn.org. See: https://github.com/scikit-learn/scikit-learn/issues/21755 */display: inline-block !important;position: relative;}#sk-container-id-6 div.sk-text-repr-fallback {display: none;}</style><div id=\"sk-container-id-6\" class=\"sk-top-container\"><div class=\"sk-text-repr-fallback\"><pre>GridSearchCV(cv=3, estimator=RandomForestRegressor(n_jobs=-1), n_jobs=-1,\n",
              "             param_grid={&#x27;criterion&#x27;: [&#x27;squared_error&#x27;, &#x27;friedman_mse&#x27;,\n",
              "                                       &#x27;poisson&#x27;],\n",
              "                         &#x27;max_depth&#x27;: [10, 15, 20, 25],\n",
              "                         &#x27;max_features&#x27;: [&#x27;sqrt&#x27;, &#x27;log2&#x27;],\n",
              "                         &#x27;n_estimators&#x27;: [100, 150, 200, 250, 300]},\n",
              "             scoring=&#x27;r2&#x27;, verbose=10)</pre><b>In a Jupyter environment, please rerun this cell to show the HTML representation or trust the notebook. <br />On GitHub, the HTML representation is unable to render, please try loading this page with nbviewer.org.</b></div><div class=\"sk-container\" hidden><div class=\"sk-item sk-dashed-wrapped\"><div class=\"sk-label-container\"><div class=\"sk-label sk-toggleable\"><input class=\"sk-toggleable__control sk-hidden--visually\" id=\"sk-estimator-id-16\" type=\"checkbox\" ><label for=\"sk-estimator-id-16\" class=\"sk-toggleable__label sk-toggleable__label-arrow\">GridSearchCV</label><div class=\"sk-toggleable__content\"><pre>GridSearchCV(cv=3, estimator=RandomForestRegressor(n_jobs=-1), n_jobs=-1,\n",
              "             param_grid={&#x27;criterion&#x27;: [&#x27;squared_error&#x27;, &#x27;friedman_mse&#x27;,\n",
              "                                       &#x27;poisson&#x27;],\n",
              "                         &#x27;max_depth&#x27;: [10, 15, 20, 25],\n",
              "                         &#x27;max_features&#x27;: [&#x27;sqrt&#x27;, &#x27;log2&#x27;],\n",
              "                         &#x27;n_estimators&#x27;: [100, 150, 200, 250, 300]},\n",
              "             scoring=&#x27;r2&#x27;, verbose=10)</pre></div></div></div><div class=\"sk-parallel\"><div class=\"sk-parallel-item\"><div class=\"sk-item\"><div class=\"sk-label-container\"><div class=\"sk-label sk-toggleable\"><input class=\"sk-toggleable__control sk-hidden--visually\" id=\"sk-estimator-id-17\" type=\"checkbox\" ><label for=\"sk-estimator-id-17\" class=\"sk-toggleable__label sk-toggleable__label-arrow\">estimator: RandomForestRegressor</label><div class=\"sk-toggleable__content\"><pre>RandomForestRegressor(n_jobs=-1)</pre></div></div></div><div class=\"sk-serial\"><div class=\"sk-item\"><div class=\"sk-estimator sk-toggleable\"><input class=\"sk-toggleable__control sk-hidden--visually\" id=\"sk-estimator-id-18\" type=\"checkbox\" ><label for=\"sk-estimator-id-18\" class=\"sk-toggleable__label sk-toggleable__label-arrow\">RandomForestRegressor</label><div class=\"sk-toggleable__content\"><pre>RandomForestRegressor(n_jobs=-1)</pre></div></div></div></div></div></div></div></div></div></div>"
            ],
            "text/plain": [
              "GridSearchCV(cv=3, estimator=RandomForestRegressor(n_jobs=-1), n_jobs=-1,\n",
              "             param_grid={'criterion': ['squared_error', 'friedman_mse',\n",
              "                                       'poisson'],\n",
              "                         'max_depth': [10, 15, 20, 25],\n",
              "                         'max_features': ['sqrt', 'log2'],\n",
              "                         'n_estimators': [100, 150, 200, 250, 300]},\n",
              "             scoring='r2', verbose=10)"
            ]
          },
          "execution_count": 66,
          "metadata": {},
          "output_type": "execute_result"
        }
      ],
      "source": [
        "rf = RandomForestRegressor(n_jobs=-1)\n",
        "\n",
        "# 1\n",
        "# rf.fit(x_train.values,y_train)\n",
        "\n",
        "# ypred_train = rf.predict(x_train.values)\n",
        "# ypred_test = rf.predict(x_test.values)\n",
        "\n",
        "# print(f\"r2_score for train data : {r2_score(ypred_train,y_train)}\")\n",
        "# print(f\"r2_score for test data : {r2_score(ypred_test,y_test)}\")\n",
        "\n",
        "# 2\n",
        "# cv = ShuffleSplit(n_splits=5,test_size=0.2,random_state=10)\n",
        "# scores = cross_val_score(rf,x.values,y.values,cv=cv)\n",
        "\n",
        "# a = np.array(list(map(adj_r2,scores)))\n",
        "\n",
        "# print(f\"R2 scores : {scores}\")\n",
        "# print(f\"Adjusted R2 scores : {a}\")\n",
        "\n",
        "param = {\n",
        "    'n_estimators' : [100,150,200,250,300],\n",
        "    'criterion' : ['squared_error','friedman_mse','poisson'],\n",
        "    'max_features' : ['sqrt','log2'],\n",
        "    'max_depth' : [10,15,20,25]\n",
        "}\n",
        "\n",
        "model = GridSearchCV(rf,param,scoring='r2',cv=3,n_jobs=-1,verbose=10)\n",
        "\n",
        "model.fit(x.values,y.values)"
      ]
    },
    {
      "cell_type": "code",
      "execution_count": 67,
      "id": "287c8bd6",
      "metadata": {},
      "outputs": [
        {
          "name": "stdout",
          "output_type": "stream",
          "text": [
            "best score : 0.6434984482339166\n",
            "best params : {'criterion': 'squared_error', 'max_depth': 25, 'max_features': 'sqrt', 'n_estimators': 100}\n"
          ]
        }
      ],
      "source": [
        "print(f\"best score : {model.best_score_}\")\n",
        "print(f\"best params : {model.best_params_}\")"
      ]
    },
    {
      "cell_type": "code",
      "execution_count": 73,
      "id": "88d30c1a",
      "metadata": {},
      "outputs": [
        {
          "name": "stdout",
          "output_type": "stream",
          "text": [
            "r2_score for train data : 0.8756713371653065\n",
            "r2_score for test data : 0.7544009889404104\n"
          ]
        }
      ],
      "source": [
        "new_rf = RandomForestRegressor(criterion='squared_error',max_depth=25,max_features='sqrt',n_estimators=100)\n",
        "\n",
        "new_rf.fit(x_train.values,y_train)\n",
        "\n",
        "ypred_train = new_rf.predict(x_train.values)\n",
        "ypred_test = new_rf.predict(x_test.values)\n",
        "\n",
        "print(f\"r2_score for train data : {r2_score(ypred_train,y_train)}\")\n",
        "print(f\"r2_score for test data : {r2_score(ypred_test,y_test)}\")"
      ]
    },
    {
      "cell_type": "code",
      "execution_count": 15,
      "id": "846fce1a",
      "metadata": {},
      "outputs": [],
      "source": [
        "from sklearn.pipeline import make_pipeline\n",
        "from sklearn import set_config\n",
        "set_config(display='diagram')"
      ]
    },
    {
      "cell_type": "code",
      "execution_count": 16,
      "id": "85624c46",
      "metadata": {},
      "outputs": [],
      "source": [
        "trf1 = pkl.load(open('ohe.pkl','rb'))"
      ]
    },
    {
      "cell_type": "code",
      "execution_count": 17,
      "id": "a1f4ff30",
      "metadata": {},
      "outputs": [],
      "source": [
        "trf2 = ss"
      ]
    },
    {
      "cell_type": "code",
      "execution_count": 18,
      "id": "9abe6598",
      "metadata": {},
      "outputs": [],
      "source": [
        "trf3 = sr"
      ]
    },
    {
      "cell_type": "code",
      "execution_count": 19,
      "id": "7df7a4bc",
      "metadata": {},
      "outputs": [],
      "source": [
        "pipe = make_pipeline(trf1,trf2,trf3)"
      ]
    },
    {
      "cell_type": "code",
      "execution_count": 20,
      "id": "1da926e5",
      "metadata": {},
      "outputs": [
        {
          "data": {
            "text/plain": [
              "{'columntransformer': ColumnTransformer(remainder='passthrough',\n",
              "                   transformers=[('ohe',\n",
              "                                  OneHotEncoder(dtype=<class 'numpy.int32'>,\n",
              "                                                sparse_output=False),\n",
              "                                  [0])]),\n",
              " 'standardscaler': StandardScaler(),\n",
              " 'stackingregressor': StackingRegressor(estimators=[('sgd',\n",
              "                                SGDRegressor(alpha=0.01, eta0=0.001,\n",
              "                                             loss='squared_epsilon_insensitive',\n",
              "                                             max_iter=8000,\n",
              "                                             penalty='elasticnet')),\n",
              "                               ('knn',\n",
              "                                KNeighborsRegressor(algorithm='kd_tree',\n",
              "                                                    n_jobs=-1, n_neighbors=2,\n",
              "                                                    weights='distance')),\n",
              "                               ('dt',\n",
              "                                DecisionTreeRegressor(criterion='absolute_error',\n",
              "                                                      max_depth=20,\n",
              "                                                      max_features=237,\n",
              "                                                      min_samples_split=15),\n",
              "                                ('ab',\n",
              "                                 AdaBoostRegressor(estimator=DecisionTreeRegressor(max_depth=6),\n",
              "                                                   learning_rate=0.1,\n",
              "                                                   loss='exponential',\n",
              "                                                   n_estimators=150)))],\n",
              "                   final_estimator=GradientBoostingRegressor(), n_jobs=-1,\n",
              "                   verbose=True)}"
            ]
          },
          "execution_count": 20,
          "metadata": {},
          "output_type": "execute_result"
        }
      ],
      "source": [
        "pipe.named_steps"
      ]
    },
    {
      "cell_type": "code",
      "execution_count": 21,
      "id": "7a076c89",
      "metadata": {},
      "outputs": [],
      "source": [
        "pkl.dump(pipe,open('model.pkl','wb'))"
      ]
    },
    {
      "cell_type": "code",
      "execution_count": null,
      "id": "2360a6a3",
      "metadata": {},
      "outputs": [],
      "source": []
    }
  ],
  "metadata": {
    "accelerator": "GPU",
    "colab": {
      "gpuType": "T4",
      "provenance": []
    },
    "kernelspec": {
      "display_name": "Python 3",
      "name": "python3"
    },
    "language_info": {
      "codemirror_mode": {
        "name": "ipython",
        "version": 3
      },
      "file_extension": ".py",
      "mimetype": "text/x-python",
      "name": "python",
      "nbconvert_exporter": "python",
      "pygments_lexer": "ipython3",
      "version": "3.11.4"
    }
  },
  "nbformat": 4,
  "nbformat_minor": 5
}
